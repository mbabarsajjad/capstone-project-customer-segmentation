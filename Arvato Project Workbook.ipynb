{
 "cells": [
  {
   "cell_type": "markdown",
   "metadata": {},
   "source": [
    "# Capstone Project: Create a Customer Segmentation Report for Arvato Financial Services\n",
    "\n",
    "In this project, you will analyze demographics data for customers of a mail-order sales company in Germany, comparing it against demographics information for the general population. You'll use unsupervised learning techniques to perform customer segmentation, identifying the parts of the population that best describe the core customer base of the company. Then, you'll apply what you've learned on a third dataset with demographics information for targets of a marketing campaign for the company, and use a model to predict which individuals are most likely to convert into becoming customers for the company. The data that you will use has been provided by our partners at Bertelsmann Arvato Analytics, and represents a real-life data science task.\n",
    "\n",
    "If you completed the first term of this program, you will be familiar with the first part of this project, from the unsupervised learning project. The versions of those two datasets used in this project will include many more features and has not been pre-cleaned. You are also free to choose whatever approach you'd like to analyzing the data rather than follow pre-determined steps. In your work on this project, make sure that you carefully document your steps and decisions, since your main deliverable for this project will be a blog post reporting your findings."
   ]
  },
  {
   "cell_type": "code",
   "execution_count": 46,
   "metadata": {},
   "outputs": [
    {
     "name": "stdout",
     "output_type": "stream",
     "text": [
      "Requirement already satisfied: xgboost in /opt/conda/lib/python3.6/site-packages (1.0.2)\n",
      "Requirement already satisfied: scipy in /opt/conda/lib/python3.6/site-packages (from xgboost) (1.2.1)\n",
      "Requirement already satisfied: numpy in /opt/conda/lib/python3.6/site-packages (from xgboost) (1.12.1)\n"
     ]
    }
   ],
   "source": [
    "import sys\n",
    "!{sys.executable} -m pip install xgboost"
   ]
  },
  {
   "cell_type": "code",
   "execution_count": 24,
   "metadata": {},
   "outputs": [],
   "source": [
    "# import libraries here; add more as necessary\n",
    "import numpy as np\n",
    "import pandas as pd\n",
    "import matplotlib.pyplot as plt\n",
    "import seaborn as sns\n",
    "import string\n",
    "from sklearn.ensemble import RandomForestClassifier\n",
    "from xgboost.sklearn import XGBRegressor \n",
    "from sklearn.ensemble import AdaBoostRegressor \n",
    "from sklearn.ensemble import GradientBoostingRegressor\n",
    "from sklearn.model_selection import StratifiedKFold, cross_val_score, GridSearchCV\n",
    "from sklearn.metrics import roc_auc_score\n",
    "from time import time\n",
    "from sklearn.pipeline import Pipeline\n",
    "import traceback\n",
    "from sklearn.preprocessing import StandardScaler\n",
    "\n",
    "import pickle\n",
    "from sklearn.externals import joblib\n",
    "\n",
    "# magic word for producing visualizations in notebook\n",
    "%matplotlib inline"
   ]
  },
  {
   "cell_type": "markdown",
   "metadata": {},
   "source": [
    "## Part 0: Get to Know the Data\n",
    "\n",
    "There are four data files associated with this project:\n",
    "\n",
    "- `Udacity_AZDIAS_052018.csv`: Demographics data for the general population of Germany; 891 211 persons (rows) x 366 features (columns).\n",
    "- `Udacity_CUSTOMERS_052018.csv`: Demographics data for customers of a mail-order company; 191 652 persons (rows) x 369 features (columns).\n",
    "- `Udacity_MAILOUT_052018_TRAIN.csv`: Demographics data for individuals who were targets of a marketing campaign; 42 982 persons (rows) x 367 (columns).\n",
    "- `Udacity_MAILOUT_052018_TEST.csv`: Demographics data for individuals who were targets of a marketing campaign; 42 833 persons (rows) x 366 (columns).\n",
    "\n",
    "Each row of the demographics files represents a single person, but also includes information outside of individuals, including information about their household, building, and neighborhood. Use the information from the first two files to figure out how customers (\"CUSTOMERS\") are similar to or differ from the general population at large (\"AZDIAS\"), then use your analysis to make predictions on the other two files (\"MAILOUT\"), predicting which recipients are most likely to become a customer for the mail-order company.\n",
    "\n",
    "The \"CUSTOMERS\" file contains three extra columns ('CUSTOMER_GROUP', 'ONLINE_PURCHASE', and 'PRODUCT_GROUP'), which provide broad information about the customers depicted in the file. The original \"MAILOUT\" file included one additional column, \"RESPONSE\", which indicated whether or not each recipient became a customer of the company. For the \"TRAIN\" subset, this column has been retained, but in the \"TEST\" subset it has been removed; it is against that withheld column that your final predictions will be assessed in the Kaggle competition.\n",
    "\n",
    "Otherwise, all of the remaining columns are the same between the three data files. For more information about the columns depicted in the files, you can refer to two Excel spreadsheets provided in the workspace. [One of them](./DIAS Information Levels - Attributes 2017.xlsx) is a top-level list of attributes and descriptions, organized by informational category. [The other](./DIAS Attributes - Values 2017.xlsx) is a detailed mapping of data values for each feature in alphabetical order.\n",
    "\n",
    "In the below cell, we've provided some initial code to load in the first two datasets. Note for all of the `.csv` data files in this project that they're semicolon (`;`) delimited, so an additional argument in the [`read_csv()`](https://pandas.pydata.org/pandas-docs/stable/generated/pandas.read_csv.html) call has been included to read in the data properly. Also, considering the size of the datasets, it may take some time for them to load completely.\n",
    "\n",
    "You'll notice when the data is loaded in that a warning message will immediately pop up. Before you really start digging into the modeling and analysis, you're going to need to perform some cleaning. Take some time to browse the structure of the data and look over the informational spreadsheets to understand the data values. Make some decisions on which features to keep, which features to drop, and if any revisions need to be made on data formats. It'll be a good idea to create a function with pre-processing steps, since you'll need to clean all of the datasets before you work with them."
   ]
  },
  {
   "cell_type": "code",
   "execution_count": 4,
   "metadata": {},
   "outputs": [],
   "source": [
    "# load in the data\n",
    "azdias = pd.read_csv('../../data/Term2/capstone/arvato_data/Udacity_AZDIAS_052018.csv', sep=';', dtype={18:'str',19:'str'})\n",
    "customers = pd.read_csv('../../data/Term2/capstone/arvato_data/Udacity_CUSTOMERS_052018.csv', sep=';', dtype={18:'str',19:'str'})\n",
    "customers.drop(columns=['CUSTOMER_GROUP', 'ONLINE_PURCHASE', 'PRODUCT_GROUP'], inplace=True)"
   ]
  },
  {
   "cell_type": "code",
   "execution_count": 5,
   "metadata": {},
   "outputs": [
    {
     "data": {
      "text/html": [
       "<div>\n",
       "<style scoped>\n",
       "    .dataframe tbody tr th:only-of-type {\n",
       "        vertical-align: middle;\n",
       "    }\n",
       "\n",
       "    .dataframe tbody tr th {\n",
       "        vertical-align: top;\n",
       "    }\n",
       "\n",
       "    .dataframe thead th {\n",
       "        text-align: right;\n",
       "    }\n",
       "</style>\n",
       "<table border=\"1\" class=\"dataframe\">\n",
       "  <thead>\n",
       "    <tr style=\"text-align: right;\">\n",
       "      <th></th>\n",
       "      <th>LNR</th>\n",
       "      <th>AGER_TYP</th>\n",
       "      <th>AKT_DAT_KL</th>\n",
       "      <th>ALTER_HH</th>\n",
       "      <th>ALTER_KIND1</th>\n",
       "      <th>ALTER_KIND2</th>\n",
       "      <th>ALTER_KIND3</th>\n",
       "      <th>ALTER_KIND4</th>\n",
       "      <th>ALTERSKATEGORIE_FEIN</th>\n",
       "      <th>ANZ_HAUSHALTE_AKTIV</th>\n",
       "      <th>...</th>\n",
       "      <th>VHN</th>\n",
       "      <th>VK_DHT4A</th>\n",
       "      <th>VK_DISTANZ</th>\n",
       "      <th>VK_ZG11</th>\n",
       "      <th>W_KEIT_KIND_HH</th>\n",
       "      <th>WOHNDAUER_2008</th>\n",
       "      <th>WOHNLAGE</th>\n",
       "      <th>ZABEOTYP</th>\n",
       "      <th>ANREDE_KZ</th>\n",
       "      <th>ALTERSKATEGORIE_GROB</th>\n",
       "    </tr>\n",
       "  </thead>\n",
       "  <tbody>\n",
       "    <tr>\n",
       "      <th>0</th>\n",
       "      <td>910215</td>\n",
       "      <td>-1</td>\n",
       "      <td>NaN</td>\n",
       "      <td>NaN</td>\n",
       "      <td>NaN</td>\n",
       "      <td>NaN</td>\n",
       "      <td>NaN</td>\n",
       "      <td>NaN</td>\n",
       "      <td>NaN</td>\n",
       "      <td>NaN</td>\n",
       "      <td>...</td>\n",
       "      <td>NaN</td>\n",
       "      <td>NaN</td>\n",
       "      <td>NaN</td>\n",
       "      <td>NaN</td>\n",
       "      <td>NaN</td>\n",
       "      <td>NaN</td>\n",
       "      <td>NaN</td>\n",
       "      <td>3</td>\n",
       "      <td>1</td>\n",
       "      <td>2</td>\n",
       "    </tr>\n",
       "    <tr>\n",
       "      <th>1</th>\n",
       "      <td>910220</td>\n",
       "      <td>-1</td>\n",
       "      <td>9.0</td>\n",
       "      <td>0.0</td>\n",
       "      <td>NaN</td>\n",
       "      <td>NaN</td>\n",
       "      <td>NaN</td>\n",
       "      <td>NaN</td>\n",
       "      <td>21.0</td>\n",
       "      <td>11.0</td>\n",
       "      <td>...</td>\n",
       "      <td>4.0</td>\n",
       "      <td>8.0</td>\n",
       "      <td>11.0</td>\n",
       "      <td>10.0</td>\n",
       "      <td>3.0</td>\n",
       "      <td>9.0</td>\n",
       "      <td>4.0</td>\n",
       "      <td>5</td>\n",
       "      <td>2</td>\n",
       "      <td>1</td>\n",
       "    </tr>\n",
       "    <tr>\n",
       "      <th>2</th>\n",
       "      <td>910225</td>\n",
       "      <td>-1</td>\n",
       "      <td>9.0</td>\n",
       "      <td>17.0</td>\n",
       "      <td>NaN</td>\n",
       "      <td>NaN</td>\n",
       "      <td>NaN</td>\n",
       "      <td>NaN</td>\n",
       "      <td>17.0</td>\n",
       "      <td>10.0</td>\n",
       "      <td>...</td>\n",
       "      <td>2.0</td>\n",
       "      <td>9.0</td>\n",
       "      <td>9.0</td>\n",
       "      <td>6.0</td>\n",
       "      <td>3.0</td>\n",
       "      <td>9.0</td>\n",
       "      <td>2.0</td>\n",
       "      <td>5</td>\n",
       "      <td>2</td>\n",
       "      <td>3</td>\n",
       "    </tr>\n",
       "    <tr>\n",
       "      <th>3</th>\n",
       "      <td>910226</td>\n",
       "      <td>2</td>\n",
       "      <td>1.0</td>\n",
       "      <td>13.0</td>\n",
       "      <td>NaN</td>\n",
       "      <td>NaN</td>\n",
       "      <td>NaN</td>\n",
       "      <td>NaN</td>\n",
       "      <td>13.0</td>\n",
       "      <td>1.0</td>\n",
       "      <td>...</td>\n",
       "      <td>0.0</td>\n",
       "      <td>7.0</td>\n",
       "      <td>10.0</td>\n",
       "      <td>11.0</td>\n",
       "      <td>NaN</td>\n",
       "      <td>9.0</td>\n",
       "      <td>7.0</td>\n",
       "      <td>3</td>\n",
       "      <td>2</td>\n",
       "      <td>4</td>\n",
       "    </tr>\n",
       "    <tr>\n",
       "      <th>4</th>\n",
       "      <td>910241</td>\n",
       "      <td>-1</td>\n",
       "      <td>1.0</td>\n",
       "      <td>20.0</td>\n",
       "      <td>NaN</td>\n",
       "      <td>NaN</td>\n",
       "      <td>NaN</td>\n",
       "      <td>NaN</td>\n",
       "      <td>14.0</td>\n",
       "      <td>3.0</td>\n",
       "      <td>...</td>\n",
       "      <td>2.0</td>\n",
       "      <td>3.0</td>\n",
       "      <td>5.0</td>\n",
       "      <td>4.0</td>\n",
       "      <td>2.0</td>\n",
       "      <td>9.0</td>\n",
       "      <td>3.0</td>\n",
       "      <td>4</td>\n",
       "      <td>1</td>\n",
       "      <td>3</td>\n",
       "    </tr>\n",
       "  </tbody>\n",
       "</table>\n",
       "<p>5 rows × 366 columns</p>\n",
       "</div>"
      ],
      "text/plain": [
       "      LNR  AGER_TYP  AKT_DAT_KL  ALTER_HH  ALTER_KIND1  ALTER_KIND2  \\\n",
       "0  910215        -1         NaN       NaN          NaN          NaN   \n",
       "1  910220        -1         9.0       0.0          NaN          NaN   \n",
       "2  910225        -1         9.0      17.0          NaN          NaN   \n",
       "3  910226         2         1.0      13.0          NaN          NaN   \n",
       "4  910241        -1         1.0      20.0          NaN          NaN   \n",
       "\n",
       "   ALTER_KIND3  ALTER_KIND4  ALTERSKATEGORIE_FEIN  ANZ_HAUSHALTE_AKTIV  \\\n",
       "0          NaN          NaN                   NaN                  NaN   \n",
       "1          NaN          NaN                  21.0                 11.0   \n",
       "2          NaN          NaN                  17.0                 10.0   \n",
       "3          NaN          NaN                  13.0                  1.0   \n",
       "4          NaN          NaN                  14.0                  3.0   \n",
       "\n",
       "          ...           VHN  VK_DHT4A  VK_DISTANZ  VK_ZG11  W_KEIT_KIND_HH  \\\n",
       "0         ...           NaN       NaN         NaN      NaN             NaN   \n",
       "1         ...           4.0       8.0        11.0     10.0             3.0   \n",
       "2         ...           2.0       9.0         9.0      6.0             3.0   \n",
       "3         ...           0.0       7.0        10.0     11.0             NaN   \n",
       "4         ...           2.0       3.0         5.0      4.0             2.0   \n",
       "\n",
       "   WOHNDAUER_2008  WOHNLAGE ZABEOTYP ANREDE_KZ ALTERSKATEGORIE_GROB  \n",
       "0             NaN       NaN        3         1                    2  \n",
       "1             9.0       4.0        5         2                    1  \n",
       "2             9.0       2.0        5         2                    3  \n",
       "3             9.0       7.0        3         2                    4  \n",
       "4             9.0       3.0        4         1                    3  \n",
       "\n",
       "[5 rows x 366 columns]"
      ]
     },
     "execution_count": 5,
     "metadata": {},
     "output_type": "execute_result"
    }
   ],
   "source": [
    "azdias.head()"
   ]
  },
  {
   "cell_type": "code",
   "execution_count": 6,
   "metadata": {},
   "outputs": [],
   "source": [
    "# Be sure to add in a lot more cells (both markdown and code) to document your\n",
    "# approach and findings!"
   ]
  },
  {
   "cell_type": "code",
   "execution_count": 7,
   "metadata": {},
   "outputs": [
    {
     "data": {
      "text/html": [
       "<div>\n",
       "<style scoped>\n",
       "    .dataframe tbody tr th:only-of-type {\n",
       "        vertical-align: middle;\n",
       "    }\n",
       "\n",
       "    .dataframe tbody tr th {\n",
       "        vertical-align: top;\n",
       "    }\n",
       "\n",
       "    .dataframe thead th {\n",
       "        text-align: right;\n",
       "    }\n",
       "</style>\n",
       "<table border=\"1\" class=\"dataframe\">\n",
       "  <thead>\n",
       "    <tr style=\"text-align: right;\">\n",
       "      <th></th>\n",
       "      <th>LNR</th>\n",
       "      <th>AGER_TYP</th>\n",
       "      <th>AKT_DAT_KL</th>\n",
       "      <th>ALTER_HH</th>\n",
       "      <th>ALTER_KIND1</th>\n",
       "      <th>ALTER_KIND2</th>\n",
       "      <th>ALTER_KIND3</th>\n",
       "      <th>ALTER_KIND4</th>\n",
       "      <th>ALTERSKATEGORIE_FEIN</th>\n",
       "      <th>ANZ_HAUSHALTE_AKTIV</th>\n",
       "      <th>...</th>\n",
       "      <th>VHN</th>\n",
       "      <th>VK_DHT4A</th>\n",
       "      <th>VK_DISTANZ</th>\n",
       "      <th>VK_ZG11</th>\n",
       "      <th>W_KEIT_KIND_HH</th>\n",
       "      <th>WOHNDAUER_2008</th>\n",
       "      <th>WOHNLAGE</th>\n",
       "      <th>ZABEOTYP</th>\n",
       "      <th>ANREDE_KZ</th>\n",
       "      <th>ALTERSKATEGORIE_GROB</th>\n",
       "    </tr>\n",
       "  </thead>\n",
       "  <tbody>\n",
       "    <tr>\n",
       "      <th>count</th>\n",
       "      <td>8.912210e+05</td>\n",
       "      <td>891221.000000</td>\n",
       "      <td>817722.000000</td>\n",
       "      <td>817722.000000</td>\n",
       "      <td>81058.000000</td>\n",
       "      <td>29499.000000</td>\n",
       "      <td>6170.000000</td>\n",
       "      <td>1205.000000</td>\n",
       "      <td>628274.000000</td>\n",
       "      <td>798073.000000</td>\n",
       "      <td>...</td>\n",
       "      <td>770025.000000</td>\n",
       "      <td>815304.000000</td>\n",
       "      <td>815304.000000</td>\n",
       "      <td>815304.000000</td>\n",
       "      <td>783619.000000</td>\n",
       "      <td>817722.000000</td>\n",
       "      <td>798073.000000</td>\n",
       "      <td>891221.000000</td>\n",
       "      <td>891221.000000</td>\n",
       "      <td>891221.000000</td>\n",
       "    </tr>\n",
       "    <tr>\n",
       "      <th>mean</th>\n",
       "      <td>6.372630e+05</td>\n",
       "      <td>-0.358435</td>\n",
       "      <td>4.421928</td>\n",
       "      <td>10.864126</td>\n",
       "      <td>11.745392</td>\n",
       "      <td>13.402658</td>\n",
       "      <td>14.476013</td>\n",
       "      <td>15.089627</td>\n",
       "      <td>13.700717</td>\n",
       "      <td>8.287263</td>\n",
       "      <td>...</td>\n",
       "      <td>2.417322</td>\n",
       "      <td>6.001214</td>\n",
       "      <td>7.532130</td>\n",
       "      <td>5.945972</td>\n",
       "      <td>3.933406</td>\n",
       "      <td>7.908791</td>\n",
       "      <td>4.052836</td>\n",
       "      <td>3.362438</td>\n",
       "      <td>1.522098</td>\n",
       "      <td>2.777398</td>\n",
       "    </tr>\n",
       "    <tr>\n",
       "      <th>std</th>\n",
       "      <td>2.572735e+05</td>\n",
       "      <td>1.198724</td>\n",
       "      <td>3.638805</td>\n",
       "      <td>7.639683</td>\n",
       "      <td>4.097660</td>\n",
       "      <td>3.243300</td>\n",
       "      <td>2.712427</td>\n",
       "      <td>2.452932</td>\n",
       "      <td>5.079849</td>\n",
       "      <td>15.628087</td>\n",
       "      <td>...</td>\n",
       "      <td>1.166572</td>\n",
       "      <td>2.856091</td>\n",
       "      <td>3.247789</td>\n",
       "      <td>2.771464</td>\n",
       "      <td>1.964701</td>\n",
       "      <td>1.923137</td>\n",
       "      <td>1.949539</td>\n",
       "      <td>1.352704</td>\n",
       "      <td>0.499512</td>\n",
       "      <td>1.068775</td>\n",
       "    </tr>\n",
       "    <tr>\n",
       "      <th>min</th>\n",
       "      <td>1.916530e+05</td>\n",
       "      <td>-1.000000</td>\n",
       "      <td>1.000000</td>\n",
       "      <td>0.000000</td>\n",
       "      <td>2.000000</td>\n",
       "      <td>2.000000</td>\n",
       "      <td>4.000000</td>\n",
       "      <td>7.000000</td>\n",
       "      <td>0.000000</td>\n",
       "      <td>0.000000</td>\n",
       "      <td>...</td>\n",
       "      <td>0.000000</td>\n",
       "      <td>1.000000</td>\n",
       "      <td>1.000000</td>\n",
       "      <td>1.000000</td>\n",
       "      <td>0.000000</td>\n",
       "      <td>1.000000</td>\n",
       "      <td>0.000000</td>\n",
       "      <td>1.000000</td>\n",
       "      <td>1.000000</td>\n",
       "      <td>1.000000</td>\n",
       "    </tr>\n",
       "    <tr>\n",
       "      <th>25%</th>\n",
       "      <td>4.144580e+05</td>\n",
       "      <td>-1.000000</td>\n",
       "      <td>1.000000</td>\n",
       "      <td>0.000000</td>\n",
       "      <td>8.000000</td>\n",
       "      <td>11.000000</td>\n",
       "      <td>13.000000</td>\n",
       "      <td>14.000000</td>\n",
       "      <td>11.000000</td>\n",
       "      <td>1.000000</td>\n",
       "      <td>...</td>\n",
       "      <td>2.000000</td>\n",
       "      <td>3.000000</td>\n",
       "      <td>5.000000</td>\n",
       "      <td>4.000000</td>\n",
       "      <td>2.000000</td>\n",
       "      <td>8.000000</td>\n",
       "      <td>3.000000</td>\n",
       "      <td>3.000000</td>\n",
       "      <td>1.000000</td>\n",
       "      <td>2.000000</td>\n",
       "    </tr>\n",
       "    <tr>\n",
       "      <th>50%</th>\n",
       "      <td>6.372630e+05</td>\n",
       "      <td>-1.000000</td>\n",
       "      <td>3.000000</td>\n",
       "      <td>13.000000</td>\n",
       "      <td>12.000000</td>\n",
       "      <td>14.000000</td>\n",
       "      <td>15.000000</td>\n",
       "      <td>15.000000</td>\n",
       "      <td>14.000000</td>\n",
       "      <td>4.000000</td>\n",
       "      <td>...</td>\n",
       "      <td>2.000000</td>\n",
       "      <td>6.000000</td>\n",
       "      <td>8.000000</td>\n",
       "      <td>6.000000</td>\n",
       "      <td>4.000000</td>\n",
       "      <td>9.000000</td>\n",
       "      <td>3.000000</td>\n",
       "      <td>3.000000</td>\n",
       "      <td>2.000000</td>\n",
       "      <td>3.000000</td>\n",
       "    </tr>\n",
       "    <tr>\n",
       "      <th>75%</th>\n",
       "      <td>8.600680e+05</td>\n",
       "      <td>-1.000000</td>\n",
       "      <td>9.000000</td>\n",
       "      <td>17.000000</td>\n",
       "      <td>15.000000</td>\n",
       "      <td>16.000000</td>\n",
       "      <td>17.000000</td>\n",
       "      <td>17.000000</td>\n",
       "      <td>17.000000</td>\n",
       "      <td>9.000000</td>\n",
       "      <td>...</td>\n",
       "      <td>3.000000</td>\n",
       "      <td>9.000000</td>\n",
       "      <td>10.000000</td>\n",
       "      <td>8.000000</td>\n",
       "      <td>6.000000</td>\n",
       "      <td>9.000000</td>\n",
       "      <td>5.000000</td>\n",
       "      <td>4.000000</td>\n",
       "      <td>2.000000</td>\n",
       "      <td>4.000000</td>\n",
       "    </tr>\n",
       "    <tr>\n",
       "      <th>max</th>\n",
       "      <td>1.082873e+06</td>\n",
       "      <td>3.000000</td>\n",
       "      <td>9.000000</td>\n",
       "      <td>21.000000</td>\n",
       "      <td>18.000000</td>\n",
       "      <td>18.000000</td>\n",
       "      <td>18.000000</td>\n",
       "      <td>18.000000</td>\n",
       "      <td>25.000000</td>\n",
       "      <td>595.000000</td>\n",
       "      <td>...</td>\n",
       "      <td>4.000000</td>\n",
       "      <td>11.000000</td>\n",
       "      <td>13.000000</td>\n",
       "      <td>11.000000</td>\n",
       "      <td>6.000000</td>\n",
       "      <td>9.000000</td>\n",
       "      <td>8.000000</td>\n",
       "      <td>6.000000</td>\n",
       "      <td>2.000000</td>\n",
       "      <td>9.000000</td>\n",
       "    </tr>\n",
       "  </tbody>\n",
       "</table>\n",
       "<p>8 rows × 360 columns</p>\n",
       "</div>"
      ],
      "text/plain": [
       "                LNR       AGER_TYP     AKT_DAT_KL       ALTER_HH  \\\n",
       "count  8.912210e+05  891221.000000  817722.000000  817722.000000   \n",
       "mean   6.372630e+05      -0.358435       4.421928      10.864126   \n",
       "std    2.572735e+05       1.198724       3.638805       7.639683   \n",
       "min    1.916530e+05      -1.000000       1.000000       0.000000   \n",
       "25%    4.144580e+05      -1.000000       1.000000       0.000000   \n",
       "50%    6.372630e+05      -1.000000       3.000000      13.000000   \n",
       "75%    8.600680e+05      -1.000000       9.000000      17.000000   \n",
       "max    1.082873e+06       3.000000       9.000000      21.000000   \n",
       "\n",
       "        ALTER_KIND1   ALTER_KIND2  ALTER_KIND3  ALTER_KIND4  \\\n",
       "count  81058.000000  29499.000000  6170.000000  1205.000000   \n",
       "mean      11.745392     13.402658    14.476013    15.089627   \n",
       "std        4.097660      3.243300     2.712427     2.452932   \n",
       "min        2.000000      2.000000     4.000000     7.000000   \n",
       "25%        8.000000     11.000000    13.000000    14.000000   \n",
       "50%       12.000000     14.000000    15.000000    15.000000   \n",
       "75%       15.000000     16.000000    17.000000    17.000000   \n",
       "max       18.000000     18.000000    18.000000    18.000000   \n",
       "\n",
       "       ALTERSKATEGORIE_FEIN  ANZ_HAUSHALTE_AKTIV          ...           \\\n",
       "count         628274.000000        798073.000000          ...            \n",
       "mean              13.700717             8.287263          ...            \n",
       "std                5.079849            15.628087          ...            \n",
       "min                0.000000             0.000000          ...            \n",
       "25%               11.000000             1.000000          ...            \n",
       "50%               14.000000             4.000000          ...            \n",
       "75%               17.000000             9.000000          ...            \n",
       "max               25.000000           595.000000          ...            \n",
       "\n",
       "                 VHN       VK_DHT4A     VK_DISTANZ        VK_ZG11  \\\n",
       "count  770025.000000  815304.000000  815304.000000  815304.000000   \n",
       "mean        2.417322       6.001214       7.532130       5.945972   \n",
       "std         1.166572       2.856091       3.247789       2.771464   \n",
       "min         0.000000       1.000000       1.000000       1.000000   \n",
       "25%         2.000000       3.000000       5.000000       4.000000   \n",
       "50%         2.000000       6.000000       8.000000       6.000000   \n",
       "75%         3.000000       9.000000      10.000000       8.000000   \n",
       "max         4.000000      11.000000      13.000000      11.000000   \n",
       "\n",
       "       W_KEIT_KIND_HH  WOHNDAUER_2008       WOHNLAGE       ZABEOTYP  \\\n",
       "count   783619.000000   817722.000000  798073.000000  891221.000000   \n",
       "mean         3.933406        7.908791       4.052836       3.362438   \n",
       "std          1.964701        1.923137       1.949539       1.352704   \n",
       "min          0.000000        1.000000       0.000000       1.000000   \n",
       "25%          2.000000        8.000000       3.000000       3.000000   \n",
       "50%          4.000000        9.000000       3.000000       3.000000   \n",
       "75%          6.000000        9.000000       5.000000       4.000000   \n",
       "max          6.000000        9.000000       8.000000       6.000000   \n",
       "\n",
       "           ANREDE_KZ  ALTERSKATEGORIE_GROB  \n",
       "count  891221.000000         891221.000000  \n",
       "mean        1.522098              2.777398  \n",
       "std         0.499512              1.068775  \n",
       "min         1.000000              1.000000  \n",
       "25%         1.000000              2.000000  \n",
       "50%         2.000000              3.000000  \n",
       "75%         2.000000              4.000000  \n",
       "max         2.000000              9.000000  \n",
       "\n",
       "[8 rows x 360 columns]"
      ]
     },
     "execution_count": 7,
     "metadata": {},
     "output_type": "execute_result"
    }
   ],
   "source": [
    "azdias.describe()"
   ]
  },
  {
   "cell_type": "code",
   "execution_count": 6,
   "metadata": {},
   "outputs": [],
   "source": [
    "azdias_copy = azdias.copy(deep=True)"
   ]
  },
  {
   "cell_type": "code",
   "execution_count": 7,
   "metadata": {},
   "outputs": [
    {
     "name": "stdout",
     "output_type": "stream",
     "text": [
      "number of rows and columns - gen. demo. data: (891221, 366)\n",
      "number of rows and columns - customers of mail order company: (191652, 366)\n"
     ]
    }
   ],
   "source": [
    "# Check the structure of the data after it's loaded (e.g. print the number of\n",
    "# rows and columns, print the first few rows).\n",
    "print('number of rows and columns - gen. demo. data:',azdias.shape)\n",
    "print('number of rows and columns - customers of mail order company:',customers.shape)"
   ]
  },
  {
   "cell_type": "code",
   "execution_count": 9,
   "metadata": {},
   "outputs": [
    {
     "data": {
      "text/html": [
       "<div>\n",
       "<style scoped>\n",
       "    .dataframe tbody tr th:only-of-type {\n",
       "        vertical-align: middle;\n",
       "    }\n",
       "\n",
       "    .dataframe tbody tr th {\n",
       "        vertical-align: top;\n",
       "    }\n",
       "\n",
       "    .dataframe thead th {\n",
       "        text-align: right;\n",
       "    }\n",
       "</style>\n",
       "<table border=\"1\" class=\"dataframe\">\n",
       "  <thead>\n",
       "    <tr style=\"text-align: right;\">\n",
       "      <th></th>\n",
       "      <th>LNR</th>\n",
       "      <th>AGER_TYP</th>\n",
       "      <th>AKT_DAT_KL</th>\n",
       "      <th>ALTER_HH</th>\n",
       "      <th>ALTER_KIND1</th>\n",
       "      <th>ALTER_KIND2</th>\n",
       "      <th>ALTER_KIND3</th>\n",
       "      <th>ALTER_KIND4</th>\n",
       "      <th>ALTERSKATEGORIE_FEIN</th>\n",
       "      <th>ANZ_HAUSHALTE_AKTIV</th>\n",
       "      <th>...</th>\n",
       "      <th>VHN</th>\n",
       "      <th>VK_DHT4A</th>\n",
       "      <th>VK_DISTANZ</th>\n",
       "      <th>VK_ZG11</th>\n",
       "      <th>W_KEIT_KIND_HH</th>\n",
       "      <th>WOHNDAUER_2008</th>\n",
       "      <th>WOHNLAGE</th>\n",
       "      <th>ZABEOTYP</th>\n",
       "      <th>ANREDE_KZ</th>\n",
       "      <th>ALTERSKATEGORIE_GROB</th>\n",
       "    </tr>\n",
       "  </thead>\n",
       "  <tbody>\n",
       "    <tr>\n",
       "      <th>0</th>\n",
       "      <td>9626</td>\n",
       "      <td>2</td>\n",
       "      <td>1.0</td>\n",
       "      <td>10.0</td>\n",
       "      <td>NaN</td>\n",
       "      <td>NaN</td>\n",
       "      <td>NaN</td>\n",
       "      <td>NaN</td>\n",
       "      <td>10.0</td>\n",
       "      <td>1.0</td>\n",
       "      <td>...</td>\n",
       "      <td>3.0</td>\n",
       "      <td>5.0</td>\n",
       "      <td>3.0</td>\n",
       "      <td>2.0</td>\n",
       "      <td>6.0</td>\n",
       "      <td>9.0</td>\n",
       "      <td>7.0</td>\n",
       "      <td>3</td>\n",
       "      <td>1</td>\n",
       "      <td>4</td>\n",
       "    </tr>\n",
       "    <tr>\n",
       "      <th>1</th>\n",
       "      <td>9628</td>\n",
       "      <td>-1</td>\n",
       "      <td>9.0</td>\n",
       "      <td>11.0</td>\n",
       "      <td>NaN</td>\n",
       "      <td>NaN</td>\n",
       "      <td>NaN</td>\n",
       "      <td>NaN</td>\n",
       "      <td>NaN</td>\n",
       "      <td>NaN</td>\n",
       "      <td>...</td>\n",
       "      <td>NaN</td>\n",
       "      <td>6.0</td>\n",
       "      <td>6.0</td>\n",
       "      <td>3.0</td>\n",
       "      <td>0.0</td>\n",
       "      <td>9.0</td>\n",
       "      <td>NaN</td>\n",
       "      <td>3</td>\n",
       "      <td>1</td>\n",
       "      <td>4</td>\n",
       "    </tr>\n",
       "    <tr>\n",
       "      <th>2</th>\n",
       "      <td>143872</td>\n",
       "      <td>-1</td>\n",
       "      <td>1.0</td>\n",
       "      <td>6.0</td>\n",
       "      <td>NaN</td>\n",
       "      <td>NaN</td>\n",
       "      <td>NaN</td>\n",
       "      <td>NaN</td>\n",
       "      <td>0.0</td>\n",
       "      <td>1.0</td>\n",
       "      <td>...</td>\n",
       "      <td>4.0</td>\n",
       "      <td>10.0</td>\n",
       "      <td>13.0</td>\n",
       "      <td>11.0</td>\n",
       "      <td>6.0</td>\n",
       "      <td>9.0</td>\n",
       "      <td>2.0</td>\n",
       "      <td>3</td>\n",
       "      <td>2</td>\n",
       "      <td>4</td>\n",
       "    </tr>\n",
       "    <tr>\n",
       "      <th>3</th>\n",
       "      <td>143873</td>\n",
       "      <td>1</td>\n",
       "      <td>1.0</td>\n",
       "      <td>8.0</td>\n",
       "      <td>NaN</td>\n",
       "      <td>NaN</td>\n",
       "      <td>NaN</td>\n",
       "      <td>NaN</td>\n",
       "      <td>8.0</td>\n",
       "      <td>0.0</td>\n",
       "      <td>...</td>\n",
       "      <td>2.0</td>\n",
       "      <td>6.0</td>\n",
       "      <td>4.0</td>\n",
       "      <td>2.0</td>\n",
       "      <td>NaN</td>\n",
       "      <td>9.0</td>\n",
       "      <td>7.0</td>\n",
       "      <td>1</td>\n",
       "      <td>1</td>\n",
       "      <td>4</td>\n",
       "    </tr>\n",
       "    <tr>\n",
       "      <th>4</th>\n",
       "      <td>143874</td>\n",
       "      <td>-1</td>\n",
       "      <td>1.0</td>\n",
       "      <td>20.0</td>\n",
       "      <td>NaN</td>\n",
       "      <td>NaN</td>\n",
       "      <td>NaN</td>\n",
       "      <td>NaN</td>\n",
       "      <td>14.0</td>\n",
       "      <td>7.0</td>\n",
       "      <td>...</td>\n",
       "      <td>4.0</td>\n",
       "      <td>3.0</td>\n",
       "      <td>5.0</td>\n",
       "      <td>4.0</td>\n",
       "      <td>2.0</td>\n",
       "      <td>9.0</td>\n",
       "      <td>3.0</td>\n",
       "      <td>1</td>\n",
       "      <td>1</td>\n",
       "      <td>3</td>\n",
       "    </tr>\n",
       "  </tbody>\n",
       "</table>\n",
       "<p>5 rows × 366 columns</p>\n",
       "</div>"
      ],
      "text/plain": [
       "      LNR  AGER_TYP  AKT_DAT_KL  ALTER_HH  ALTER_KIND1  ALTER_KIND2  \\\n",
       "0    9626         2         1.0      10.0          NaN          NaN   \n",
       "1    9628        -1         9.0      11.0          NaN          NaN   \n",
       "2  143872        -1         1.0       6.0          NaN          NaN   \n",
       "3  143873         1         1.0       8.0          NaN          NaN   \n",
       "4  143874        -1         1.0      20.0          NaN          NaN   \n",
       "\n",
       "   ALTER_KIND3  ALTER_KIND4  ALTERSKATEGORIE_FEIN  ANZ_HAUSHALTE_AKTIV  \\\n",
       "0          NaN          NaN                  10.0                  1.0   \n",
       "1          NaN          NaN                   NaN                  NaN   \n",
       "2          NaN          NaN                   0.0                  1.0   \n",
       "3          NaN          NaN                   8.0                  0.0   \n",
       "4          NaN          NaN                  14.0                  7.0   \n",
       "\n",
       "          ...           VHN  VK_DHT4A  VK_DISTANZ  VK_ZG11  W_KEIT_KIND_HH  \\\n",
       "0         ...           3.0       5.0         3.0      2.0             6.0   \n",
       "1         ...           NaN       6.0         6.0      3.0             0.0   \n",
       "2         ...           4.0      10.0        13.0     11.0             6.0   \n",
       "3         ...           2.0       6.0         4.0      2.0             NaN   \n",
       "4         ...           4.0       3.0         5.0      4.0             2.0   \n",
       "\n",
       "   WOHNDAUER_2008  WOHNLAGE ZABEOTYP ANREDE_KZ ALTERSKATEGORIE_GROB  \n",
       "0             9.0       7.0        3         1                    4  \n",
       "1             9.0       NaN        3         1                    4  \n",
       "2             9.0       2.0        3         2                    4  \n",
       "3             9.0       7.0        1         1                    4  \n",
       "4             9.0       3.0        1         1                    3  \n",
       "\n",
       "[5 rows x 366 columns]"
      ]
     },
     "execution_count": 9,
     "metadata": {},
     "output_type": "execute_result"
    }
   ],
   "source": [
    "customers.head()"
   ]
  },
  {
   "cell_type": "code",
   "execution_count": 2,
   "metadata": {},
   "outputs": [],
   "source": [
    "info_attributes = pd.read_excel('./DIAS Information Levels - Attributes 2017.xlsx')\n",
    "attributes_values = pd.read_excel('./DIAS Attributes - Values 2017.xlsx')\n",
    "\n",
    "# Reusing the Feature info provided for the other project\n",
    "feat_info = pd.read_csv('AZDIAS_Feature_Summary.csv', delimiter=';')"
   ]
  },
  {
   "cell_type": "code",
   "execution_count": 153,
   "metadata": {},
   "outputs": [
    {
     "data": {
      "text/html": [
       "<div>\n",
       "<style scoped>\n",
       "    .dataframe tbody tr th:only-of-type {\n",
       "        vertical-align: middle;\n",
       "    }\n",
       "\n",
       "    .dataframe tbody tr th {\n",
       "        vertical-align: top;\n",
       "    }\n",
       "\n",
       "    .dataframe thead th {\n",
       "        text-align: right;\n",
       "    }\n",
       "</style>\n",
       "<table border=\"1\" class=\"dataframe\">\n",
       "  <thead>\n",
       "    <tr style=\"text-align: right;\">\n",
       "      <th></th>\n",
       "      <th>Unnamed: 0</th>\n",
       "      <th>Attribute</th>\n",
       "      <th>Description</th>\n",
       "      <th>Value</th>\n",
       "      <th>Meaning</th>\n",
       "    </tr>\n",
       "  </thead>\n",
       "  <tbody>\n",
       "    <tr>\n",
       "      <th>0</th>\n",
       "      <td>NaN</td>\n",
       "      <td>AGER_TYP</td>\n",
       "      <td>best-ager typology</td>\n",
       "      <td>-1</td>\n",
       "      <td>unknown</td>\n",
       "    </tr>\n",
       "    <tr>\n",
       "      <th>1</th>\n",
       "      <td>NaN</td>\n",
       "      <td>NaN</td>\n",
       "      <td>NaN</td>\n",
       "      <td>0</td>\n",
       "      <td>no classification possible</td>\n",
       "    </tr>\n",
       "    <tr>\n",
       "      <th>2</th>\n",
       "      <td>NaN</td>\n",
       "      <td>NaN</td>\n",
       "      <td>NaN</td>\n",
       "      <td>1</td>\n",
       "      <td>passive elderly</td>\n",
       "    </tr>\n",
       "    <tr>\n",
       "      <th>3</th>\n",
       "      <td>NaN</td>\n",
       "      <td>NaN</td>\n",
       "      <td>NaN</td>\n",
       "      <td>2</td>\n",
       "      <td>cultural elderly</td>\n",
       "    </tr>\n",
       "    <tr>\n",
       "      <th>4</th>\n",
       "      <td>NaN</td>\n",
       "      <td>NaN</td>\n",
       "      <td>NaN</td>\n",
       "      <td>3</td>\n",
       "      <td>experience-driven elderly</td>\n",
       "    </tr>\n",
       "    <tr>\n",
       "      <th>5</th>\n",
       "      <td>NaN</td>\n",
       "      <td>ALTERSKATEGORIE_GROB</td>\n",
       "      <td>age classification through prename analysis</td>\n",
       "      <td>-1, 0</td>\n",
       "      <td>unknown</td>\n",
       "    </tr>\n",
       "  </tbody>\n",
       "</table>\n",
       "</div>"
      ],
      "text/plain": [
       "   Unnamed: 0             Attribute  \\\n",
       "0         NaN              AGER_TYP   \n",
       "1         NaN                   NaN   \n",
       "2         NaN                   NaN   \n",
       "3         NaN                   NaN   \n",
       "4         NaN                   NaN   \n",
       "5         NaN  ALTERSKATEGORIE_GROB   \n",
       "\n",
       "                                    Description  Value  \\\n",
       "0                            best-ager typology     -1   \n",
       "1                                           NaN      0   \n",
       "2                                           NaN      1   \n",
       "3                                           NaN      2   \n",
       "4                                           NaN      3   \n",
       "5  age classification through prename analysis   -1, 0   \n",
       "\n",
       "                      Meaning  \n",
       "0                     unknown  \n",
       "1  no classification possible  \n",
       "2             passive elderly  \n",
       "3            cultural elderly  \n",
       "4   experience-driven elderly  \n",
       "5                     unknown  "
      ]
     },
     "execution_count": 153,
     "metadata": {},
     "output_type": "execute_result"
    }
   ],
   "source": [
    "attributes_values.head(6)"
   ]
  },
  {
   "cell_type": "code",
   "execution_count": 154,
   "metadata": {},
   "outputs": [
    {
     "name": "stdout",
     "output_type": "stream",
     "text": [
      "Total attributes in DIAS Attributes - Values:  2258\n"
     ]
    }
   ],
   "source": [
    "attr_notna = attributes_values['Attribute'].fillna(method='ffill')\n",
    "print('Total attributes in DIAS Attributes - Values: ',len(attr_notna))\n",
    "\n",
    "attributes_values['Attribute'] = attr_notna"
   ]
  },
  {
   "cell_type": "code",
   "execution_count": 155,
   "metadata": {},
   "outputs": [],
   "source": [
    "# filtering for the unknowns i.e. 'unknown' or 'no '\n",
    "\n",
    "attributes_values = attributes_values[(attributes_values['Meaning'].str.contains(\"unknown\") | \n",
    "                                       attributes_values['Meaning'].str.contains(\"no \"))]"
   ]
  },
  {
   "cell_type": "code",
   "execution_count": 156,
   "metadata": {},
   "outputs": [
    {
     "data": {
      "text/html": [
       "<div>\n",
       "<style scoped>\n",
       "    .dataframe tbody tr th:only-of-type {\n",
       "        vertical-align: middle;\n",
       "    }\n",
       "\n",
       "    .dataframe tbody tr th {\n",
       "        vertical-align: top;\n",
       "    }\n",
       "\n",
       "    .dataframe thead th {\n",
       "        text-align: right;\n",
       "    }\n",
       "</style>\n",
       "<table border=\"1\" class=\"dataframe\">\n",
       "  <thead>\n",
       "    <tr style=\"text-align: right;\">\n",
       "      <th></th>\n",
       "      <th>Attribute</th>\n",
       "      <th>Value</th>\n",
       "    </tr>\n",
       "  </thead>\n",
       "  <tbody>\n",
       "    <tr>\n",
       "      <th>0</th>\n",
       "      <td>AGER_TYP</td>\n",
       "      <td>[-1, 0]</td>\n",
       "    </tr>\n",
       "    <tr>\n",
       "      <th>1</th>\n",
       "      <td>ALTERSKATEGORIE_GROB</td>\n",
       "      <td>[-1,  0]</td>\n",
       "    </tr>\n",
       "    <tr>\n",
       "      <th>2</th>\n",
       "      <td>ALTER_HH</td>\n",
       "      <td>[0]</td>\n",
       "    </tr>\n",
       "    <tr>\n",
       "      <th>3</th>\n",
       "      <td>ANREDE_KZ</td>\n",
       "      <td>[-1,  0]</td>\n",
       "    </tr>\n",
       "    <tr>\n",
       "      <th>4</th>\n",
       "      <td>BALLRAUM</td>\n",
       "      <td>[-1]</td>\n",
       "    </tr>\n",
       "  </tbody>\n",
       "</table>\n",
       "</div>"
      ],
      "text/plain": [
       "              Attribute     Value\n",
       "0              AGER_TYP   [-1, 0]\n",
       "1  ALTERSKATEGORIE_GROB  [-1,  0]\n",
       "2              ALTER_HH       [0]\n",
       "3             ANREDE_KZ  [-1,  0]\n",
       "4              BALLRAUM      [-1]"
      ]
     },
     "execution_count": 156,
     "metadata": {},
     "output_type": "execute_result"
    }
   ],
   "source": [
    "ls = []\n",
    "for attr in attributes_values['Attribute'].unique():\n",
    "    ele = attributes_values.loc[attributes_values['Attribute'] == attr, 'Value'].astype(str).str.cat(sep=',').split(',')\n",
    "    ls.append(ele)\n",
    "    \n",
    "attr_comb = pd.concat([pd.Series(attributes_values['Attribute'].unique()), pd.Series(ls)], axis=1)\n",
    "attr_comb.columns = ['Attribute', 'Value']\n",
    "attr_comb.head(5)"
   ]
  },
  {
   "cell_type": "code",
   "execution_count": 157,
   "metadata": {},
   "outputs": [
    {
     "name": "stdout",
     "output_type": "stream",
     "text": [
      "Total attributes in DIAS Attributes - Values:  302\n",
      "Total attributes in DIAS info file: 313\n",
      "Unknown values in DIAS Attributes - Values:  292\n"
     ]
    }
   ],
   "source": [
    "# Get the list of non nan Attributes\n",
    "\n",
    "attr_notna = attributes_values[attributes_values['Attribute'].notna()]\n",
    "print('Total attributes in DIAS Attributes - Values: ',len(attr_notna))\n",
    "\n",
    "print('Total attributes in DIAS info file:',len(set(info_attributes['Attribute'])))\n",
    "\n",
    "# List of Attributes with given unknowns\n",
    "print('Unknown values in DIAS Attributes - Values: ',len(set(attr_comb['Attribute'])))"
   ]
  },
  {
   "cell_type": "markdown",
   "metadata": {},
   "source": [
    "### Step 0.1: Combine both old and new features info files with unknowns  \n",
    "- and then remove the duplicate entries\n",
    "- and also remove the columns from info files which are not in azdias.\n",
    "\n"
   ]
  },
  {
   "cell_type": "code",
   "execution_count": 158,
   "metadata": {},
   "outputs": [],
   "source": [
    "# combining missing values from old and new files.\n",
    "\n",
    "new_attr = list(attr_comb['Attribute'])\n",
    "new_vals = list(attr_comb['Value'])\n",
    "\n",
    "n_val = []\n",
    "for i in new_vals:\n",
    "    string = str(i).replace(\"'\", \"\") \n",
    "    n_val.append(string)\n",
    "\n",
    "old_attr = list(feat_info['attribute'])\n",
    "old_vals = list(feat_info['missing_or_unknown'])\n",
    "\n",
    "comb_attr = old_attr + new_attr\n",
    "comb_vals = old_vals + n_val\n",
    "\n",
    "combined_feat_info = pd.DataFrame(list(zip(comb_attr, comb_vals)),columns=['Attributes', 'Missing'])"
   ]
  },
  {
   "cell_type": "code",
   "execution_count": 159,
   "metadata": {},
   "outputs": [
    {
     "data": {
      "text/plain": [
       "(317, 2)"
      ]
     },
     "execution_count": 159,
     "metadata": {},
     "output_type": "execute_result"
    }
   ],
   "source": [
    "# Remove duplicates in combined unknowns \n",
    "\n",
    "duplicate_attr = combined_feat_info.duplicated(subset=['Attributes'])\n",
    "\n",
    "# Print duplicates\n",
    "# if duplicate_attr.any():\n",
    "#     print(combined_feat_info.loc[duplicate_attr], end='\\n\\n')\n",
    "\n",
    "# drop duplicates in Attributes\n",
    "combined_feat_info.drop_duplicates(subset =\"Attributes\",inplace=True)\n",
    "combined_feat_info.shape"
   ]
  },
  {
   "cell_type": "code",
   "execution_count": 160,
   "metadata": {},
   "outputs": [],
   "source": [
    "# With the assumption that the features with D_19 prefix belong to the same category\n",
    "#Replacing e.g. D19_BIO_OEKO_RZ with D19_BIO_OEKO --> removing _RZ\n",
    "import re\n",
    "\n",
    "info_attributes['Attribute'] = info_attributes['Attribute'].apply(lambda x: re.sub('_RZ', '', x) if 'D19' in x else x)\n",
    "combined_feat_info['Attributes'] = combined_feat_info['Attributes'].apply(lambda x: re.sub('_RZ', '', x) if 'D19' in x else x)"
   ]
  },
  {
   "cell_type": "code",
   "execution_count": 161,
   "metadata": {},
   "outputs": [
    {
     "name": "stdout",
     "output_type": "stream",
     "text": [
      "9 ['BIP_FLAG', 'WACHSTUMSGEBIET_NB', 'D19_BUCH', 'CAMEO_DEUINTL_2015', 'SOHO_FLAG', 'HAUSHALTSSTRUKTUR', 'D19_KK_KUNDENTYP', 'KBA13_CCM_1400_2500', 'GEOSCORE_KLS7']\n"
     ]
    }
   ],
   "source": [
    "# Remove columns from combined unknowns  which are not in azdias\n",
    "\n",
    "not_in_azdias =  list(set(combined_feat_info['Attributes']) - set(azdias.columns))\n",
    "print(len(not_in_azdias), not_in_azdias)\n",
    "\n",
    "# Remove attributes\n",
    "for i in not_in_azdias:\n",
    "    combined_feat_info = combined_feat_info[combined_feat_info.Attributes != i]"
   ]
  },
  {
   "cell_type": "code",
   "execution_count": 162,
   "metadata": {},
   "outputs": [
    {
     "name": "stdout",
     "output_type": "stream",
     "text": [
      "Azdias attributes which are not in DIAS Attributes - Values: 42\n",
      "292 366\n"
     ]
    }
   ],
   "source": [
    "not_in_attr =  set(attr_notna['Attribute']) - set(azdias.columns)\n",
    "\n",
    "print('Azdias attributes which are not in DIAS Attributes - Values:', len(not_in_attr))\n",
    "print(len(set(attr_notna['Attribute'])), len(set(azdias.columns)))"
   ]
  },
  {
   "cell_type": "code",
   "execution_count": 163,
   "metadata": {},
   "outputs": [
    {
     "name": "stdout",
     "output_type": "stream",
     "text": [
      "Attributes not in DIAS Info file: 17 ['WACHSTUMSGEBIET_NB', 'PLZ8', 'PLZ', 'GKZ', 'CAMEO_DEUINTL_2015', 'SOHO_FLAG', 'D19_VERSAND_ ANZ_12          D19_VERSAND_ ANZ_24', 'D19_BUCH', 'HAUSHALTSSTRUKTUR', 'D19_KK_KUNDENTYP', 'D19_TELKO_ ANZ_12                  D19_TELKO_ ANZ_24', 'D19_GESAMT_ANZ_12                                    D19_GESAMT_ANZ_24', 'KBA13_CCM_1400_2500', 'D19_VERSI_ ANZ_12                                       D19_VERSI_ ANZ_24', 'EINWOHNER', 'D19_BANKEN_ ANZ_12             D19_BANKEN_ ANZ_24', 'GEOSCORE_KLS7']\n"
     ]
    }
   ],
   "source": [
    "not_in_az_infos = list(set(info_attributes['Attribute']) - set(azdias.columns))\n",
    "\n",
    "print('Attributes not in DIAS Info file:', len(not_in_az_infos), not_in_az_infos)"
   ]
  },
  {
   "cell_type": "code",
   "execution_count": 164,
   "metadata": {},
   "outputs": [],
   "source": [
    "# Removing info attributes which are not in azdias\n",
    "\n",
    "for i in not_in_az_infos:\n",
    "    info_attributes = info_attributes[info_attributes.Attribute != i]"
   ]
  },
  {
   "cell_type": "code",
   "execution_count": 165,
   "metadata": {},
   "outputs": [
    {
     "name": "stdout",
     "output_type": "stream",
     "text": [
      "Attributes not in DIAS Info file: 16 ['D19_VERSI_ANZ_24', 'KK_KUNDENTYP', 'KBA13_CCM_3001', 'D19_BANKEN_ANZ_12', 'D19_VERSI_ANZ_12', 'D19_GESAMT_ANZ_12', 'KBA13_CCM_3000', 'D19_LOTTO', 'SOHO_KZ', 'D19_GESAMT_ANZ_24', 'D19_BANKEN_ANZ_24', 'D19_TELKO_ANZ_12', 'D19_VERSAND_ANZ_24', 'D19_VERSAND_ANZ_12', 'D19_TELKO_ANZ_24', 'CAMEO_INTL_2015']\n"
     ]
    }
   ],
   "source": [
    "attr_not_in_infos = list(set(combined_feat_info['Attributes']) - set(info_attributes['Attribute']))\n",
    "print('Attributes not in DIAS Info file:', len(attr_not_in_infos), attr_not_in_infos)"
   ]
  },
  {
   "cell_type": "code",
   "execution_count": 166,
   "metadata": {},
   "outputs": [
    {
     "data": {
      "text/html": [
       "<div>\n",
       "<style scoped>\n",
       "    .dataframe tbody tr th:only-of-type {\n",
       "        vertical-align: middle;\n",
       "    }\n",
       "\n",
       "    .dataframe tbody tr th {\n",
       "        vertical-align: top;\n",
       "    }\n",
       "\n",
       "    .dataframe thead th {\n",
       "        text-align: right;\n",
       "    }\n",
       "</style>\n",
       "<table border=\"1\" class=\"dataframe\">\n",
       "  <thead>\n",
       "    <tr style=\"text-align: right;\">\n",
       "      <th></th>\n",
       "      <th>Unnamed: 0</th>\n",
       "      <th>Information level</th>\n",
       "      <th>Attribute</th>\n",
       "      <th>Description</th>\n",
       "      <th>Additional notes</th>\n",
       "    </tr>\n",
       "  </thead>\n",
       "  <tbody>\n",
       "    <tr>\n",
       "      <th>0</th>\n",
       "      <td>NaN</td>\n",
       "      <td>NaN</td>\n",
       "      <td>AGER_TYP</td>\n",
       "      <td>best-ager typology</td>\n",
       "      <td>in cooperation with Kantar TNS; the informatio...</td>\n",
       "    </tr>\n",
       "    <tr>\n",
       "      <th>1</th>\n",
       "      <td>NaN</td>\n",
       "      <td>Person</td>\n",
       "      <td>ALTERSKATEGORIE_GROB</td>\n",
       "      <td>age through prename analysis</td>\n",
       "      <td>modelled on millions of first name-age-referen...</td>\n",
       "    </tr>\n",
       "    <tr>\n",
       "      <th>2</th>\n",
       "      <td>NaN</td>\n",
       "      <td>NaN</td>\n",
       "      <td>ANREDE_KZ</td>\n",
       "      <td>gender</td>\n",
       "      <td>NaN</td>\n",
       "    </tr>\n",
       "    <tr>\n",
       "      <th>3</th>\n",
       "      <td>NaN</td>\n",
       "      <td>NaN</td>\n",
       "      <td>CJT_GESAMTTYP</td>\n",
       "      <td>Customer-Journey-Typology relating to the pref...</td>\n",
       "      <td>relating to the preferred information, marketi...</td>\n",
       "    </tr>\n",
       "    <tr>\n",
       "      <th>4</th>\n",
       "      <td>NaN</td>\n",
       "      <td>NaN</td>\n",
       "      <td>FINANZ_MINIMALIST</td>\n",
       "      <td>financial typology: low financial interest</td>\n",
       "      <td>Gfk-Typology based on a representative househo...</td>\n",
       "    </tr>\n",
       "  </tbody>\n",
       "</table>\n",
       "</div>"
      ],
      "text/plain": [
       "   Unnamed: 0 Information level             Attribute  \\\n",
       "0         NaN               NaN              AGER_TYP   \n",
       "1         NaN            Person  ALTERSKATEGORIE_GROB   \n",
       "2         NaN               NaN             ANREDE_KZ   \n",
       "3         NaN               NaN         CJT_GESAMTTYP   \n",
       "4         NaN               NaN     FINANZ_MINIMALIST   \n",
       "\n",
       "                                         Description  \\\n",
       "0                                 best-ager typology   \n",
       "1                      age through prename analysis    \n",
       "2                                             gender   \n",
       "3  Customer-Journey-Typology relating to the pref...   \n",
       "4         financial typology: low financial interest   \n",
       "\n",
       "                                    Additional notes  \n",
       "0  in cooperation with Kantar TNS; the informatio...  \n",
       "1  modelled on millions of first name-age-referen...  \n",
       "2                                                NaN  \n",
       "3  relating to the preferred information, marketi...  \n",
       "4  Gfk-Typology based on a representative househo...  "
      ]
     },
     "execution_count": 166,
     "metadata": {},
     "output_type": "execute_result"
    }
   ],
   "source": [
    "info_attributes.head()"
   ]
  },
  {
   "cell_type": "code",
   "execution_count": 167,
   "metadata": {},
   "outputs": [
    {
     "name": "stdout",
     "output_type": "stream",
     "text": [
      "Finally, 308 combined unique features are encoded as missing values\n"
     ]
    }
   ],
   "source": [
    "print('Finally, {} combined unique features are encoded as missing values'.format(combined_feat_info['Attributes'].nunique()))"
   ]
  },
  {
   "cell_type": "code",
   "execution_count": 26,
   "metadata": {},
   "outputs": [
    {
     "name": "stdout",
     "output_type": "stream",
     "text": [
      "70 {'D19_BANKEN_ANZ_12', 'D19_TELKO_ONLINE_QUOTE_12', 'UNGLEICHENN_FLAG', 'VK_DISTANZ', 'HH_DELTA_FLAG', 'D19_VERSI_ANZ_12', 'VHA', 'KBA13_CCM_1401_2500', 'CJT_TYP_6', 'MOBI_RASTER', 'RT_SCHNAEPPCHEN', 'VK_ZG11', 'CJT_TYP_2', 'AKT_DAT_KL', 'EXTSEL992', 'UMFELD_JUNG', 'RT_UEBERGROESSE', 'ALTERSKATEGORIE_FEIN', 'D19_LOTTO', 'STRUKTURTYP', 'D19_SOZIALES', 'VHN', 'LNR', 'VERDICHTUNGSRAUM', 'KBA13_GBZ', 'KONSUMZELLE', 'KBA13_BAUMAX', 'EINGEFUEGT_AM', 'GEMEINDETYP', 'ANZ_KINDER', 'KBA13_ANTG3', 'D19_KONSUMTYP_MAX', 'D19_VERSI_ONLINE_QUOTE_12', 'ALTER_KIND4', 'D19_BUCH_CD', 'KBA13_HHZ', 'RT_KEIN_ANREIZ', 'VK_DHT4A', 'CJT_TYP_5', 'KK_KUNDENTYP', 'ALTER_KIND1', 'CAMEO_INTL_2015', 'D19_VERSI_ANZ_24', 'D19_VERSAND_ANZ_12', 'KBA13_ANTG4', 'KBA13_ANTG1', 'D19_BANKEN_ANZ_24', 'CJT_TYP_3', 'KBA13_CCM_3001', 'D19_TELKO_ANZ_12', 'FIRMENDICHTE', 'DSL_FLAG', 'EINGEZOGENAM_HH_JAHR', 'D19_GESAMT_ANZ_24', 'ALTER_KIND3', 'KOMBIALTER', 'CJT_TYP_1', 'ANZ_STATISTISCHE_HAUSHALTE', 'SOHO_KZ', 'CJT_TYP_4', 'D19_TELKO_ANZ_24', 'KBA13_ANTG2', 'D19_LETZTER_KAUF_BRANCHE', 'UMFELD_ALT', 'CJT_KATALOGNUTZER', 'D19_VERSAND_ANZ_24', 'D19_GESAMT_ANZ_12', 'KBA13_KMH_210', 'KBA13_CCM_3000', 'ALTER_KIND2'}\n"
     ]
    }
   ],
   "source": [
    "# List \n",
    "\n",
    "no_info_feats =  set(azdias.columns) - set(info_attributes['Attribute'])\n",
    "print(len(no_info_feats), no_info_feats)"
   ]
  },
  {
   "cell_type": "code",
   "execution_count": 168,
   "metadata": {},
   "outputs": [],
   "source": [
    "# Remove '[]' and split with ',' and filter based on data types, 2nd check for empty, and then \n",
    "# check for [-1.0, 'X'], ['XX'], [-1.0, 'XX']\n",
    "\n",
    "import string\n",
    "\n",
    "def format_unknowns(attr, missings, azdias):\n",
    "    \n",
    "    type_is =[]\n",
    "    for data in attr.tolist():\n",
    "        try:\n",
    "            type_is.append(azdias[data].dtypes)\n",
    "        except:\n",
    "            print('not in azdias', data)\n",
    "\n",
    "    nan_list = []   # to get the nan check for each attribute\n",
    "    unk_list = []   # to save all nan checks for all attributes respectively\n",
    "    etc_list = []   # to save -1, X etc.\n",
    "    type_index = 0\n",
    "\n",
    "    for chks in missings:\n",
    "\n",
    "        chks = str(chks)\n",
    "        chks = chks.replace('[','').replace(']','').split(',')\n",
    "\n",
    "        nan_list = chks\n",
    "\n",
    "        try:\n",
    "            if type_is[type_index] == 'int64':\n",
    "                nan_list = list(map(int, nan_list)) \n",
    "                unk_list.append(nan_list)\n",
    "\n",
    "            elif type_is[type_index] == 'float64':\n",
    "                nan_list = list(map(float, nan_list)) \n",
    "                unk_list.append(nan_list)\n",
    "\n",
    "            elif type_is[type_index] == 'O':\n",
    "\n",
    "                if nan_list == ['XX']:\n",
    "                    unk_list.append(['XX'])\n",
    "\n",
    "                elif nan_list == ['-1']:\n",
    "                    unk_list.append(['-1'])\n",
    "\n",
    "                elif '-1' and 'XX' in nan_list:\n",
    "                    etc_list = [-1.0, 'XX']\n",
    "                    unk_list.append(etc_list)\n",
    "\n",
    "                elif '-1' and 'X' in nan_list:\n",
    "                    etc_list = [-1.0, 'X']\n",
    "                    unk_list.append(etc_list)\n",
    "            else:\n",
    "                print('fix it!', type_is[type_index], nan_list)\n",
    "\n",
    "        except:\n",
    "            try:\n",
    "                if nan_list == ['']:\n",
    "                    unk_list.append(['nan'])\n",
    "\n",
    "                else:\n",
    "                    ('Its something new', nan_list)               \n",
    "\n",
    "            except:\n",
    "                print('exception')\n",
    "                unk_list.append('exception')\n",
    "\n",
    "        type_index +=1\n",
    "\n",
    "    print(len(unk_list))\n",
    "    print(unk_list)\n",
    "    \n",
    "    return unk_list"
   ]
  },
  {
   "cell_type": "code",
   "execution_count": 169,
   "metadata": {},
   "outputs": [
    {
     "name": "stdout",
     "output_type": "stream",
     "text": [
      "308\n",
      "[[-1, 0], [-1, 0, 9], [-1, 0], [0.0], [-1], [-1], [-1], [-1], [-1], [-1], [-1], [0], ['nan'], ['nan'], [-1, 0], [0.0], [0.0], [0.0], [0.0], [0.0], [0.0], [-1, 0], [-1, 0], [0.0], [-1, 9], [-1, 9], [-1, 9], [-1, 9], [-1, 9], [-1, 9], [-1, 9], [-1, 9], [-1, 9], [-1, 9], [-1, 9], [-1, 9], [-1, 9], [-1, 9], [-1], [-1.0], [-1.0, 0.0], [-1], [-1, 9], [0.0], ['nan'], ['nan'], [-1.0, 0.0], [-1.0], [-1.0, 0.0], [-1.0, 0.0], [0.0], ['nan'], [-1.0, 0.0], ['nan'], [0.0], ['-1'], [-1.0], [-1.0, 'X'], ['XX'], [-1.0, 'XX'], [-1.0], [-1.0], [-1.0], [-1.0], [-1.0, 0.0], [-1.0, 0.0], [-1.0], [-1.0], [-1.0], ['nan'], [-1.0, 0.0], ['nan'], ['nan'], [-1.0, 0.0], ['nan'], [-1.0], [-1.0], [-1.0], [-1.0], [-1.0, 0.0], [-1.0], [-1.0], [-1.0, 9.0], [-1.0, 0.0], [-1.0, 9.0], [0], [0], [10], [0], [0], [0], [10], [10], [0.0], [0], [0], [0], [0], [0], [0], [0], [0], [0], [0], [0], [0], [10], [10], [10], [0.0], [0], [0], [0], [0], [0], [0.0], [0], [0], [0], [0], [0], [0], [0], [0], [0], [10], [0], [10], [10], [0], [0], [0], [0], [10], [10], [10], [0.0], [0], [0], [0], [0], [0], [0], [-1.0, 9.0], [-1.0, 9.0], [-1.0, 9.0], [-1.0, 9.0], [-1.0, 9.0], [-1.0, 9.0], [-1.0, 9.0], [-1.0, 9.0], [-1.0, 9.0], [-1.0, 9.0], [-1.0, 9.0], [-1.0, 9.0], [-1.0, 9.0], [-1.0, 9.0], [-1.0, 9.0], [-1.0, 9.0], [-1.0, 9.0], [-1.0, 9.0], [-1.0, 9.0], [-1.0, 9.0], [-1.0, 9.0], [-1.0, 9.0], [-1.0, 9.0], [-1.0, 9.0], [-1.0, 9.0], [-1.0, 9.0], [-1.0, 9.0], [-1.0, 9.0], [-1.0, 9.0], [-1.0, 9.0], [-1.0, 9.0], [-1.0, 9.0], [-1.0, 9.0], [-1.0, 9.0, 1.0], [-1.0, 9.0], [-1.0, 9.0], [-1.0, 9.0], [-1.0, 9.0], [-1.0, 9.0], [-1.0, 9.0], [-1.0, 9.0], [-1.0, 9.0], [-1.0, 9.0], [-1.0, 9.0], [-1.0, 9.0], [-1.0, 9.0], [-1.0, 9.0], [-1.0, 9.0], [-1.0, 9.0], [-1.0, 9.0], [-1.0, 9.0], [-1.0, 9.0], [-1.0, 9.0], [-1.0, 9.0], [-1.0, 9.0], [-1.0, 9.0], [-1.0, 9.0], [-1.0, 9.0], [-1.0, 9.0], [-1.0], [-1.0], [-1.0], [-1.0], [-1.0], [-1.0], [-1.0], [-1.0], [-1.0], [-1.0], [-1.0], [-1.0], [-1.0], [-1.0], [-1.0], [-1.0], [-1.0], [-1.0], [-1.0], [-1.0], [-1.0], [-1.0], [-1.0], [-1.0], [-1.0], [-1.0], [-1.0], [-1.0], [-1.0], [-1.0], [-1.0], [-1.0], [-1.0], [-1.0], [-1.0], [-1.0], [-1.0], [-1.0], [-1.0], [-1.0], [-1.0], [-1.0], [-1.0], [-1.0], [-1.0], [-1.0], [-1.0], [-1.0], [-1.0], [-1.0], [-1.0], [-1.0], [-1.0], [-1.0], [-1.0], [-1.0], [-1.0], [-1.0], [-1.0], [-1.0], [-1.0], [-1.0], [-1.0], [-1.0], [-1.0], [-1.0], [-1.0], [-1.0], [-1.0], [-1.0], [-1.0], [-1.0], [-1.0], [-1.0], [-1.0], [-1.0], [-1.0], [-1.0], [-1.0], [-1.0], [-1.0], [-1.0], [-1.0], [-1.0], [-1.0], [-1.0], [-1.0], [-1.0], [-1.0], [-1.0], [-1.0], [-1.0], [-1.0], [-1.0], [-1.0], [-1.0], [-1.0], [-1.0], [-1.0], [-1.0], [-1.0], [-1.0], [-1.0], [-1.0], [-1.0], [-1.0]]\n"
     ]
    }
   ],
   "source": [
    "# get the formatted unknowns\n",
    "\n",
    "missings = combined_feat_info['Missing']\n",
    "attr = combined_feat_info['Attributes']\n",
    "\n",
    "# Formatting the unknowns\n",
    "unk_list = format_unknowns(attr, missings, azdias)\n",
    "\n",
    "combined_feat_info['Missing'] = pd.Series(unk_list)"
   ]
  },
  {
   "cell_type": "code",
   "execution_count": 170,
   "metadata": {},
   "outputs": [
    {
     "data": {
      "text/plain": [
       "(308, 2)"
      ]
     },
     "execution_count": 170,
     "metadata": {},
     "output_type": "execute_result"
    }
   ],
   "source": [
    "#print(combined_feat_info['Missing'])\n",
    "combined_feat_info.shape"
   ]
  },
  {
   "cell_type": "code",
   "execution_count": 171,
   "metadata": {},
   "outputs": [
    {
     "name": "stdout",
     "output_type": "stream",
     "text": [
      "(276, 2)\n"
     ]
    }
   ],
   "source": [
    "# drop the nans in the combined features\n",
    "\n",
    "combined_feat_info = combined_feat_info[combined_feat_info['Missing'].notna()]\n",
    "print(combined_feat_info.shape)\n",
    "\n",
    "# save it for later time saving\n",
    "combined_feat_info.to_pickle('data/combined_feat_info_copy.pkl')"
   ]
  },
  {
   "cell_type": "code",
   "execution_count": 179,
   "metadata": {},
   "outputs": [],
   "source": [
    "azdias_copy = azdias.copy(deep=True)\n",
    "#customers_copy = customers.copy(deep=True)\n",
    "#c_good = replace_nans(customers_copy, feat_info_pickle)\n",
    "#a_good, anans_all_after, arate = replace_nans(azdias_copy, feat_info_pickle)"
   ]
  },
  {
   "cell_type": "code",
   "execution_count": 4,
   "metadata": {},
   "outputs": [],
   "source": [
    "# replace with nans\n",
    "\n",
    "def replace_nans(df, combined_feat_info):\n",
    "    u_index = 0\n",
    "    \n",
    "    missings = list(combined_feat_info['Missing'])\n",
    "    attr = combined_feat_info['Attributes']\n",
    "\n",
    "    for x in attr:\n",
    "\n",
    "        try:        \n",
    "            if ['nan'] != missings[u_index]:\n",
    "\n",
    "                for i in missings[u_index]:\n",
    "                    df[x] = df[x].replace({i:np.nan})\n",
    "        except:\n",
    "            print(x, missings[u_index])\n",
    "\n",
    "        u_index +=1\n",
    "            \n",
    "    return df\n",
    "\n",
    "#azdias_good = replace_nans(azdias_copy, combined_feat_info)"
   ]
  },
  {
   "cell_type": "code",
   "execution_count": 181,
   "metadata": {},
   "outputs": [
    {
     "name": "stdout",
     "output_type": "stream",
     "text": [
      "After replacement: 366 [0, 685843, 73499, 310267, 810163, 861722, 885051, 890016, 262947, 99611, 97008, 73499, 73499, 93148, 73499, 97375, 93740, 99352, 99352, 99352, 4854, 4854, 4854, 4854, 4854, 4854, 4854, 4854, 831734, 794100, 0, 728811, 785351, 874745, 0, 0, 845987, 821760, 809304, 692502, 0, 0, 0, 857661, 761014, 829857, 790748, 851626, 584797, 505303, 0, 0, 0, 650188, 768381, 713100, 749365, 257113, 0, 745836, 0, 257113, 747956, 0, 0, 736924, 802085, 773024, 505953, 257113, 0, 0, 0, 0, 726804, 0, 0, 257113, 765973, 852220, 637972, 0, 100846, 124063, 82541, 261044, 0, 0, 0, 0, 0, 0, 257113, 0, 0, 0, 93148, 93148, 73499, 93740, 654153, 0, 0, 0, 0, 0, 0, 0, 93155, 93148, 93155, 392318, 97274, 4854, 0, 111196, 107602, 18348, 93740, 148110, 148110, 148110, 148110, 147201, 133324, 133324, 133324, 133324, 148115, 476524, 148110, 148110, 148110, 148110, 148110, 148110, 133324, 148110, 148110, 148110, 148110, 148110, 110037, 148110, 148110, 148110, 148110, 148110, 148110, 148110, 148110, 148110, 148110, 133324, 133324, 133324, 133324, 133324, 133324, 133324, 133324, 133324, 133324, 133324, 93148, 133324, 133324, 133324, 133324, 133324, 133324, 133324, 133324, 133324, 133324, 133324, 133324, 133324, 133324, 133324, 133324, 133324, 133324, 133324, 105800, 105800, 105800, 105800, 105800, 105800, 105800, 105800, 105800, 105800, 105800, 105800, 105800, 105800, 105800, 105800, 105800, 105800, 105800, 105800, 105800, 105800, 105800, 105800, 105800, 105800, 105800, 105800, 105800, 105800, 105800, 105800, 105800, 105800, 105800, 105800, 105800, 105800, 105800, 105800, 105800, 105800, 105800, 105800, 105800, 105800, 105800, 105800, 105800, 105800, 105800, 105800, 105800, 105800, 105800, 105800, 105800, 105800, 105800, 105800, 105800, 105800, 105800, 105800, 105800, 105800, 105800, 105800, 105800, 105800, 105800, 105800, 105800, 105800, 105800, 105800, 105800, 105800, 105800, 105800, 105800, 105800, 105800, 105800, 105800, 105800, 105800, 105800, 105800, 105800, 105800, 105800, 105800, 105800, 105800, 105800, 105800, 105800, 105800, 105800, 105800, 105800, 105800, 105800, 105800, 105800, 105800, 105800, 105800, 105800, 105800, 105800, 105800, 105800, 105800, 105800, 584612, 158064, 0, 73969, 93155, 77792, 77792, 97632, 94572, 4854, 4854, 93148, 93148, 133324, 108315, 4854, 97274, 93148, 116515, 116515, 116515, 116515, 116515, 116515, 116515, 108164, 158064, 97375, 4854, 4854, 4854, 51226, 0, 0, 0, 0, 0, 0, 0, 0, 0, 0, 0, 0, 0, 0, 111196, 73499, 97274, 889061, 97786, 97786, 73499, 97274, 111196, 73499, 121196, 75917, 75917, 75917, 147988, 73499, 93148, 0, 0, 2881]\n"
     ]
    }
   ],
   "source": [
    "nans_all_after = []\n",
    "rate = []\n",
    "for z in azdias_good:\n",
    "    tot = azdias_good[z].isna().sum()\n",
    "    nans_all_after.append(tot)\n",
    "    rate.append((tot/azdias_good.shape[0])*100)   \n",
    "    \n",
    "#tot_points = azdias.shape[0]*azdias.shape[1]\n",
    "print('After replacement:',len(nans_all_after), nans_all_after) "
   ]
  },
  {
   "cell_type": "code",
   "execution_count": 37,
   "metadata": {},
   "outputs": [
    {
     "name": "stdout",
     "output_type": "stream",
     "text": [
      "Before replacement: 366 [0, 0, 73499, 73499, 810163, 861722, 885051, 890016, 262947, 93148, 97008, 73499, 73499, 93148, 73499, 97216, 93740, 98979, 98979, 98979, 4854, 4854, 4854, 4854, 4854, 4854, 4854, 4854, 0, 0, 0, 0, 0, 0, 0, 0, 257113, 0, 0, 0, 0, 0, 0, 0, 0, 0, 0, 0, 0, 0, 0, 0, 0, 257113, 0, 0, 0, 257113, 0, 0, 0, 257113, 257113, 0, 0, 0, 0, 0, 0, 257113, 0, 0, 0, 0, 0, 0, 0, 257113, 0, 0, 0, 0, 0, 0, 0, 257113, 0, 0, 0, 0, 0, 0, 257113, 0, 0, 0, 93148, 93148, 73499, 93740, 654153, 0, 0, 0, 0, 0, 0, 0, 93155, 93148, 93155, 0, 97274, 4854, 0, 0, 107602, 18348, 93740, 133324, 133324, 133324, 133324, 133324, 133324, 133324, 133324, 133324, 133324, 133324, 133324, 133324, 133324, 133324, 133324, 133324, 133324, 133324, 133324, 133324, 133324, 133324, 93148, 133324, 133324, 133324, 133324, 133324, 133324, 133324, 133324, 133324, 133324, 133324, 133324, 133324, 133324, 133324, 133324, 133324, 133324, 133324, 133324, 133324, 93148, 133324, 133324, 133324, 133324, 133324, 133324, 133324, 133324, 133324, 133324, 133324, 133324, 133324, 133324, 133324, 133324, 133324, 133324, 133324, 105800, 105800, 105800, 105800, 105800, 105800, 105800, 105800, 105800, 105800, 105800, 105800, 105800, 105800, 105800, 105800, 105800, 105800, 105800, 105800, 105800, 105800, 105800, 105800, 105800, 105800, 105800, 105800, 105800, 105800, 105800, 105800, 105800, 105800, 105800, 105800, 105800, 105800, 105800, 105800, 105800, 105800, 105800, 105800, 105800, 105800, 105800, 105800, 105800, 105800, 105800, 105800, 105800, 105800, 105800, 105800, 105800, 105800, 105800, 105800, 105800, 105800, 105800, 105800, 105800, 105800, 105800, 105800, 105800, 105800, 105800, 105800, 105800, 105800, 105800, 105800, 105800, 105800, 105800, 105800, 105800, 105800, 105800, 105800, 105800, 105800, 105800, 105800, 105800, 105800, 105800, 105800, 105800, 105800, 105800, 105800, 105800, 105800, 105800, 105800, 105800, 105800, 105800, 105800, 105800, 105800, 105800, 105800, 105800, 105800, 105800, 105800, 105800, 105800, 105800, 105800, 584612, 121196, 0, 73969, 93155, 4854, 4854, 4854, 4854, 4854, 4854, 93148, 93148, 133324, 0, 4854, 97216, 93148, 116515, 116515, 116515, 116515, 116515, 116515, 116515, 0, 121196, 97216, 4854, 4854, 4854, 51226, 0, 0, 0, 0, 0, 0, 0, 0, 0, 0, 0, 0, 0, 0, 0, 73499, 97274, 73499, 97786, 97786, 73499, 97274, 0, 73499, 121196, 75917, 75917, 75917, 107602, 73499, 93148, 0, 0, 0]\n"
     ]
    }
   ],
   "source": [
    "nan_alls_before = []\n",
    "for z in azdias:\n",
    "    nan_alls_before.append(azdias[z].isna().sum())\n",
    "    \n",
    "#tot_points = azdias.shape[0]*azdias.shape[1]\n",
    "print('Before replacement:',len(nan_alls_before), nan_alls_before) "
   ]
  },
  {
   "cell_type": "code",
   "execution_count": 38,
   "metadata": {},
   "outputs": [
    {
     "name": "stdout",
     "output_type": "stream",
     "text": [
      "Before replacement:\n",
      "sum is: 33492923 percenatge is: 10.2680164156\n",
      "After replacement:\n",
      "sum is: 59466344 percenatge is: 18.23075867\n"
     ]
    }
   ],
   "source": [
    "tot_points = azdias.shape[0]*azdias.shape[1]\n",
    "print('Before replacement:')#,len(nan_alls), nan_alls)\n",
    "print( 'sum is:', sum(nan_alls_before), 'percenatge is:', (sum(nan_alls_before)/tot_points)*100 )\n",
    "\n",
    "print('After replacement:')#,len(nans_all_after), nans_all_after) \n",
    "print( 'sum is:', sum(nans_all_after), 'percenatge is:', (sum(nans_all_after)/tot_points)*100 )\n",
    "#print( 'sum is:', sum(nan_alls_after), 'percenatge is:', (sum(nan_alls_after)/tot_points)*100 )"
   ]
  },
  {
   "cell_type": "code",
   "execution_count": 39,
   "metadata": {},
   "outputs": [
    {
     "data": {
      "image/png": "[encoded data removed]",
      "text/plain": [
       "<matplotlib.figure.Figure at 0x7f48fb469b00>"
      ]
     },
     "metadata": {
      "needs_background": "light"
     },
     "output_type": "display_data"
    }
   ],
   "source": [
    "# Perform an assessment of how much missing data there is in each column of the\n",
    "# dataset.\n",
    "\n",
    "x = rate\n",
    "\n",
    "# the histogram of the data\n",
    "n, bins, patches = plt.hist(x, density=True, facecolor='g', alpha=0.8)\n",
    "\n",
    "plt.xlabel('# of missing data percentage')\n",
    "plt.ylabel('Attributes (columns)')\n",
    "plt.title('Histogram of missing data')\n",
    "plt.grid(True)\n",
    "plt.show()"
   ]
  },
  {
   "cell_type": "code",
   "execution_count": 40,
   "metadata": {},
   "outputs": [
    {
     "name": "stdout",
     "output_type": "stream",
     "text": [
      "column indices to drop:  [1, 3, 4, 5, 6, 7, 8, 28, 29, 31, 32, 33, 36, 37, 38, 39, 43, 44, 45, 46, 47, 48, 49, 53, 54, 55, 56, 57, 59, 61, 62, 65, 66, 67, 68, 69, 74, 77, 78, 79, 80, 85, 92, 100, 111, 129, 300, 349] 48\n",
      "['AGER_TYP', 'ALTER_HH', 'ALTER_KIND1', 'ALTER_KIND2', 'ALTER_KIND3', 'ALTER_KIND4', 'ALTERSKATEGORIE_FEIN', 'D19_BANKEN_ANZ_12', 'D19_BANKEN_ANZ_24', 'D19_BANKEN_DIREKT', 'D19_BANKEN_GROSS', 'D19_BANKEN_LOKAL', 'D19_BANKEN_ONLINE_QUOTE_12', 'D19_BANKEN_REST', 'D19_BEKLEIDUNG_GEH', 'D19_BEKLEIDUNG_REST', 'D19_DIGIT_SERV', 'D19_DROGERIEARTIKEL', 'D19_ENERGIE', 'D19_FREIZEIT', 'D19_GARTEN', 'D19_GESAMT_ANZ_12', 'D19_GESAMT_ANZ_24', 'D19_GESAMT_ONLINE_QUOTE_12', 'D19_HANDWERK', 'D19_HAUS_DEKO', 'D19_KINDERARTIKEL', 'D19_KONSUMTYP', 'D19_KOSMETIK', 'D19_LETZTER_KAUF_BRANCHE', 'D19_LOTTO', 'D19_REISEN', 'D19_SAMMELARTIKEL', 'D19_SCHUHE', 'D19_SONSTIGE', 'D19_SOZIALES', 'D19_TELKO_MOBILE', 'D19_TELKO_ONLINE_QUOTE_12', 'D19_TELKO_REST', 'D19_TIERARTIKEL', 'D19_VERSAND_ANZ_12', 'D19_VERSAND_ONLINE_QUOTE_12', 'D19_VERSI_ONLINE_QUOTE_12', 'EXTSEL992', 'GEBURTSJAHR', 'KBA05_BAUMAX', 'KK_KUNDENTYP', 'TITEL_KZ']\n"
     ]
    }
   ],
   "source": [
    "c_ind_above = np.argwhere(np.asarray(nans_all_after) > 200000)\n",
    "c_ind_above = list(map(int, c_ind_above))\n",
    "print('column indices to drop: ',c_ind_above, len(c_ind_above))\n",
    "print(list(azdias_copy.iloc[:0, c_ind_above]))"
   ]
  },
  {
   "cell_type": "code",
   "execution_count": 41,
   "metadata": {},
   "outputs": [
    {
     "name": "stdout",
     "output_type": "stream",
     "text": [
      "column indices to drop:  [1, 3, 4, 5, 6, 7, 28, 29, 31, 32, 33, 36, 37, 38, 39, 43, 44, 45, 46, 47, 48, 49, 53, 54, 55, 56, 59, 62, 65, 66, 67, 68, 74, 78, 79, 80, 100, 111, 129, 300, 349] 41\n",
      "['AGER_TYP', 'ALTER_HH', 'ALTER_KIND1', 'ALTER_KIND2', 'ALTER_KIND3', 'ALTER_KIND4', 'D19_BANKEN_ANZ_12', 'D19_BANKEN_ANZ_24', 'D19_BANKEN_DIREKT', 'D19_BANKEN_GROSS', 'D19_BANKEN_LOKAL', 'D19_BANKEN_ONLINE_QUOTE_12', 'D19_BANKEN_REST', 'D19_BEKLEIDUNG_GEH', 'D19_BEKLEIDUNG_REST', 'D19_DIGIT_SERV', 'D19_DROGERIEARTIKEL', 'D19_ENERGIE', 'D19_FREIZEIT', 'D19_GARTEN', 'D19_GESAMT_ANZ_12', 'D19_GESAMT_ANZ_24', 'D19_GESAMT_ONLINE_QUOTE_12', 'D19_HANDWERK', 'D19_HAUS_DEKO', 'D19_KINDERARTIKEL', 'D19_KOSMETIK', 'D19_LOTTO', 'D19_REISEN', 'D19_SAMMELARTIKEL', 'D19_SCHUHE', 'D19_SONSTIGE', 'D19_TELKO_MOBILE', 'D19_TELKO_REST', 'D19_TIERARTIKEL', 'D19_VERSAND_ANZ_12', 'EXTSEL992', 'GEBURTSJAHR', 'KBA05_BAUMAX', 'KK_KUNDENTYP', 'TITEL_KZ']\n"
     ]
    }
   ],
   "source": [
    "# Tested for customers\n",
    "\n",
    "c_ind_above = np.argwhere(np.asarray(rate) > 30)\n",
    "c_ind_above = list(map(int, c_ind_above))\n",
    "print('column indices to drop: ',c_ind_above, len(c_ind_above))\n",
    "print(list(azdias_copy.iloc[:0, c_ind_above]))"
   ]
  },
  {
   "cell_type": "markdown",
   "metadata": {},
   "source": [
    "#### Dicussion - Dropped Columns:  \n",
    "As observed from the histogram, there are many columns(see mentioned above) with >200000 NaNs in the columns therefore they were removed from the azdias."
   ]
  },
  {
   "cell_type": "code",
   "execution_count": 184,
   "metadata": {},
   "outputs": [],
   "source": [
    "# Drop the columns from azdias\n",
    "\n",
    "azdias_copy.drop(azdias_copy.columns[c_ind_above], axis=1, inplace=True)\n",
    "#azdias_copy.shape"
   ]
  },
  {
   "cell_type": "code",
   "execution_count": 71,
   "metadata": {},
   "outputs": [],
   "source": [
    "# Drop the columns from combined feat_infos as well\n",
    "\n",
    "# combined_feat_info_copy = combined_feat_info.copy(deep=True)\n",
    "# combined_feat_info_copy.drop(combined_feat_info_copy.columns[c_ind_above], axis=1, inplace=True)\n",
    "# combined_feat_info_copy.shape"
   ]
  },
  {
   "cell_type": "code",
   "execution_count": 43,
   "metadata": {
    "scrolled": true
   },
   "outputs": [
    {
     "name": "stdout",
     "output_type": "stream",
     "text": [
      "Nan in row  0  :  245\n",
      "Nan in row  150000  :  1\n",
      "Nan in row  300000  :  3\n",
      "Nan in row  450000  :  6\n",
      "Nan in row  600000  :  0\n",
      "Nan in row  750000  :  12\n",
      "[245, 6, 0, 8, 1, 0, 1, 0, 6, 0]\n",
      "891221\n"
     ]
    }
   ],
   "source": [
    "# How much data is missing in each row of the dataset?\n",
    "\n",
    "rows_n = []\n",
    "for i in range(len(azdias_copy.index)) :\n",
    "    rows_n.append(azdias_copy.iloc[i].isnull().sum())\n",
    "    if i % 150000 == 0:\n",
    "        print(\"Nan in row \", i , \" : \" ,  rows_n[i])\n",
    "        \n",
    "print(rows_n[:10])\n",
    "print(len(rows_n))"
   ]
  },
  {
   "cell_type": "code",
   "execution_count": 44,
   "metadata": {},
   "outputs": [
    {
     "name": "stdout",
     "output_type": "stream",
     "text": [
      "891221 2\n"
     ]
    },
    {
     "data": {
      "image/png": "[encoded data removed]",
      "text/plain": [
       "<matplotlib.figure.Figure at 0x7f48fd00aac8>"
      ]
     },
     "metadata": {
      "needs_background": "light"
     },
     "output_type": "display_data"
    }
   ],
   "source": [
    "# Write code to divide the data into two subsets based on the number of missing\n",
    "# values in each row.\n",
    "print(len(rows_n), rows_n[880000])\n",
    "y = rows_n\n",
    "\n",
    "# the histogram of the data\n",
    "n, bins, patches = plt.hist(y, density=True, facecolor='g', alpha=0.8)\n",
    "\n",
    "plt.xlabel('# of missing data')\n",
    "plt.ylabel('Attributes (rows)')\n",
    "plt.title('Histogram of missing data')\n",
    "plt.grid(True)\n",
    "plt.show()"
   ]
  },
  {
   "cell_type": "code",
   "execution_count": 46,
   "metadata": {},
   "outputs": [
    {
     "name": "stdout",
     "output_type": "stream",
     "text": [
      "[0, 11, 12, 13, 14, 15, 17, 20, 23, 24] 154916\n",
      "[1, 2, 3, 4, 5, 6, 7, 8, 9, 10] 736046\n"
     ]
    }
   ],
   "source": [
    "\n",
    "# # Write code to divide the data into two subsets based on the number of missing\n",
    "# values in each row.\n",
    "\n",
    "threshold = 25 # interpreted from the histogram\n",
    "\n",
    "r_ind_above = np.argwhere(np.asarray(rows_n) > threshold)\n",
    "r_ind_above = list(map(int, r_ind_above))\n",
    "print(r_ind_above[:10], len(r_ind_above))\n",
    "\n",
    "r_ind_below = list(np.argwhere(np.asarray(rows_n) < threshold))\n",
    "r_ind_below = list(map(int, r_ind_below))\n",
    "print(r_ind_below[:10], len(r_ind_below))"
   ]
  },
  {
   "cell_type": "code",
   "execution_count": 178,
   "metadata": {},
   "outputs": [
    {
     "name": "stdout",
     "output_type": "stream",
     "text": [
      "(891221, 325)\n",
      "(10, 325)\n"
     ]
    }
   ],
   "source": [
    "azdias_bad = azdias_copy.iloc[[0, 11, 12, 13, 14, 15, 17, 20, 23, 24] ,:]\n",
    "#azdias_good = azdias_copy.iloc[r_ind_below ,:]\n",
    "\n",
    "print(azdias_good.shape)\n",
    "print(azdias_bad.shape)"
   ]
  },
  {
   "cell_type": "code",
   "execution_count": 48,
   "metadata": {},
   "outputs": [
    {
     "name": "stdout",
     "output_type": "stream",
     "text": [
      "(736046, 325)\n",
      "(154916, 325)\n"
     ]
    }
   ],
   "source": [
    "azdias_bad = azdias_copy.iloc[r_ind_above ,:]\n",
    "azdias_good = azdias_copy.iloc[r_ind_below ,:]\n",
    "\n",
    "print(azdias_good.shape)\n",
    "print(azdias_bad.shape)"
   ]
  },
  {
   "cell_type": "markdown",
   "metadata": {},
   "source": [
    "#### Dicussion - Dropped Rows:  \n",
    "As observed from the histogram, there are many rows with NaNs with a threshold of 25 therefore they were removed from the azdias as well."
   ]
  },
  {
   "cell_type": "code",
   "execution_count": 24,
   "metadata": {},
   "outputs": [],
   "source": [
    "#azdias_good.to_pickle('data/azdias_good.pkl')\n",
    "#combined_feat_info_copy.to_pickle('data/combined_feat_info_copy.pkl')\n",
    "\n",
    "#customers.to_pickle('data/customers.pkl')\n",
    "#azdias_pickle = pd.read_pickle('data/azdias_good.pkl')\n",
    "feat_info_pickle = pd.read_pickle('data/combined_feat_info_copy.pkl')"
   ]
  },
  {
   "cell_type": "code",
   "execution_count": 176,
   "metadata": {},
   "outputs": [
    {
     "name": "stdout",
     "output_type": "stream",
     "text": [
      "28\n",
      "185\n",
      "227\n",
      "219\n",
      "235\n",
      "274\n",
      "167\n",
      "['D19_GESAMT_DATUM', 'KBA13_HALTER_35', 'KBA13_KW_80', 'KBA13_KW_120', 'KBA13_RENAULT']\n"
     ]
    }
   ],
   "source": [
    "import random\n",
    "randoms = []\n",
    "rand = 0\n",
    "for x in range(7):\n",
    "    rand = random.randint(0, 324)\n",
    "    print(rand)\n",
    "    if len(randoms) != 5:\n",
    "        randoms.append(azdias_good.columns[rand])\n",
    "print(randoms)"
   ]
  },
  {
   "cell_type": "code",
   "execution_count": 1,
   "metadata": {},
   "outputs": [],
   "source": [
    "# Optional: Compare the distribution of values for at least five columns where there are\n",
    "# no or few missing values, between the two subsets.\n",
    "\n",
    "def columns_comparison(azdias_good, azdias_bad, randoms):\n",
    "    for i in randoms:\n",
    "        fig, axis = plt.subplots(figsize = (13,2), nrows=1, ncols=2)\n",
    "        sns.countplot(azdias_good[i], ax = axis[0])\n",
    "        sns.countplot(azdias_bad[i], ax = axis[1])\n",
    "        axis[0].set_title('azdias_good < Threshold = 25')\n",
    "        axis[1].set_title('azdias_bad > Threshold = 25')\n",
    "    plt.show()\n",
    "\n",
    "#columns_comparison(azdias_good, azdias_bad, randoms)\n"
   ]
  },
  {
   "cell_type": "markdown",
   "metadata": {},
   "source": [
    "### Step 0.2: Select, Re-Encode and Re-Engineer Features  \n",
    "- Special handling is necessary for the variable types: categorical and mixed.\n",
    "- Decision to be made on whether to keep, drop, or re-encode each. Then, in the last part, a new data frame with only the selected and engineered columns will be created.\n",
    "- Binary data is kept whereas the non numeric two state data is replaced by numeric binary data. For multi-level data, get_dummies is used.\n",
    "\n"
   ]
  },
  {
   "cell_type": "code",
   "execution_count": 6,
   "metadata": {},
   "outputs": [],
   "source": [
    "# Assess categorical variables: which are binary, which are multi-level, and\n",
    "# which one needs to be re-encoded?\n",
    "\n",
    "def categoricals_check(azdias_pickle, feat_info):    \n",
    "    multi_level = []\n",
    "    binary = []\n",
    "    reencoded = []\n",
    "\n",
    "    categoricals = feat_info[feat_info['type'].str.contains('categorical')]\n",
    "\n",
    "    for i in categoricals.attribute:\n",
    "\n",
    "        try:\n",
    "            if len(azdias_pickle[i].value_counts()) == 2:\n",
    "                try:\n",
    "                    if float(str(azdias_pickle[i].value_counts())[0]):\n",
    "                        binary.append(i)\n",
    "                    else:\n",
    "                        binary.append(i)\n",
    "                except:\n",
    "                    reencoded.append(i)\n",
    "                    print('non-numeric binary - needs re-encoding:\\n',azdias_pickle[i].value_counts())\n",
    "\n",
    "\n",
    "            elif len(azdias_pickle[i].value_counts()) > 2:\n",
    "                multi_level.append(i)\n",
    "        except:\n",
    "            print('key probably already removed from azdias:', i)\n",
    "\n",
    "    print('Binary:      ', binary, len(binary))\n",
    "    print('Multi_level: ', multi_level, len(multi_level))\n",
    "    print('Reencoded:   ', reencoded, len(reencoded))\n",
    "    \n",
    "    return binary, multi_level, reencoded\n",
    "\n",
    "#binary, multi_level, reencoded = categoricals_check(azdias_pickle, feat_info)"
   ]
  },
  {
   "cell_type": "code",
   "execution_count": 7,
   "metadata": {},
   "outputs": [],
   "source": [
    "# reencode and engineering...\n",
    "# fix OST_WEST_KZ\n",
    "\n",
    "def binary_numeric(df_good):\n",
    "    \n",
    "    binary_numeric = []\n",
    "\n",
    "    for k in df_good['OST_WEST_KZ']:\n",
    "        if k == 'W':\n",
    "            binary_numeric.append(0)\n",
    "        else:\n",
    "            binary_numeric.append(1)\n",
    "    \n",
    "    df_good.drop(['OST_WEST_KZ'],axis=1)\n",
    "    df_good['OST_WEST_KZ'] = binary_numeric\n",
    "    \n",
    "    print('OST_WEST_KZ fixed')\n",
    "    return df_good\n",
    "\n",
    "#df_good = binary_numeric(azdias_pickle)"
   ]
  },
  {
   "cell_type": "code",
   "execution_count": 8,
   "metadata": {},
   "outputs": [],
   "source": [
    "# Investigate \"PRAEGENDE_JUGENDJAHRE\" and engineer two new variables.\n",
    "\n",
    "def praegende_fix(azdias_good):\n",
    "\n",
    "    avant = [2, 4, 6, 7, 9, 11, 13, 15]\n",
    "    decade = []\n",
    "    movement = []\n",
    "\n",
    "    for i in azdias_good['PRAEGENDE_JUGENDJAHRE']:\n",
    "        if i in avant:\n",
    "            movement.append(0)\n",
    "        else:\n",
    "            movement.append(1)\n",
    "\n",
    "    # for decade: 1-2,3-4,5-7,8-9,10-13, 14-15\n",
    "\n",
    "    for j in azdias_good['PRAEGENDE_JUGENDJAHRE']:\n",
    "        if j in [1,2]:\n",
    "            decade.append(0)\n",
    "        elif j in [3,4]:\n",
    "            decade.append(1)\n",
    "        elif j in range(5, 8):\n",
    "            decade.append(2)\n",
    "        elif j in [8,9]:\n",
    "            decade.append(3)\n",
    "        elif j in range(10, 14):\n",
    "            decade.append(4)\n",
    "        elif j in [14,15]:\n",
    "            decade.append(5)\n",
    "        else:\n",
    "            decade.append(np.nan)\n",
    "    \n",
    "    azdias_good['PRAEGENDE_JUGENDJAHRE_D'] = decade\n",
    "    azdias_good['PRAEGENDE_JUGENDJAHRE_M'] = movement\n",
    "    \n",
    "    #azdias_good.drop('PRAEGENDE_JUGENDJAHRE',axis=1)\n",
    "    \n",
    "    print('PRAEGENDE_JUGENDJAHRE can be deleted')\n",
    "\n",
    "    return azdias_good\n",
    "\n",
    "#azdias_good = praegende_fix(df_good)        "
   ]
  },
  {
   "cell_type": "code",
   "execution_count": 9,
   "metadata": {},
   "outputs": [],
   "source": [
    "# Investigate \"CAMEO_INTL_2015\" and engineer two new variables.\n",
    "\n",
    "def cameo_fix(azdias_good):\n",
    "    wealth = []\n",
    "    life = []\n",
    "\n",
    "    for i in azdias_good['CAMEO_INTL_2015']:\n",
    "        if i is not np.nan:\n",
    "            wealth.append(str(i)[0])\n",
    "            life.append(str(i)[1])\n",
    "        else:\n",
    "            wealth.append(np.nan)\n",
    "            life.append(np.nan)\n",
    "\n",
    "    azdias_good['CAMEO_INTL_2015_W'] = wealth\n",
    "    azdias_good['CAMEO_INTL_2015_L'] = life\n",
    "    \n",
    "    #azdias_good.drop('CAMEO_INTL_2015',axis=1)\n",
    "    \n",
    "    print('CAMEO_INTL_2015 can be deleted')\n",
    "    \n",
    "    return azdias_good\n",
    "\n",
    "#azdias_good = cameo_fix(azdias_good)"
   ]
  },
  {
   "cell_type": "code",
   "execution_count": 10,
   "metadata": {},
   "outputs": [],
   "source": [
    "def wohnlage_fix(df_good):\n",
    "    \n",
    "    new = []\n",
    "    rural = [7,8]\n",
    "    neigh = [1,2,3,4,5]\n",
    "\n",
    "    for k in df_good['WOHNLAGE']:\n",
    "        if k in neigh:\n",
    "            new.append(0)\n",
    "        elif k in rural:\n",
    "            new.append(1)\n",
    "        else:\n",
    "            new.append(np.nan)\n",
    "    \n",
    "    #df_good.drop(['WOHNLAGE'],axis=1)\n",
    "    df_good['NEIGHBOUR_RURAL'] = new\n",
    "    \n",
    "    print('WOHNLAGE can be deleted')\n",
    "    return df_good\n",
    "\n",
    "#azdias_good = wohnlage_fix(azdias_good)\n",
    "#azdias_good['NEIGHBOUR_RURAL'].value_counts()"
   ]
  },
  {
   "cell_type": "code",
   "execution_count": 11,
   "metadata": {},
   "outputs": [],
   "source": [
    "def baumax_fix(df_good):\n",
    "    \n",
    "    family = []\n",
    "    business = []\n",
    "\n",
    "    for k in df_good['PLZ8_BAUMAX']:\n",
    "        if k == 5:\n",
    "            business.append(1)\n",
    "            family.append(np.nan)\n",
    "        elif k > 0 and k < 5:\n",
    "            family.append(k)\n",
    "            business.append(0)\n",
    "        else:\n",
    "            family.append(np.nan)\n",
    "            business.append(np.nan)\n",
    "    \n",
    "    df_good['PLZ8_BAUMAX_Family'] = family\n",
    "    df_good['PLZ8_BAUMAX_Business'] = business\n",
    "    \n",
    "    print('PLZ8_BAUMAX can be deleted')\n",
    "    return df_good\n",
    "\n",
    "#azdias_good = baumax_fix(azdias_good)"
   ]
  },
  {
   "cell_type": "code",
   "execution_count": 12,
   "metadata": {},
   "outputs": [],
   "source": [
    "def eingefugt_fix(df_good):\n",
    "    \n",
    "    eingefugt = []\n",
    "    for i in df_good['EINGEFUEGT_AM']:\n",
    "        if i is not np.nan:\n",
    "            x = str(i)[:4]\n",
    "            eingefugt.append(int(x))\n",
    "        else:\n",
    "            eingefugt.append(np.nan)\n",
    "            \n",
    "    df_good['EINGEFUEGT_AM_New'] = pd.Series(eingefugt)\n",
    "    \n",
    "    print('EINGEFUEGT_AM is fixed')\n",
    "    return df_good\n",
    "\n",
    "#azdias_good = eingefugt_fix(azdias_good)\n",
    "#azdias_good['EINGEFUEGT_AM_New'].value_counts()"
   ]
  },
  {
   "cell_type": "code",
   "execution_count": 13,
   "metadata": {},
   "outputs": [],
   "source": [
    "# Engineer and reencode\n",
    "def engineer_reencode(df, mls, feat_info):\n",
    "    \n",
    "    df = binary_numeric(df)\n",
    "    df = praegende_fix(df)\n",
    "    df = cameo_fix(df)\n",
    "    df = wohnlage_fix(df)\n",
    "    df = baumax_fix(df)\n",
    "    df = eingefugt_fix(df)\n",
    "    \n",
    "    for_dummies, for_delete = filter_multis(df, mls)\n",
    "    df = drop_extra_cols(df, for_delete, feat_info)\n",
    "    \n",
    "    return df, for_dummies\n",
    "#df , for_dummies = engineer_reencode(df, multi_level)"
   ]
  },
  {
   "cell_type": "code",
   "execution_count": 14,
   "metadata": {},
   "outputs": [],
   "source": [
    "# filtering the multi_levels for get_dummies to to_delete\n",
    "\n",
    "def filter_multis(df, multi_level):\n",
    "    for_delete = []\n",
    "    for_dummies = []\n",
    "    for i in multi_level:\n",
    "        try:\n",
    "            s = df[i].value_counts()\n",
    "            #print(s)\n",
    "\n",
    "            if len(s) < 10:\n",
    "                for_dummies.append(i)\n",
    "            else:\n",
    "                for_delete.append(i)\n",
    "        except:\n",
    "            print(i, 'key already dropped!')\n",
    "            \n",
    "    print('For get_dummies:    ',for_dummies, len(for_dummies))        \n",
    "    print('To delete:          ', for_delete, len(for_delete))   \n",
    "    \n",
    "    return for_dummies, for_delete"
   ]
  },
  {
   "cell_type": "code",
   "execution_count": 15,
   "metadata": {},
   "outputs": [],
   "source": [
    "# Delete all un necessary features\n",
    "\n",
    "def drop_extra_cols(df, deletes, feat_info):\n",
    "    \n",
    "    mixed = feat_info[feat_info['type'].str.contains('mixed')]\n",
    "    to_delete = ['VERDICHTUNGSRAUM', 'CAMEO_DEU_2015', 'ANZ_TITEL', 'ANZ_KINDER', 'ANZ_HH_TITEL', 'EINGEFUEGT_AM']\n",
    "\n",
    "    to_delete = to_delete + list(mixed.attribute) + list(deletes)\n",
    "    print('Columns to delete: ',to_delete)\n",
    "\n",
    "    for i in list(to_delete):\n",
    "        try:\n",
    "            #print(i)\n",
    "            df.drop(i,axis=1,inplace=True)\n",
    "        except:\n",
    "            print(i, 'already deleted in the previous steps')\n",
    "    \n",
    "    return df"
   ]
  },
  {
   "cell_type": "markdown",
   "metadata": {},
   "source": [
    "### Summary: Select and Re-Encode Features  \n",
    "- OST_WEST_KZ reencoded with 'W' = 0, else 1\n",
    "- PRAEGENDE_JUGENDJAHRE_D and PRAEGENDE_JUGENDJAHRE_M created from PRAEGENDE_JUGENDJAHRE based on 'decade' and 'movement' info.\n",
    "- NEIGHBOUR_RURAL is created from WOHNLAGE based on rural and neighbourhood info.\n",
    "- CAMEO_INTL_2015_W and CAMEO_INTL_2015_L created from CAMEO_INTL_2015 based on wealth and life info.\n",
    "- PLZ8_BAUMAX_Family and PLZ8_BAUMAX_Business created from PLZ8_BAUMAX based on the info family and business info.\n",
    "- Remaining 'mixed' types are removed from the dataset because of many 0s - also the orignal features were removed as the encoded and engineered feature were added.\n",
    "- VERDICHTUNGSRAUM, ANZ_KINDER, CAMEO_DEU_2015 also removed because of so many multi levels.\n",
    "- ANZ_TITEL, ANZ_HH_TITEL dropped because of many 0s.\n",
    "- LP_LEBENSPHASE_FEIN, LP_LEBENSPHASE_GROB dropped because of complex data.\n"
   ]
  },
  {
   "cell_type": "code",
   "execution_count": 20,
   "metadata": {},
   "outputs": [],
   "source": [
    "#azdias_good['KBA05_BAUMAX'].value_counts()"
   ]
  },
  {
   "cell_type": "code",
   "execution_count": 16,
   "metadata": {},
   "outputs": [],
   "source": [
    "# get dummy variables for multi_level features\n",
    "def make_dummies(df, d):\n",
    "    \n",
    "    ls = []\n",
    "    \n",
    "    # the following features looked like categoricals as well\n",
    "    dummies = ['AKT_DAT_KL','GEBAEUDETYP', 'D19_KONSUMTYP', 'D19_LETZTER_KAUF_BRANCHE', 'KBA05_MAXHERST',\n",
    "               'KBA05_MAXSEG', 'ARBEIT', 'CJT_KATALOGNUTZER']\n",
    "    dummies = dummies + d\n",
    "    print('Performing get_dummies on the following:', dummies)\n",
    "    \n",
    "    # get dummies\n",
    "    for i in dummies:\n",
    "        try:\n",
    "            dummy = pd.get_dummies(df[i], prefix = i)\n",
    "            df = pd.concat([df, dummy], axis = 1)\n",
    "            ls.append(i)\n",
    "        except:\n",
    "            print(i, 'already dropped in the previous analysis')\n",
    "\n",
    "    df.drop(ls, axis=1, inplace = True)\n",
    "    \n",
    "    print('***get_dummies finished!')\n",
    "    \n",
    "    return df\n"
   ]
  },
  {
   "cell_type": "code",
   "execution_count": 62,
   "metadata": {},
   "outputs": [],
   "source": [
    "#azdias_dummy.shape"
   ]
  },
  {
   "cell_type": "code",
   "execution_count": 63,
   "metadata": {},
   "outputs": [
    {
     "data": {
      "text/plain": [
       "(736046, 325)"
      ]
     },
     "execution_count": 63,
     "metadata": {},
     "output_type": "execute_result"
    }
   ],
   "source": [
    "azdias_good.shape"
   ]
  },
  {
   "cell_type": "code",
   "execution_count": 14,
   "metadata": {},
   "outputs": [],
   "source": [
    "#azdias_dummy.to_pickle('data/azdias_dummy.pkl')\n",
    "#azdias_dummy_pkl = pd.read_pickle('data/azdias_dummy.pkl')"
   ]
  },
  {
   "cell_type": "code",
   "execution_count": 42,
   "metadata": {},
   "outputs": [
    {
     "name": "stdout",
     "output_type": "stream",
     "text": [
      "<class 'pandas.core.frame.DataFrame'>\n",
      "Int64Index: 742168 entries, 1 to 891220\n",
      "Columns: 412 entries, ALTER_HH to KBA05_MAXSEG_9.0\n",
      "dtypes: float64(264), int64(40), object(4), uint8(104)\n",
      "memory usage: 1.8+ GB\n"
     ]
    }
   ],
   "source": [
    "azdias_dummy_pkl.info()"
   ]
  },
  {
   "cell_type": "markdown",
   "metadata": {},
   "source": [
    "### Imputation  \n",
    "-  Imputation will be used to transform the missing value to the most_frequent values.  "
   ]
  },
  {
   "cell_type": "code",
   "execution_count": 17,
   "metadata": {},
   "outputs": [],
   "source": [
    "# If you've not yet cleaned the dataset of all NaN values, then investigate and\n",
    "# do that now.\n",
    "from sklearn.preprocessing import Imputer\n",
    "\n",
    "def do_impute(df_imputed):\n",
    "    obj_delete = []\n",
    "    \n",
    "    imp_mean = Imputer(missing_values=\"NaN\", strategy=\"most_frequent\", axis = 0)\n",
    "\n",
    "    for i in df_imputed:\n",
    "        try:\n",
    "            if df_imputed[i].isna().sum() != 0:\n",
    "                #print(i)\n",
    "                df_imputed[i] = imp_mean.fit_transform(df_imputed[[i]]).ravel()\n",
    "            \n",
    "        except:\n",
    "            print(i, df_imputed[i].dtypes)\n",
    "            obj_delete.append(i)\n",
    "            \n",
    "    return imp_mean, df_imputed, obj_delete\n",
    "\n",
    "#imputer, df_imputed = do_impute(azdias_dummy_pkl)\n",
    "#imputer, df_imputed = do_impute(azdias_good)\n",
    "#imputer, df_imputed, for_dummies = do_impute(df_cust)"
   ]
  },
  {
   "cell_type": "code",
   "execution_count": 18,
   "metadata": {},
   "outputs": [],
   "source": [
    "def clean_data(df, df_feat, feat_info):\n",
    "    \"\"\"\n",
    "    Perform feature trimming, re-encoding, engineering and imputing for demographics\n",
    "    data\n",
    "    \n",
    "    INPUT: Demographics DataFrame and Features info\n",
    "    OUTPUT: Trimmed and cleaned demographics DataFrame\n",
    "    \"\"\"\n",
    "    \n",
    "    # convert missing value codes into NaNs, ...\n",
    "    nan_alls_before = []\n",
    "    for z in df:\n",
    "        nan_alls_before.append(df[z].isna().sum())\n",
    "    \n",
    "    tot_points = df.shape[0]*df.shape[1]\n",
    "    print('Before replacement:')\n",
    "    print( 'sum is:', sum(nan_alls_before), 'percenatge is:', (sum(nan_alls_before)/tot_points)*100 )\n",
    "        \n",
    "    df_nan = replace_nans(df, df_feat)\n",
    "    \n",
    "    nans_all_after = []\n",
    "    rate = []\n",
    "    for z in df_nan:\n",
    "        tot = df_nan[z].isna().sum()\n",
    "        nans_all_after.append(tot)\n",
    "        rate.append((tot/df_nan.shape[0])*100)   \n",
    "          \n",
    "    print('After replacement:')\n",
    "    print( 'sum is:', sum(nans_all_after), 'percenatge is:', (sum(nans_all_after)/tot_points)*100 )\n",
    "    \n",
    "    # drop columns with >200000 NaNs or >30 percent rate\n",
    "    c_ind_above = np.argwhere(np.asarray(rate) > 30)\n",
    "    c_ind_above = list(map(int, c_ind_above))\n",
    "    print('column indices to drop: ',c_ind_above, len(c_ind_above))\n",
    "    \n",
    "    print(list(df.iloc[:0, c_ind_above]))\n",
    "#     columnsData = df.iloc[: , c_ind_above]\n",
    "#     print(columnsData.columns)\n",
    "    df.drop(df.columns[c_ind_above], axis=1, inplace=True)\n",
    "    print(df.shape)\n",
    "    \n",
    "#     # drop rows with > 25 NaNs\n",
    "#     rows_n = []\n",
    "#     for i in range(len(df.index)) :\n",
    "#         rows_n.append(df.iloc[i].isnull().sum())\n",
    "#         if i % 150000 == 0:\n",
    "#             print(\"Nan in row \", i , \" : \" ,  rows_n[i])\n",
    "\n",
    "#     print(rows_n[:10])\n",
    "#     print(len(rows_n))\n",
    "#     threshold = 25 # interpreted from the histogram\n",
    "\n",
    "#     r_ind_above = np.argwhere(np.asarray(rows_n) > threshold)\n",
    "#     r_ind_above = list(map(int, r_ind_above))\n",
    "#     print(r_ind_above[:10], len(r_ind_above))\n",
    "\n",
    "#     r_ind_below = list(np.argwhere(np.asarray(rows_n) < threshold))\n",
    "#     r_ind_below = list(map(int, r_ind_below))\n",
    "#     print(r_ind_below[:10], len(r_ind_below))\n",
    "    \n",
    "#     azdias_bad = df.iloc[r_ind_above ,:]\n",
    "#     azdias_good = df.iloc[r_ind_below ,:]\n",
    "\n",
    "#     print(azdias_good.shape)\n",
    "#     print(azdias_bad.shape)\n",
    "    \n",
    "    # select, re-encode, and engineer column values.\n",
    "    binary, multi_level, reencoded = categoricals_check(df, feat_info)\n",
    "    \n",
    "    dfd , for_dummies = engineer_reencode(df, multi_level, feat_info)\n",
    "    \n",
    "    # do imputation\n",
    "    imputer, df_imputed, obs_delete = do_impute(dfd)\n",
    "    \n",
    "    \n",
    "    # Return the cleaned dataframe.\n",
    "    return df_imputed, for_dummies   \n",
    "    "
   ]
  },
  {
   "cell_type": "code",
   "execution_count": 25,
   "metadata": {},
   "outputs": [],
   "source": [
    "azdias_copy = azdias.copy(deep=True)"
   ]
  },
  {
   "cell_type": "code",
   "execution_count": 26,
   "metadata": {},
   "outputs": [
    {
     "name": "stdout",
     "output_type": "stream",
     "text": [
      "Before replacement:\n",
      "sum is: 33492923 percenatge is: 10.2680164156\n",
      "After replacement:\n",
      "sum is: 59466344 percenatge is: 18.23075867\n",
      "column indices to drop:  [1, 3, 4, 5, 6, 7, 28, 29, 31, 32, 33, 36, 37, 38, 39, 43, 44, 45, 46, 47, 48, 49, 53, 54, 55, 56, 59, 62, 65, 66, 67, 68, 74, 78, 79, 80, 100, 111, 129, 300, 349] 41\n",
      "['AGER_TYP', 'ALTER_HH', 'ALTER_KIND1', 'ALTER_KIND2', 'ALTER_KIND3', 'ALTER_KIND4', 'D19_BANKEN_ANZ_12', 'D19_BANKEN_ANZ_24', 'D19_BANKEN_DIREKT', 'D19_BANKEN_GROSS', 'D19_BANKEN_LOKAL', 'D19_BANKEN_ONLINE_QUOTE_12', 'D19_BANKEN_REST', 'D19_BEKLEIDUNG_GEH', 'D19_BEKLEIDUNG_REST', 'D19_DIGIT_SERV', 'D19_DROGERIEARTIKEL', 'D19_ENERGIE', 'D19_FREIZEIT', 'D19_GARTEN', 'D19_GESAMT_ANZ_12', 'D19_GESAMT_ANZ_24', 'D19_GESAMT_ONLINE_QUOTE_12', 'D19_HANDWERK', 'D19_HAUS_DEKO', 'D19_KINDERARTIKEL', 'D19_KOSMETIK', 'D19_LOTTO', 'D19_REISEN', 'D19_SAMMELARTIKEL', 'D19_SCHUHE', 'D19_SONSTIGE', 'D19_TELKO_MOBILE', 'D19_TELKO_REST', 'D19_TIERARTIKEL', 'D19_VERSAND_ANZ_12', 'EXTSEL992', 'GEBURTSJAHR', 'KBA05_BAUMAX', 'KK_KUNDENTYP', 'TITEL_KZ']\n",
      "(891221, 325)\n",
      "Nan in row  0  :  245\n",
      "Nan in row  150000  :  1\n",
      "Nan in row  300000  :  3\n",
      "Nan in row  450000  :  6\n",
      "Nan in row  600000  :  0\n",
      "Nan in row  750000  :  12\n",
      "[245, 6, 0, 8, 1, 0, 1, 0, 6, 0]\n",
      "891221\n",
      "[0, 11, 12, 13, 14, 15, 17, 20, 23, 24] 154916\n",
      "[1, 2, 3, 4, 5, 6, 7, 8, 9, 10] 736046\n",
      "(736046, 325)\n",
      "(154916, 325)\n",
      "key probably already removed from azdias: AGER_TYP\n",
      "key probably already removed from azdias: TITEL_KZ\n",
      "key probably already removed from azdias: KK_KUNDENTYP\n",
      "non-numeric binary - needs re-encoding:\n",
      " W    581258\n",
      "O    154788\n",
      "Name: OST_WEST_KZ, dtype: int64\n",
      "Binary:       ['ANREDE_KZ', 'GREEN_AVANTGARDE', 'SOHO_KZ', 'VERS_TYP'] 4\n",
      "Multi_level:  ['CJT_GESAMTTYP', 'FINANZTYP', 'GFK_URLAUBERTYP', 'LP_FAMILIE_FEIN', 'LP_FAMILIE_GROB', 'LP_STATUS_FEIN', 'LP_STATUS_GROB', 'NATIONALITAET_KZ', 'SHOPPER_TYP', 'ZABEOTYP', 'GEBAEUDETYP', 'CAMEO_DEUG_2015', 'CAMEO_DEU_2015'] 13\n",
      "Reencoded:    ['OST_WEST_KZ'] 1\n"
     ]
    },
    {
     "name": "stderr",
     "output_type": "stream",
     "text": [
      "/opt/conda/lib/python3.6/site-packages/ipykernel_launcher.py:15: SettingWithCopyWarning: \n",
      "A value is trying to be set on a copy of a slice from a DataFrame.\n",
      "Try using .loc[row_indexer,col_indexer] = value instead\n",
      "\n",
      "See the caveats in the documentation: http://pandas.pydata.org/pandas-docs/stable/indexing.html#indexing-view-versus-copy\n",
      "  from ipykernel import kernelapp as app\n"
     ]
    },
    {
     "name": "stdout",
     "output_type": "stream",
     "text": [
      "OST_WEST_KZ fixed\n"
     ]
    },
    {
     "name": "stderr",
     "output_type": "stream",
     "text": [
      "/opt/conda/lib/python3.6/site-packages/ipykernel_launcher.py:33: SettingWithCopyWarning: \n",
      "A value is trying to be set on a copy of a slice from a DataFrame.\n",
      "Try using .loc[row_indexer,col_indexer] = value instead\n",
      "\n",
      "See the caveats in the documentation: http://pandas.pydata.org/pandas-docs/stable/indexing.html#indexing-view-versus-copy\n",
      "/opt/conda/lib/python3.6/site-packages/ipykernel_launcher.py:34: SettingWithCopyWarning: \n",
      "A value is trying to be set on a copy of a slice from a DataFrame.\n",
      "Try using .loc[row_indexer,col_indexer] = value instead\n",
      "\n",
      "See the caveats in the documentation: http://pandas.pydata.org/pandas-docs/stable/indexing.html#indexing-view-versus-copy\n"
     ]
    },
    {
     "name": "stdout",
     "output_type": "stream",
     "text": [
      "PRAEGENDE_JUGENDJAHRE can be deleted\n"
     ]
    },
    {
     "name": "stderr",
     "output_type": "stream",
     "text": [
      "/opt/conda/lib/python3.6/site-packages/ipykernel_launcher.py:16: SettingWithCopyWarning: \n",
      "A value is trying to be set on a copy of a slice from a DataFrame.\n",
      "Try using .loc[row_indexer,col_indexer] = value instead\n",
      "\n",
      "See the caveats in the documentation: http://pandas.pydata.org/pandas-docs/stable/indexing.html#indexing-view-versus-copy\n",
      "  app.launch_new_instance()\n"
     ]
    },
    {
     "name": "stdout",
     "output_type": "stream",
     "text": [
      "CAMEO_INTL_2015 can be deleted\n",
      "WOHNLAGE can be deleted\n"
     ]
    },
    {
     "name": "stderr",
     "output_type": "stream",
     "text": [
      "/opt/conda/lib/python3.6/site-packages/ipykernel_launcher.py:17: SettingWithCopyWarning: \n",
      "A value is trying to be set on a copy of a slice from a DataFrame.\n",
      "Try using .loc[row_indexer,col_indexer] = value instead\n",
      "\n",
      "See the caveats in the documentation: http://pandas.pydata.org/pandas-docs/stable/indexing.html#indexing-view-versus-copy\n",
      "/opt/conda/lib/python3.6/site-packages/ipykernel_launcher.py:18: SettingWithCopyWarning: \n",
      "A value is trying to be set on a copy of a slice from a DataFrame.\n",
      "Try using .loc[row_indexer,col_indexer] = value instead\n",
      "\n",
      "See the caveats in the documentation: http://pandas.pydata.org/pandas-docs/stable/indexing.html#indexing-view-versus-copy\n"
     ]
    },
    {
     "name": "stdout",
     "output_type": "stream",
     "text": [
      "PLZ8_BAUMAX can be deleted\n"
     ]
    },
    {
     "name": "stderr",
     "output_type": "stream",
     "text": [
      "/opt/conda/lib/python3.6/site-packages/ipykernel_launcher.py:11: SettingWithCopyWarning: \n",
      "A value is trying to be set on a copy of a slice from a DataFrame.\n",
      "Try using .loc[row_indexer,col_indexer] = value instead\n",
      "\n",
      "See the caveats in the documentation: http://pandas.pydata.org/pandas-docs/stable/indexing.html#indexing-view-versus-copy\n",
      "  # This is added back by InteractiveShellApp.init_path()\n"
     ]
    },
    {
     "name": "stdout",
     "output_type": "stream",
     "text": [
      "EINGEFUEGT_AM is fixed\n",
      "For get_dummies:     ['CJT_GESAMTTYP', 'FINANZTYP', 'LP_FAMILIE_GROB', 'LP_STATUS_GROB', 'NATIONALITAET_KZ', 'SHOPPER_TYP', 'ZABEOTYP', 'GEBAEUDETYP', 'CAMEO_DEUG_2015'] 9\n",
      "To delete:           ['GFK_URLAUBERTYP', 'LP_FAMILIE_FEIN', 'LP_STATUS_FEIN', 'CAMEO_DEU_2015'] 4\n",
      "Columns to delete:  ['VERDICHTUNGSRAUM', 'CAMEO_DEU_2015', 'ANZ_TITEL', 'ANZ_KINDER', 'ANZ_HH_TITEL', 'EINGEFUEGT_AM', 'LP_LEBENSPHASE_FEIN', 'LP_LEBENSPHASE_GROB', 'PRAEGENDE_JUGENDJAHRE', 'WOHNLAGE', 'CAMEO_INTL_2015', 'KBA05_BAUMAX', 'PLZ8_BAUMAX', 'GFK_URLAUBERTYP', 'LP_FAMILIE_FEIN', 'LP_STATUS_FEIN', 'CAMEO_DEU_2015']\n"
     ]
    },
    {
     "name": "stderr",
     "output_type": "stream",
     "text": [
      "/opt/conda/lib/python3.6/site-packages/pandas/core/frame.py:3697: SettingWithCopyWarning: \n",
      "A value is trying to be set on a copy of a slice from a DataFrame\n",
      "\n",
      "See the caveats in the documentation: http://pandas.pydata.org/pandas-docs/stable/indexing.html#indexing-view-versus-copy\n",
      "  errors=errors)\n"
     ]
    },
    {
     "name": "stdout",
     "output_type": "stream",
     "text": [
      "KBA05_BAUMAX already deleted in the previous steps\n",
      "CAMEO_DEU_2015 already deleted in the previous steps\n"
     ]
    },
    {
     "name": "stderr",
     "output_type": "stream",
     "text": [
      "/opt/conda/lib/python3.6/site-packages/ipykernel_launcher.py:14: SettingWithCopyWarning: \n",
      "A value is trying to be set on a copy of a slice from a DataFrame.\n",
      "Try using .loc[row_indexer,col_indexer] = value instead\n",
      "\n",
      "See the caveats in the documentation: http://pandas.pydata.org/pandas-docs/stable/indexing.html#indexing-view-versus-copy\n",
      "  \n"
     ]
    },
    {
     "name": "stdout",
     "output_type": "stream",
     "text": [
      "D19_LETZTER_KAUF_BRANCHE object\n"
     ]
    }
   ],
   "source": [
    "adf_imputed, afor_dummies = clean_data(azdias_copy, feat_info_pickle, feat_info)"
   ]
  },
  {
   "cell_type": "code",
   "execution_count": 19,
   "metadata": {},
   "outputs": [],
   "source": [
    "# Apply feature scaling to the general population demographics data.\n",
    "\n",
    "def do_scaling(data):\n",
    "    scaler = StandardScaler()\n",
    "    scaled = StandardScaler().fit_transform(data)\n",
    "    \n",
    "    print('Scaling finished!')    \n",
    "    return scaler, scaled\n",
    "\n",
    "#scaler, df_scaled = do_scaling(df_imputed)"
   ]
  },
  {
   "cell_type": "code",
   "execution_count": 28,
   "metadata": {},
   "outputs": [
    {
     "name": "stdout",
     "output_type": "stream",
     "text": [
      "Performing get_dummies on the following: ['AKT_DAT_KL', 'GEBAEUDETYP', 'D19_KONSUMTYP', 'D19_LETZTER_KAUF_BRANCHE', 'KBA05_MAXHERST', 'KBA05_MAXSEG', 'ARBEIT', 'CJT_KATALOGNUTZER', 'CJT_GESAMTTYP', 'FINANZTYP', 'LP_FAMILIE_GROB', 'LP_STATUS_GROB', 'NATIONALITAET_KZ', 'SHOPPER_TYP', 'ZABEOTYP', 'GEBAEUDETYP', 'CAMEO_DEUG_2015']\n",
      "***get_dummies finished!\n"
     ]
    }
   ],
   "source": [
    "adf_dummy = make_dummies(adf_imputed, afor_dummies)"
   ]
  },
  {
   "cell_type": "code",
   "execution_count": 29,
   "metadata": {},
   "outputs": [
    {
     "data": {
      "text/plain": [
       "(736046, 430)"
      ]
     },
     "execution_count": 29,
     "metadata": {},
     "output_type": "execute_result"
    }
   ],
   "source": [
    "adf_dummy.shape"
   ]
  },
  {
   "cell_type": "code",
   "execution_count": null,
   "metadata": {},
   "outputs": [],
   "source": [
    "#old_dummy = pd.read_pickle('data/azdias_dummy.pkl')\n",
    "#adf_dummy.to_pickle('data/adf_dummy.pkl')\n",
    "#azdias_dummy_pkl = pd.read_pickle('data/azdias_dummy.pkl')"
   ]
  },
  {
   "cell_type": "code",
   "execution_count": 31,
   "metadata": {},
   "outputs": [
    {
     "name": "stdout",
     "output_type": "stream",
     "text": [
      "Scaling finished!\n"
     ]
    }
   ],
   "source": [
    "ascaler, adf_scaled = do_scaling(adf_dummy)"
   ]
  },
  {
   "cell_type": "code",
   "execution_count": 35,
   "metadata": {},
   "outputs": [
    {
     "data": {
      "text/plain": [
       "(736046, 430)"
      ]
     },
     "execution_count": 35,
     "metadata": {},
     "output_type": "execute_result"
    }
   ],
   "source": [
    "adf_scaled.shape"
   ]
  },
  {
   "cell_type": "markdown",
   "metadata": {},
   "source": [
    "## Part 1: Customer Segmentation Report\n",
    "\n",
    "The main bulk of your analysis will come in this part of the project. Here, you should use unsupervised learning techniques to describe the relationship between the demographics of the company's existing customers and the general population of Germany. By the end of this part, you should be able to describe parts of the general population that are more likely to be part of the mail-order company's main customer base, and which parts of the general population are less so."
   ]
  },
  {
   "cell_type": "code",
   "execution_count": null,
   "metadata": {},
   "outputs": [],
   "source": [
    "# pickle.dump(adf_scaled, open('data/adf_scaled.pkl','wb'))\n",
    "# pickle.dump(ascaler, open('data/ascaler.pkl','wb'))\n",
    "#adf_scaled = pickle.load(open('file/path/scaler.pkl','rb'))"
   ]
  },
  {
   "cell_type": "code",
   "execution_count": 39,
   "metadata": {},
   "outputs": [],
   "source": [
    "# Apply PCA to the data.\n",
    "\n",
    "#from sklearn.decomposition import PCA\n",
    "from sklearn.decomposition import IncrementalPCA\n",
    "\n",
    "def do_pca(n_components, data):\n",
    "    '''\n",
    "    Transforms data using PCA to create n_components, and provides back the results of the\n",
    "    transformation.\n",
    "\n",
    "    INPUT: n_components - int - the number of principal components to create\n",
    "           data - the data you would like to transform\n",
    "\n",
    "    OUTPUT: pca - the pca object created after fitting the data\n",
    "            X_pca - the transformed X matrix with new number of components\n",
    "    '''\n",
    "    ipca = IncrementalPCA(n_components=n_components, batch_size=100)\n",
    "\n",
    "    X_pca = ipca.fit_transform(data)\n",
    "    return ipca, X_pca\n",
    "\n",
    "#pca, df_pca = do_pca(46, df_scaled)"
   ]
  },
  {
   "cell_type": "code",
   "execution_count": 37,
   "metadata": {},
   "outputs": [],
   "source": [
    "# Investigate the variance accounted for by each principal component.\n",
    "def scree_plot(pca):\n",
    "    '''\n",
    "    Creates a scree plot associated with the principal components \n",
    "    \n",
    "    INPUT: pca - the result of instantian of PCA in scikit learn\n",
    "            \n",
    "    OUTPUT:\n",
    "            None\n",
    "    '''\n",
    "    num_components=len(pca.explained_variance_ratio_)\n",
    "    ind = np.arange(num_components)\n",
    "    vals = pca.explained_variance_ratio_\n",
    " \n",
    "    plt.figure(figsize=(15, 6))\n",
    "    ax = plt.subplot(111)\n",
    "    cumvals = np.cumsum(vals)\n",
    "    ax.bar(ind, vals)\n",
    "    ax.plot(ind, cumvals)\n",
    "    for i in range(num_components):\n",
    "        ax.annotate(r\"%s%%\" % ((str(vals[i]*100)[:4])), (ind[i]+0.2, vals[i]), va=\"bottom\", ha=\"center\", fontsize=12)\n",
    " \n",
    "    ax.xaxis.set_tick_params(width=0)\n",
    "    ax.yaxis.set_tick_params(width=2, length=12)\n",
    " \n",
    "    ax.set_xlabel(\"Principal Component\")\n",
    "    ax.set_ylabel(\"Variance Explained (%)\")\n",
    "    plt.title('Explained Variance Per Principal Component')\n",
    "\n",
    "#scree_plot(pca)"
   ]
  },
  {
   "cell_type": "markdown",
   "metadata": {},
   "source": [
    "### PCA and Kmeans Clustering  \n",
    "As mentioned in the proposal, Principal Component Analysis (PCA) was supposed to be used here as there is wide spread data and PCA helps in reducing the dimensionality of it. But there were memory issues and therefore IPCA was used instead.  \n",
    "Also, kmeans clustering is applied as it is very simple and popular technique to cluster the similar data points together and get to their underlying patterns.\n",
    "-  The n_components were set to 30 as the needed varience is already explained by them.\n",
    "-  For Kmeans, different numbers were tried - elbow diagram was used to get the number of clusters - in the end 10 clusters were selected (The elbow diagram was taking more time to execute again therefore the plotting is done with less numbers."
   ]
  },
  {
   "cell_type": "markdown",
   "metadata": {},
   "source": [
    "##### General Population Data Analysis    \n",
    " - Apply PCA and Kmeans  "
   ]
  },
  {
   "cell_type": "code",
   "execution_count": 41,
   "metadata": {},
   "outputs": [
    {
     "data": {
      "image/png": "[encoded data removed]",
      "text/plain": [
       "<matplotlib.figure.Figure at 0x7fca4b0082b0>"
      ]
     },
     "metadata": {
      "needs_background": "light"
     },
     "output_type": "display_data"
    }
   ],
   "source": [
    "ipca, idf_pca = do_pca(40, adf_scaled)\n",
    "scree_plot(ipca)"
   ]
  },
  {
   "cell_type": "code",
   "execution_count": 55,
   "metadata": {},
   "outputs": [
    {
     "name": "stdout",
     "output_type": "stream",
     "text": [
      "MOBI_REGIO           0.145157\n",
      "PLZ8_ANTG1           0.140843\n",
      "KBA13_ANTG1          0.140170\n",
      "KBA05_ANTG1          0.134542\n",
      "MOBI_RASTER          0.131397\n",
      "KBA05_AUTOQUOT       0.129465\n",
      "KBA05_GBZ            0.127591\n",
      "KBA13_AUTOQUOTE      0.126459\n",
      "FINANZ_MINIMALIST    0.116610\n",
      "GEMEINDETYP          0.108998\n",
      "Name: 0, dtype: float64\n",
      "EWDICHTE             -0.113903\n",
      "ORTSGR_KLS9          -0.114130\n",
      "HH_EINKOMMEN_SCORE   -0.128408\n",
      "LP_STATUS_GROB_1.0   -0.128747\n",
      "CAMEO_INTL_2015_W    -0.129935\n",
      "PLZ8_ANTG4           -0.134211\n",
      "KBA13_BAUMAX         -0.134767\n",
      "KBA13_ANTG4          -0.135486\n",
      "KBA13_ANTG3          -0.138638\n",
      "PLZ8_ANTG3           -0.139468\n",
      "Name: 0, dtype: float64\n"
     ]
    }
   ],
   "source": [
    "print(pca_features_weights(ipca, 0, adf_dummy)[:10])\n",
    "print(pca_features_weights(ipca, 0, adf_dummy)[-10:])"
   ]
  },
  {
   "cell_type": "code",
   "execution_count": 56,
   "metadata": {},
   "outputs": [
    {
     "name": "stdout",
     "output_type": "stream",
     "text": [
      "KBA13_HERST_BMW_BENZ           0.181212\n",
      "KBA13_SEG_OBEREMITTELKLASSE    0.155423\n",
      "KBA13_MERCEDES                 0.154967\n",
      "KBA13_BMW                      0.151157\n",
      "KBA13_SITZE_4                  0.146317\n",
      "KBA13_SEG_SPORTWAGEN           0.140337\n",
      "KBA05_HERST1                   0.129387\n",
      "KBA13_KMH_211                  0.124960\n",
      "KBA13_KMH_250                  0.122711\n",
      "KBA13_KW_121                   0.122297\n",
      "Name: 1, dtype: float64\n",
      "KBA13_HERST_ASIEN         -0.103407\n",
      "KBA13_KW_0_60             -0.103950\n",
      "OST_WEST_KZ               -0.107333\n",
      "KBA13_HALTER_20           -0.111077\n",
      "KBA13_SEG_KOMPAKTKLASSE   -0.114107\n",
      "KBA13_KMH_180             -0.115783\n",
      "KBA13_HALTER_25           -0.120263\n",
      "KBA13_KMH_140_210         -0.128560\n",
      "KBA13_SEG_KLEINWAGEN      -0.128930\n",
      "KBA13_SITZE_5             -0.150497\n",
      "Name: 1, dtype: float64\n"
     ]
    }
   ],
   "source": [
    "print(pca_features_weights(ipca, 1, adf_dummy)[:10])\n",
    "print(pca_features_weights(ipca, 1, adf_dummy)[-10:])"
   ]
  },
  {
   "cell_type": "code",
   "execution_count": 50,
   "metadata": {},
   "outputs": [],
   "source": [
    "labels, model = fit_kmeans(idf_pca, 10)"
   ]
  },
  {
   "cell_type": "code",
   "execution_count": 43,
   "metadata": {},
   "outputs": [],
   "source": [
    "# Map weights for the first principal component to corresponding feature names\n",
    "# and then print the linked values, sorted by weight.\n",
    "# HINT: Try defining a function here or in a new cell that you can reuse in the\n",
    "# other cells.\n",
    "\n",
    "def map_weights_get_features(comp, pca, df_imputed):\n",
    "    feature = df_imputed.columns[np.abs(pca.components_[comp]).argmax()]\n",
    "    values = sorted(pca.components_[comp])\n",
    "    return feature, values\n",
    "\n",
    "def pca_features_weights(pca, comp, df_imputed):\n",
    "    df_weights = pd.DataFrame(pca.components_, columns=list(df_imputed.columns))\n",
    "    feature_values = df_weights.iloc[comp].sort_values(ascending=False)\n",
    "    return feature_values\n"
   ]
  },
  {
   "cell_type": "code",
   "execution_count": 49,
   "metadata": {},
   "outputs": [],
   "source": [
    "from mpl_toolkits.mplot3d import Axes3D\n",
    "from sklearn.cluster import KMeans\n",
    "from sklearn.datasets import make_blobs\n",
    "\n",
    "def fit_kmeans(data, centers):\n",
    "    '''\n",
    "    INPUT:\n",
    "        data = the dataset you would like to fit kmeans to (dataframe)\n",
    "        centers = the number of centroids (int)\n",
    "    OUTPUT:\n",
    "        labels - the labels for each datapoint to which group it belongs (nparray)\n",
    "    \n",
    "    '''\n",
    "    kmeans = KMeans(centers)\n",
    "    model = kmeans.fit(data)\n",
    "    labels = model.predict(data)\n",
    "    return labels, model"
   ]
  },
  {
   "cell_type": "code",
   "execution_count": 51,
   "metadata": {},
   "outputs": [],
   "source": [
    "def get_kmeans_score(data, center):\n",
    "    '''\n",
    "    returns the kmeans score regarding SSE for points to centers\n",
    "    INPUT:\n",
    "        data - the dataset you want to fit kmeans to\n",
    "        center - the number of centers you want (the k value)\n",
    "    OUTPUT:\n",
    "        score - the SSE score for the kmeans model fit to the data\n",
    "    '''\n",
    "    #instantiate kmeans\n",
    "    kmeans = KMeans(n_clusters=center)\n",
    "\n",
    "    # Then fit the model to your data using the fit method\n",
    "    model = kmeans.fit(data)\n",
    "    \n",
    "    # Obtain a score related to the model fit\n",
    "    score = np.abs(model.score(data))\n",
    "    \n",
    "    return score"
   ]
  },
  {
   "cell_type": "markdown",
   "metadata": {},
   "source": [
    "### Part 1.1: Customers Data Analysis  \n",
    " - Load and Clean Customers data  \n",
    " - Apply PCA and Kmeans  \n",
    " - Compare with Genaral population"
   ]
  },
  {
   "cell_type": "code",
   "execution_count": 165,
   "metadata": {},
   "outputs": [
    {
     "data": {
      "text/html": [
       "<div>\n",
       "<style scoped>\n",
       "    .dataframe tbody tr th:only-of-type {\n",
       "        vertical-align: middle;\n",
       "    }\n",
       "\n",
       "    .dataframe tbody tr th {\n",
       "        vertical-align: top;\n",
       "    }\n",
       "\n",
       "    .dataframe thead th {\n",
       "        text-align: right;\n",
       "    }\n",
       "</style>\n",
       "<table border=\"1\" class=\"dataframe\">\n",
       "  <thead>\n",
       "    <tr style=\"text-align: right;\">\n",
       "      <th></th>\n",
       "      <th>AGER_TYP</th>\n",
       "      <th>AKT_DAT_KL</th>\n",
       "      <th>ALTER_HH</th>\n",
       "      <th>ALTER_KIND1</th>\n",
       "      <th>ALTER_KIND2</th>\n",
       "      <th>ALTER_KIND3</th>\n",
       "      <th>ALTER_KIND4</th>\n",
       "      <th>ALTERSKATEGORIE_FEIN</th>\n",
       "      <th>ANZ_HAUSHALTE_AKTIV</th>\n",
       "      <th>ANZ_PERSONEN</th>\n",
       "      <th>...</th>\n",
       "      <th>ANREDE_KZ</th>\n",
       "      <th>ALTERSKATEGORIE_GROB</th>\n",
       "      <th>PRAEGENDE_JUGENDJAHRE_D</th>\n",
       "      <th>PRAEGENDE_JUGENDJAHRE_M</th>\n",
       "      <th>CAMEO_INTL_2015_W</th>\n",
       "      <th>CAMEO_INTL_2015_L</th>\n",
       "      <th>NEIGHBOUR_RURAL</th>\n",
       "      <th>PLZ8_BAUMAX_Family</th>\n",
       "      <th>PLZ8_BAUMAX_Business</th>\n",
       "      <th>EINGEFUEGT_AM_New</th>\n",
       "    </tr>\n",
       "  </thead>\n",
       "  <tbody>\n",
       "    <tr>\n",
       "      <th>0</th>\n",
       "      <td>2.0</td>\n",
       "      <td>1.0</td>\n",
       "      <td>10.0</td>\n",
       "      <td>NaN</td>\n",
       "      <td>NaN</td>\n",
       "      <td>NaN</td>\n",
       "      <td>NaN</td>\n",
       "      <td>10.0</td>\n",
       "      <td>1.0</td>\n",
       "      <td>2.0</td>\n",
       "      <td>...</td>\n",
       "      <td>1</td>\n",
       "      <td>4.0</td>\n",
       "      <td>1.0</td>\n",
       "      <td>0</td>\n",
       "      <td>1</td>\n",
       "      <td>3</td>\n",
       "      <td>1.0</td>\n",
       "      <td>1.0</td>\n",
       "      <td>0.0</td>\n",
       "      <td>1992.0</td>\n",
       "    </tr>\n",
       "    <tr>\n",
       "      <th>2</th>\n",
       "      <td>NaN</td>\n",
       "      <td>1.0</td>\n",
       "      <td>6.0</td>\n",
       "      <td>NaN</td>\n",
       "      <td>NaN</td>\n",
       "      <td>NaN</td>\n",
       "      <td>NaN</td>\n",
       "      <td>0.0</td>\n",
       "      <td>1.0</td>\n",
       "      <td>1.0</td>\n",
       "      <td>...</td>\n",
       "      <td>2</td>\n",
       "      <td>4.0</td>\n",
       "      <td>1.0</td>\n",
       "      <td>0</td>\n",
       "      <td>3</td>\n",
       "      <td>4</td>\n",
       "      <td>0.0</td>\n",
       "      <td>3.0</td>\n",
       "      <td>0.0</td>\n",
       "      <td>1992.0</td>\n",
       "    </tr>\n",
       "    <tr>\n",
       "      <th>3</th>\n",
       "      <td>1.0</td>\n",
       "      <td>1.0</td>\n",
       "      <td>8.0</td>\n",
       "      <td>NaN</td>\n",
       "      <td>NaN</td>\n",
       "      <td>NaN</td>\n",
       "      <td>NaN</td>\n",
       "      <td>8.0</td>\n",
       "      <td>NaN</td>\n",
       "      <td>0.0</td>\n",
       "      <td>...</td>\n",
       "      <td>1</td>\n",
       "      <td>4.0</td>\n",
       "      <td>0.0</td>\n",
       "      <td>1</td>\n",
       "      <td>2</td>\n",
       "      <td>4</td>\n",
       "      <td>1.0</td>\n",
       "      <td>1.0</td>\n",
       "      <td>0.0</td>\n",
       "      <td>1992.0</td>\n",
       "    </tr>\n",
       "    <tr>\n",
       "      <th>4</th>\n",
       "      <td>NaN</td>\n",
       "      <td>1.0</td>\n",
       "      <td>20.0</td>\n",
       "      <td>NaN</td>\n",
       "      <td>NaN</td>\n",
       "      <td>NaN</td>\n",
       "      <td>NaN</td>\n",
       "      <td>14.0</td>\n",
       "      <td>7.0</td>\n",
       "      <td>4.0</td>\n",
       "      <td>...</td>\n",
       "      <td>1</td>\n",
       "      <td>3.0</td>\n",
       "      <td>3.0</td>\n",
       "      <td>1</td>\n",
       "      <td>4</td>\n",
       "      <td>1</td>\n",
       "      <td>0.0</td>\n",
       "      <td>2.0</td>\n",
       "      <td>0.0</td>\n",
       "      <td>1992.0</td>\n",
       "    </tr>\n",
       "    <tr>\n",
       "      <th>5</th>\n",
       "      <td>1.0</td>\n",
       "      <td>1.0</td>\n",
       "      <td>11.0</td>\n",
       "      <td>NaN</td>\n",
       "      <td>NaN</td>\n",
       "      <td>NaN</td>\n",
       "      <td>NaN</td>\n",
       "      <td>10.0</td>\n",
       "      <td>1.0</td>\n",
       "      <td>2.0</td>\n",
       "      <td>...</td>\n",
       "      <td>1</td>\n",
       "      <td>3.0</td>\n",
       "      <td>1.0</td>\n",
       "      <td>0</td>\n",
       "      <td>3</td>\n",
       "      <td>4</td>\n",
       "      <td>0.0</td>\n",
       "      <td>1.0</td>\n",
       "      <td>0.0</td>\n",
       "      <td>1992.0</td>\n",
       "    </tr>\n",
       "  </tbody>\n",
       "</table>\n",
       "<p>5 rows × 323 columns</p>\n",
       "</div>"
      ],
      "text/plain": [
       "   AGER_TYP  AKT_DAT_KL  ALTER_HH  ALTER_KIND1  ALTER_KIND2  ALTER_KIND3  \\\n",
       "0       2.0         1.0      10.0          NaN          NaN          NaN   \n",
       "2       NaN         1.0       6.0          NaN          NaN          NaN   \n",
       "3       1.0         1.0       8.0          NaN          NaN          NaN   \n",
       "4       NaN         1.0      20.0          NaN          NaN          NaN   \n",
       "5       1.0         1.0      11.0          NaN          NaN          NaN   \n",
       "\n",
       "   ALTER_KIND4  ALTERSKATEGORIE_FEIN  ANZ_HAUSHALTE_AKTIV  ANZ_PERSONEN  \\\n",
       "0          NaN                  10.0                  1.0           2.0   \n",
       "2          NaN                   0.0                  1.0           1.0   \n",
       "3          NaN                   8.0                  NaN           0.0   \n",
       "4          NaN                  14.0                  7.0           4.0   \n",
       "5          NaN                  10.0                  1.0           2.0   \n",
       "\n",
       "         ...          ANREDE_KZ  ALTERSKATEGORIE_GROB  \\\n",
       "0        ...                  1                   4.0   \n",
       "2        ...                  2                   4.0   \n",
       "3        ...                  1                   4.0   \n",
       "4        ...                  1                   3.0   \n",
       "5        ...                  1                   3.0   \n",
       "\n",
       "   PRAEGENDE_JUGENDJAHRE_D PRAEGENDE_JUGENDJAHRE_M  CAMEO_INTL_2015_W  \\\n",
       "0                      1.0                       0                  1   \n",
       "2                      1.0                       0                  3   \n",
       "3                      0.0                       1                  2   \n",
       "4                      3.0                       1                  4   \n",
       "5                      1.0                       0                  3   \n",
       "\n",
       "   CAMEO_INTL_2015_L  NEIGHBOUR_RURAL  PLZ8_BAUMAX_Family  \\\n",
       "0                  3              1.0                 1.0   \n",
       "2                  4              0.0                 3.0   \n",
       "3                  4              1.0                 1.0   \n",
       "4                  1              0.0                 2.0   \n",
       "5                  4              0.0                 1.0   \n",
       "\n",
       "   PLZ8_BAUMAX_Business  EINGEFUEGT_AM_New  \n",
       "0                   0.0             1992.0  \n",
       "2                   0.0             1992.0  \n",
       "3                   0.0             1992.0  \n",
       "4                   0.0             1992.0  \n",
       "5                   0.0             1992.0  \n",
       "\n",
       "[5 rows x 323 columns]"
      ]
     },
     "execution_count": 165,
     "metadata": {},
     "output_type": "execute_result"
    }
   ],
   "source": [
    "#df_cust.drop(columns=['D19_LETZTER_KAUF_BRANCHE'], inplace=True)\n",
    "df_cust.head()"
   ]
  },
  {
   "cell_type": "code",
   "execution_count": 57,
   "metadata": {},
   "outputs": [
    {
     "name": "stdout",
     "output_type": "stream",
     "text": [
      "Before replacement:\n",
      "sum is: 13864522 percenatge is: 19.765620839\n",
      "After replacement:\n",
      "sum is: 19286387 percenatge is: 27.4951716904\n",
      "column indices to drop:  [1, 3, 4, 5, 6, 7, 28, 29, 31, 32, 33, 36, 37, 38, 39, 43, 44, 45, 46, 47, 48, 49, 53, 54, 55, 56, 59, 62, 65, 66, 67, 68, 74, 78, 79, 80, 100, 111, 129, 300, 301, 326, 349] 43\n",
      "['AGER_TYP', 'ALTER_HH', 'ALTER_KIND1', 'ALTER_KIND2', 'ALTER_KIND3', 'ALTER_KIND4', 'D19_BANKEN_ANZ_12', 'D19_BANKEN_ANZ_24', 'D19_BANKEN_DIREKT', 'D19_BANKEN_GROSS', 'D19_BANKEN_LOKAL', 'D19_BANKEN_ONLINE_QUOTE_12', 'D19_BANKEN_REST', 'D19_BEKLEIDUNG_GEH', 'D19_BEKLEIDUNG_REST', 'D19_DIGIT_SERV', 'D19_DROGERIEARTIKEL', 'D19_ENERGIE', 'D19_FREIZEIT', 'D19_GARTEN', 'D19_GESAMT_ANZ_12', 'D19_GESAMT_ANZ_24', 'D19_GESAMT_ONLINE_QUOTE_12', 'D19_HANDWERK', 'D19_HAUS_DEKO', 'D19_KINDERARTIKEL', 'D19_KOSMETIK', 'D19_LOTTO', 'D19_REISEN', 'D19_SAMMELARTIKEL', 'D19_SCHUHE', 'D19_SONSTIGE', 'D19_TELKO_MOBILE', 'D19_TELKO_REST', 'D19_TIERARTIKEL', 'D19_VERSAND_ANZ_12', 'EXTSEL992', 'GEBURTSJAHR', 'KBA05_BAUMAX', 'KK_KUNDENTYP', 'KKK', 'REGIOTYP', 'TITEL_KZ']\n",
      "(191652, 323)\n",
      "Nan in row  0  :  2\n",
      "Nan in row  150000  :  0\n",
      "[2, 242, 0, 8, 0, 0, 1, 0, 3, 0]\n",
      "191652\n",
      "[1, 10, 13, 20, 36, 37, 38, 39, 40, 43] 57662\n",
      "[0, 2, 3, 4, 5, 6, 7, 8, 9, 11] 133803\n",
      "(133803, 323)\n",
      "(57662, 323)\n",
      "key probably already removed from azdias: AGER_TYP\n",
      "key probably already removed from azdias: TITEL_KZ\n",
      "key probably already removed from azdias: KK_KUNDENTYP\n",
      "non-numeric binary - needs re-encoding:\n",
      " W    123253\n",
      "O     10550\n",
      "Name: OST_WEST_KZ, dtype: int64\n",
      "Binary:       ['ANREDE_KZ', 'GREEN_AVANTGARDE', 'SOHO_KZ', 'VERS_TYP'] 4\n",
      "Multi_level:  ['CJT_GESAMTTYP', 'FINANZTYP', 'GFK_URLAUBERTYP', 'LP_FAMILIE_FEIN', 'LP_FAMILIE_GROB', 'LP_STATUS_FEIN', 'LP_STATUS_GROB', 'NATIONALITAET_KZ', 'SHOPPER_TYP', 'ZABEOTYP', 'GEBAEUDETYP', 'CAMEO_DEUG_2015', 'CAMEO_DEU_2015'] 13\n",
      "Reencoded:    ['OST_WEST_KZ'] 1\n"
     ]
    },
    {
     "name": "stderr",
     "output_type": "stream",
     "text": [
      "/opt/conda/lib/python3.6/site-packages/ipykernel_launcher.py:15: SettingWithCopyWarning: \n",
      "A value is trying to be set on a copy of a slice from a DataFrame.\n",
      "Try using .loc[row_indexer,col_indexer] = value instead\n",
      "\n",
      "See the caveats in the documentation: http://pandas.pydata.org/pandas-docs/stable/indexing.html#indexing-view-versus-copy\n",
      "  from ipykernel import kernelapp as app\n"
     ]
    },
    {
     "name": "stdout",
     "output_type": "stream",
     "text": [
      "OST_WEST_KZ fixed\n"
     ]
    },
    {
     "name": "stderr",
     "output_type": "stream",
     "text": [
      "/opt/conda/lib/python3.6/site-packages/ipykernel_launcher.py:33: SettingWithCopyWarning: \n",
      "A value is trying to be set on a copy of a slice from a DataFrame.\n",
      "Try using .loc[row_indexer,col_indexer] = value instead\n",
      "\n",
      "See the caveats in the documentation: http://pandas.pydata.org/pandas-docs/stable/indexing.html#indexing-view-versus-copy\n",
      "/opt/conda/lib/python3.6/site-packages/ipykernel_launcher.py:34: SettingWithCopyWarning: \n",
      "A value is trying to be set on a copy of a slice from a DataFrame.\n",
      "Try using .loc[row_indexer,col_indexer] = value instead\n",
      "\n",
      "See the caveats in the documentation: http://pandas.pydata.org/pandas-docs/stable/indexing.html#indexing-view-versus-copy\n"
     ]
    },
    {
     "name": "stdout",
     "output_type": "stream",
     "text": [
      "PRAEGENDE_JUGENDJAHRE can be deleted\n"
     ]
    },
    {
     "name": "stderr",
     "output_type": "stream",
     "text": [
      "/opt/conda/lib/python3.6/site-packages/ipykernel_launcher.py:16: SettingWithCopyWarning: \n",
      "A value is trying to be set on a copy of a slice from a DataFrame.\n",
      "Try using .loc[row_indexer,col_indexer] = value instead\n",
      "\n",
      "See the caveats in the documentation: http://pandas.pydata.org/pandas-docs/stable/indexing.html#indexing-view-versus-copy\n",
      "  app.launch_new_instance()\n"
     ]
    },
    {
     "name": "stdout",
     "output_type": "stream",
     "text": [
      "CAMEO_INTL_2015 can be deleted\n",
      "WOHNLAGE can be deleted\n"
     ]
    },
    {
     "name": "stderr",
     "output_type": "stream",
     "text": [
      "/opt/conda/lib/python3.6/site-packages/ipykernel_launcher.py:17: SettingWithCopyWarning: \n",
      "A value is trying to be set on a copy of a slice from a DataFrame.\n",
      "Try using .loc[row_indexer,col_indexer] = value instead\n",
      "\n",
      "See the caveats in the documentation: http://pandas.pydata.org/pandas-docs/stable/indexing.html#indexing-view-versus-copy\n",
      "/opt/conda/lib/python3.6/site-packages/ipykernel_launcher.py:18: SettingWithCopyWarning: \n",
      "A value is trying to be set on a copy of a slice from a DataFrame.\n",
      "Try using .loc[row_indexer,col_indexer] = value instead\n",
      "\n",
      "See the caveats in the documentation: http://pandas.pydata.org/pandas-docs/stable/indexing.html#indexing-view-versus-copy\n"
     ]
    },
    {
     "name": "stdout",
     "output_type": "stream",
     "text": [
      "PLZ8_BAUMAX can be deleted\n"
     ]
    },
    {
     "name": "stderr",
     "output_type": "stream",
     "text": [
      "/opt/conda/lib/python3.6/site-packages/ipykernel_launcher.py:11: SettingWithCopyWarning: \n",
      "A value is trying to be set on a copy of a slice from a DataFrame.\n",
      "Try using .loc[row_indexer,col_indexer] = value instead\n",
      "\n",
      "See the caveats in the documentation: http://pandas.pydata.org/pandas-docs/stable/indexing.html#indexing-view-versus-copy\n",
      "  # This is added back by InteractiveShellApp.init_path()\n"
     ]
    },
    {
     "name": "stdout",
     "output_type": "stream",
     "text": [
      "EINGEFUEGT_AM is fixed\n",
      "For get_dummies:     ['CJT_GESAMTTYP', 'FINANZTYP', 'LP_FAMILIE_GROB', 'LP_STATUS_GROB', 'NATIONALITAET_KZ', 'SHOPPER_TYP', 'ZABEOTYP', 'GEBAEUDETYP', 'CAMEO_DEUG_2015'] 9\n",
      "To delete:           ['GFK_URLAUBERTYP', 'LP_FAMILIE_FEIN', 'LP_STATUS_FEIN', 'CAMEO_DEU_2015'] 4\n",
      "Columns to delete:  ['VERDICHTUNGSRAUM', 'CAMEO_DEU_2015', 'ANZ_TITEL', 'ANZ_KINDER', 'ANZ_HH_TITEL', 'EINGEFUEGT_AM', 'LP_LEBENSPHASE_FEIN', 'LP_LEBENSPHASE_GROB', 'PRAEGENDE_JUGENDJAHRE', 'WOHNLAGE', 'CAMEO_INTL_2015', 'KBA05_BAUMAX', 'PLZ8_BAUMAX', 'GFK_URLAUBERTYP', 'LP_FAMILIE_FEIN', 'LP_STATUS_FEIN', 'CAMEO_DEU_2015']\n"
     ]
    },
    {
     "name": "stderr",
     "output_type": "stream",
     "text": [
      "/opt/conda/lib/python3.6/site-packages/pandas/core/frame.py:3697: SettingWithCopyWarning: \n",
      "A value is trying to be set on a copy of a slice from a DataFrame\n",
      "\n",
      "See the caveats in the documentation: http://pandas.pydata.org/pandas-docs/stable/indexing.html#indexing-view-versus-copy\n",
      "  errors=errors)\n"
     ]
    },
    {
     "name": "stdout",
     "output_type": "stream",
     "text": [
      "KBA05_BAUMAX already deleted in the previous steps\n",
      "CAMEO_DEU_2015 already deleted in the previous steps\n"
     ]
    },
    {
     "name": "stderr",
     "output_type": "stream",
     "text": [
      "/opt/conda/lib/python3.6/site-packages/ipykernel_launcher.py:14: SettingWithCopyWarning: \n",
      "A value is trying to be set on a copy of a slice from a DataFrame.\n",
      "Try using .loc[row_indexer,col_indexer] = value instead\n",
      "\n",
      "See the caveats in the documentation: http://pandas.pydata.org/pandas-docs/stable/indexing.html#indexing-view-versus-copy\n",
      "  \n"
     ]
    },
    {
     "name": "stdout",
     "output_type": "stream",
     "text": [
      "D19_LETZTER_KAUF_BRANCHE object\n"
     ]
    }
   ],
   "source": [
    "#customers = pd.read_csv('../../data/Term2/capstone/arvato_data/Udacity_CUSTOMERS_052018.csv', sep=';', dtype={18:'str',19:'str'})\n",
    "#customers.drop(columns=['CUSTOMER_GROUP', 'ONLINE_PURCHASE', 'PRODUCT_GROUP'], inplace=True)\n",
    "\n",
    "customers_copy = customers.copy(deep=True)\n",
    "\n",
    "#customers.drop(columns=['CUSTOMER_GROUP', 'ONLINE_PURCHASE', 'PRODUCT_GROUP'], inplace=True)\n",
    "df_cust, for_dummies_c = clean_data(customers_copy, feat_info_pickle, feat_info)"
   ]
  },
  {
   "cell_type": "code",
   "execution_count": 58,
   "metadata": {},
   "outputs": [
    {
     "name": "stdout",
     "output_type": "stream",
     "text": [
      "Performing get_dummies on the following: ['AKT_DAT_KL', 'GEBAEUDETYP', 'D19_KONSUMTYP', 'D19_LETZTER_KAUF_BRANCHE', 'KBA05_MAXHERST', 'KBA05_MAXSEG', 'ARBEIT', 'CJT_KATALOGNUTZER', 'CJT_GESAMTTYP', 'FINANZTYP', 'LP_FAMILIE_GROB', 'LP_STATUS_GROB', 'NATIONALITAET_KZ', 'SHOPPER_TYP', 'ZABEOTYP', 'GEBAEUDETYP', 'CAMEO_DEUG_2015']\n",
      "***get_dummies finished!\n"
     ]
    }
   ],
   "source": [
    "cust_df_dummy = make_dummies(df_cust, for_dummies_c)"
   ]
  },
  {
   "cell_type": "code",
   "execution_count": 59,
   "metadata": {},
   "outputs": [
    {
     "name": "stdout",
     "output_type": "stream",
     "text": [
      "Scaling finished!\n"
     ]
    }
   ],
   "source": [
    "cscaler, cdf_scaled = do_scaling(cust_df_dummy)"
   ]
  },
  {
   "cell_type": "code",
   "execution_count": 60,
   "metadata": {},
   "outputs": [],
   "source": [
    "# Re-apply PCA to the data while selecting for number of components to retain.\n",
    "\n",
    "cpca, cdf_pca = do_pca(40, cdf_scaled)\n",
    "#scree_plot(apca)"
   ]
  },
  {
   "cell_type": "code",
   "execution_count": null,
   "metadata": {},
   "outputs": [],
   "source": [
    "# import pickle\n",
    "# from sklearn.externals import joblib\n",
    "\n",
    "# filename = 'finalized_model.sav'\n",
    "# pickle.dump(model, open(filename, 'wb'))\n",
    "# pca_filename = \"data/pca.save\"\n",
    "# joblib.dump(pca, pca_filename)"
   ]
  },
  {
   "cell_type": "code",
   "execution_count": 112,
   "metadata": {},
   "outputs": [
    {
     "name": "stdout",
     "output_type": "stream",
     "text": [
      "in progress\n",
      "in progress\n",
      "in progress\n",
      "in progress\n",
      "in progress\n"
     ]
    },
    {
     "data": {
      "image/png": "[encoded data removed]",
      "text/plain": [
       "<matplotlib.figure.Figure at 0x7fca4d6521d0>"
      ]
     },
     "metadata": {
      "needs_background": "light"
     },
     "output_type": "display_data"
    }
   ],
   "source": [
    "# Over a number of different cluster counts...\n",
    "\n",
    "centers = [5, 8, 10, 12, 14]\n",
    "#centers = [10, 15, 22]\n",
    "\n",
    "scores = []\n",
    "\n",
    "# run k-means clustering on the data and...\n",
    "# compute the average within-cluster distances.\n",
    "\n",
    "\n",
    "for center in centers:\n",
    "    scores.append(get_kmeans_score(idf_pca, center))\n",
    "    print('in progress')\n",
    "\n",
    "    \n",
    "# Investigate the change in within-cluster distance across number of clusters.\n",
    "# HINT: Use matplotlib's plot function to visualize this relationship.\n",
    "\n",
    "plt.plot(centers, scores, linestyle='--', marker='o', color='b');\n",
    "plt.xlabel('K');\n",
    "plt.ylabel('SSE');\n",
    "plt.title('SSE vs. K');"
   ]
  },
  {
   "cell_type": "code",
   "execution_count": 54,
   "metadata": {},
   "outputs": [],
   "source": [
    "labels, model = fit_kmeans(adf_pca, 10)"
   ]
  },
  {
   "cell_type": "code",
   "execution_count": 61,
   "metadata": {},
   "outputs": [],
   "source": [
    "labels_cust, model_cust = fit_kmeans(cdf_pca, 10)"
   ]
  },
  {
   "cell_type": "code",
   "execution_count": 62,
   "metadata": {},
   "outputs": [
    {
     "data": {
      "text/plain": [
       "Text(0.5,1,'Customers')"
      ]
     },
     "execution_count": 62,
     "metadata": {},
     "output_type": "execute_result"
    },
    {
     "data": {
      "image/png": "[encoded data removed]",
      "text/plain": [
       "<matplotlib.figure.Figure at 0x7fca4aa42ac8>"
      ]
     },
     "metadata": {
      "needs_background": "light"
     },
     "output_type": "display_data"
    }
   ],
   "source": [
    "# Compare the proportion of data in each cluster for the customer data to the\n",
    "# proportion of data in each cluster for the general population.\n",
    "\n",
    "fig, axis = plt.subplots(figsize = (12,5), nrows=1, ncols=2)\n",
    "sns.countplot(labels, ax = axis[0])\n",
    "sns.countplot(labels_cust, ax = axis[1])\n",
    "axis[0].set_title('General Population')\n",
    "axis[1].set_title('Customers')"
   ]
  },
  {
   "cell_type": "code",
   "execution_count": 67,
   "metadata": {},
   "outputs": [
    {
     "data": {
      "text/plain": [
       "StandardScaler(copy=True, with_mean=True, with_std=True)"
      ]
     },
     "execution_count": 67,
     "metadata": {},
     "output_type": "execute_result"
    }
   ],
   "source": [
    "cent_scaler = StandardScaler()\n",
    "cent_scaler.fit(cust_df_dummy)"
   ]
  },
  {
   "cell_type": "code",
   "execution_count": 72,
   "metadata": {},
   "outputs": [],
   "source": [
    "# What kinds of people are part of a cluster that is overrepresented in the\n",
    "# customer data compared to the general population?\n",
    "\n",
    "centroid_over = cent_scaler.inverse_transform(cpca.inverse_transform(model_cust.cluster_centers_[5]))"
   ]
  },
  {
   "cell_type": "code",
   "execution_count": 76,
   "metadata": {},
   "outputs": [
    {
     "name": "stdout",
     "output_type": "stream",
     "text": [
      "LNR                           95539.195262\n",
      "ALTERSKATEGORIE_FEIN              8.950343\n",
      "ANZ_HAUSHALTE_AKTIV               2.970011\n",
      "ANZ_PERSONEN                      1.697344\n",
      "ANZ_STATISTISCHE_HAUSHALTE        2.808045\n",
      "BALLRAUM                          4.430831\n",
      "CJT_TYP_1                         2.048126\n",
      "CJT_TYP_2                         1.550069\n",
      "CJT_TYP_3                         4.648958\n",
      "CJT_TYP_4                         4.705636\n",
      "dtype: float64\n"
     ]
    }
   ],
   "source": [
    "customers_over = pd.Series(data = centroid_over, index = cust_df_dummy.columns)\n",
    "print(customers_over[:10])"
   ]
  },
  {
   "cell_type": "code",
   "execution_count": 75,
   "metadata": {},
   "outputs": [
    {
     "name": "stdout",
     "output_type": "stream",
     "text": [
      "LNR                           104213.056351\n",
      "ALTERSKATEGORIE_FEIN               8.239891\n",
      "ANZ_HAUSHALTE_AKTIV               -4.745089\n",
      "ANZ_PERSONEN                      -0.962421\n",
      "ANZ_STATISTISCHE_HAUSHALTE        -4.980280\n",
      "BALLRAUM                           4.636487\n",
      "CJT_TYP_1                          1.587438\n",
      "CJT_TYP_2                          1.444589\n",
      "CJT_TYP_3                          4.663954\n",
      "CJT_TYP_4                          4.563815\n",
      "dtype: float64\n"
     ]
    }
   ],
   "source": [
    "# What kinds of people are part of a cluster that is underrepresented in the\n",
    "# customer data compared to the general population?\n",
    "centroid_under = cent_scaler.inverse_transform(cpca.inverse_transform(model_cust.cluster_centers_[9]))\n",
    "customers_under = pd.Series(data = centroid_under, index = cust_df_dummy.columns)\n",
    "print(customers_under[:10])"
   ]
  },
  {
   "cell_type": "markdown",
   "metadata": {},
   "source": [
    "### Discussion: Compare Customer Data to Demographics Data\n",
    "\n",
    "#### Overrepresented: Cluster 5\n",
    "Main segments of the population which are overrepresented:\n",
    "\n",
    "- Number of household in the buiding (ANZ_HAUSHALTE_AKTIV -> 2.97)\n",
    "- Number of adults in household (ANZ_PERSONEN -> 1.69)\n",
    "\n",
    "#### Underrepresented: Cluster 9\n",
    "Main segments of the population which are underrepresented:\n",
    "\n",
    "- Number of household in the buiding (ANZ_HAUSHALTE_AKTIV -> -4.74)\n",
    "- Number of adults in household (ANZ_PERSONEN -> -0.96)"
   ]
  },
  {
   "cell_type": "markdown",
   "metadata": {},
   "source": [
    "## Part 2: Supervised Learning Model\n",
    "\n",
    "Now that you've found which parts of the population are more likely to be customers of the mail-order company, it's time to build a prediction model. Each of the rows in the \"MAILOUT\" data files represents an individual that was targeted for a mailout campaign. Ideally, we should be able to use the demographic information from each individual to decide whether or not it will be worth it to include that person in the campaign.\n",
    "\n",
    "The \"MAILOUT\" data has been split into two approximately equal parts, each with almost 43 000 data rows. In this part, you can verify your model with the \"TRAIN\" partition, which includes a column, \"RESPONSE\", that states whether or not a person became a customer of the company following the campaign. In the next part, you'll need to create predictions on the \"TEST\" partition, where the \"RESPONSE\" column has been withheld."
   ]
  },
  {
   "cell_type": "code",
   "execution_count": 26,
   "metadata": {},
   "outputs": [],
   "source": [
    "mailout_train = pd.read_csv('../../data/Term2/capstone/arvato_data/Udacity_MAILOUT_052018_TRAIN.csv', sep=';', dtype={18:'str',19:'str'})\n",
    "#mailout_test = pd.read_csv('../../data/Term2/capstone/arvato_data/Udacity_MAILOUT_052018_TEST.csv', sep=';', dtype={18:'str',19:'str'})\n",
    "\n",
    "feat_info_pickle = pd.read_pickle('data/combined_feat_info_copy.pkl')\n",
    "#feat_info = pd.read_csv('AZDIAS_Feature_Summary.csv', delimiter=';')"
   ]
  },
  {
   "cell_type": "code",
   "execution_count": 24,
   "metadata": {},
   "outputs": [
    {
     "name": "stdout",
     "output_type": "stream",
     "text": [
      "(42833, 366) (42962, 367) (276, 2) (85, 4)\n"
     ]
    }
   ],
   "source": [
    "print(mailout_test.shape, mailout_train.shape, feat_info_pickle.shape, feat_info.shape)"
   ]
  },
  {
   "cell_type": "code",
   "execution_count": 21,
   "metadata": {},
   "outputs": [],
   "source": [
    "def supervised_ready(df_mailout, feat_info_pickle, feat_info):\n",
    "    \n",
    "    df, for_dummies = clean_data(df_mailout, feat_info_pickle, feat_info)\n",
    "    df_dummy = make_dummies(df, for_dummies)\n",
    "        \n",
    "    return df_dummy"
   ]
  },
  {
   "cell_type": "code",
   "execution_count": 27,
   "metadata": {},
   "outputs": [
    {
     "name": "stdout",
     "output_type": "stream",
     "text": [
      "Before replacement:\n",
      "sum is: 2217179 percenatge is: 14.0621006308\n",
      "After replacement:\n",
      "sum is: 3415532 percenatge is: 21.6624614846\n",
      "column indices to drop:  [1, 3, 4, 5, 6, 7, 28, 29, 31, 32, 33, 36, 37, 38, 39, 43, 44, 45, 46, 47, 48, 49, 53, 54, 55, 56, 59, 62, 65, 66, 67, 68, 74, 78, 79, 80, 100, 111, 129, 300, 349] 41\n",
      "['AGER_TYP', 'ALTER_HH', 'ALTER_KIND1', 'ALTER_KIND2', 'ALTER_KIND3', 'ALTER_KIND4', 'D19_BANKEN_ANZ_12', 'D19_BANKEN_ANZ_24', 'D19_BANKEN_DIREKT', 'D19_BANKEN_GROSS', 'D19_BANKEN_LOKAL', 'D19_BANKEN_ONLINE_QUOTE_12', 'D19_BANKEN_REST', 'D19_BEKLEIDUNG_GEH', 'D19_BEKLEIDUNG_REST', 'D19_DIGIT_SERV', 'D19_DROGERIEARTIKEL', 'D19_ENERGIE', 'D19_FREIZEIT', 'D19_GARTEN', 'D19_GESAMT_ANZ_12', 'D19_GESAMT_ANZ_24', 'D19_GESAMT_ONLINE_QUOTE_12', 'D19_HANDWERK', 'D19_HAUS_DEKO', 'D19_KINDERARTIKEL', 'D19_KOSMETIK', 'D19_LOTTO', 'D19_REISEN', 'D19_SAMMELARTIKEL', 'D19_SCHUHE', 'D19_SONSTIGE', 'D19_TELKO_MOBILE', 'D19_TELKO_REST', 'D19_TIERARTIKEL', 'D19_VERSAND_ANZ_12', 'EXTSEL992', 'GEBURTSJAHR', 'KBA05_BAUMAX', 'KK_KUNDENTYP', 'TITEL_KZ']\n",
      "(42962, 326)\n",
      "key probably already removed from azdias: AGER_TYP\n",
      "key probably already removed from azdias: TITEL_KZ\n",
      "key probably already removed from azdias: KK_KUNDENTYP\n",
      "non-numeric binary - needs re-encoding:\n",
      " W    26752\n",
      "O     8433\n",
      "Name: OST_WEST_KZ, dtype: int64\n",
      "Binary:       ['ANREDE_KZ', 'GREEN_AVANTGARDE', 'SOHO_KZ', 'VERS_TYP'] 4\n",
      "Multi_level:  ['CJT_GESAMTTYP', 'FINANZTYP', 'GFK_URLAUBERTYP', 'LP_FAMILIE_FEIN', 'LP_FAMILIE_GROB', 'LP_STATUS_FEIN', 'LP_STATUS_GROB', 'NATIONALITAET_KZ', 'SHOPPER_TYP', 'ZABEOTYP', 'GEBAEUDETYP', 'CAMEO_DEUG_2015', 'CAMEO_DEU_2015'] 13\n",
      "Reencoded:    ['OST_WEST_KZ'] 1\n",
      "OST_WEST_KZ fixed\n",
      "PRAEGENDE_JUGENDJAHRE can be deleted\n",
      "CAMEO_INTL_2015 can be deleted\n",
      "WOHNLAGE can be deleted\n",
      "PLZ8_BAUMAX can be deleted\n",
      "EINGEFUEGT_AM is fixed\n",
      "For get_dummies:     ['CJT_GESAMTTYP', 'FINANZTYP', 'LP_FAMILIE_GROB', 'LP_STATUS_GROB', 'NATIONALITAET_KZ', 'SHOPPER_TYP', 'ZABEOTYP', 'GEBAEUDETYP', 'CAMEO_DEUG_2015'] 9\n",
      "To delete:           ['GFK_URLAUBERTYP', 'LP_FAMILIE_FEIN', 'LP_STATUS_FEIN', 'CAMEO_DEU_2015'] 4\n",
      "Columns to delete:  ['VERDICHTUNGSRAUM', 'CAMEO_DEU_2015', 'ANZ_TITEL', 'ANZ_KINDER', 'ANZ_HH_TITEL', 'EINGEFUEGT_AM', 'LP_LEBENSPHASE_FEIN', 'LP_LEBENSPHASE_GROB', 'PRAEGENDE_JUGENDJAHRE', 'WOHNLAGE', 'CAMEO_INTL_2015', 'KBA05_BAUMAX', 'PLZ8_BAUMAX', 'GFK_URLAUBERTYP', 'LP_FAMILIE_FEIN', 'LP_STATUS_FEIN', 'CAMEO_DEU_2015']\n",
      "KBA05_BAUMAX already deleted in the previous steps\n",
      "CAMEO_DEU_2015 already deleted in the previous steps\n",
      "D19_LETZTER_KAUF_BRANCHE object\n",
      "Performing get_dummies on the following: ['AKT_DAT_KL', 'GEBAEUDETYP', 'D19_KONSUMTYP', 'D19_LETZTER_KAUF_BRANCHE', 'KBA05_MAXHERST', 'KBA05_MAXSEG', 'ARBEIT', 'CJT_KATALOGNUTZER', 'CJT_GESAMTTYP', 'FINANZTYP', 'LP_FAMILIE_GROB', 'LP_STATUS_GROB', 'NATIONALITAET_KZ', 'SHOPPER_TYP', 'ZABEOTYP', 'GEBAEUDETYP', 'CAMEO_DEUG_2015']\n",
      "***get_dummies finished!\n"
     ]
    }
   ],
   "source": [
    "mailout_clean = supervised_ready(mailout_train, feat_info_pickle, feat_info)"
   ]
  },
  {
   "cell_type": "code",
   "execution_count": 92,
   "metadata": {},
   "outputs": [],
   "source": [
    "#mailout_clean.to_pickle('data/mailout_clean.pkl')\n",
    "mailout_clean_pkl = pd.read_pickle('data/mailout_clean.pkl')"
   ]
  },
  {
   "cell_type": "code",
   "execution_count": 29,
   "metadata": {},
   "outputs": [
    {
     "name": "stdout",
     "output_type": "stream",
     "text": [
      "(42962,) (42962, 429) (42962, 430)\n"
     ]
    }
   ],
   "source": [
    "y_tr = mailout_clean['RESPONSE']\n",
    "X_LNR = mailout_clean.drop('RESPONSE', axis=1)\n",
    "X_tr = mailout_clean.drop(['RESPONSE', 'LNR'], axis = 1)\n",
    "#X_train = mailout_clean.drop('LNR', axis=1)\n",
    "\n",
    "print(y_tr.shape,X_tr.shape, X_LNR.shape)"
   ]
  },
  {
   "cell_type": "markdown",
   "metadata": {},
   "source": [
    "### Stratified Kfold cross-validation  \n",
    "As mentioned in the proposal, the 'RandomForestClassifier' which is the benchmark model for this project is compared with the other models under the basic configurations. The Stratified Kfold cross-validation [link](https://stats.stackexchange.com/questions/49540/understanding-stratified-cross-validation) will be used for this process."
   ]
  },
  {
   "cell_type": "code",
   "execution_count": 94,
   "metadata": {},
   "outputs": [],
   "source": [
    "clfs = {'RandomForestClassifier': RandomForestClassifier(max_depth=2, random_state=0),\n",
    "        'XGBRegressor': XGBRegressor(random_state=28, objective = 'binary:logistic'),\n",
    "        'GradientBoostingRegressor': GradientBoostingRegressor(random_state=30), \n",
    "        'AdaBoostRegressor': AdaBoostRegressor(random_state=28)}"
   ]
  },
  {
   "cell_type": "code",
   "execution_count": 30,
   "metadata": {},
   "outputs": [
    {
     "data": {
      "text/plain": [
       "5"
      ]
     },
     "execution_count": 30,
     "metadata": {},
     "output_type": "execute_result"
    }
   ],
   "source": [
    "# for splitting training and testing data\n",
    "skf = StratifiedKFold(n_splits=5, random_state=28, shuffle=True)\n",
    "skf.get_n_splits(X_tr, y_tr)"
   ]
  },
  {
   "cell_type": "code",
   "execution_count": 31,
   "metadata": {},
   "outputs": [],
   "source": [
    "scaler = StandardScaler()\n",
    "\n",
    "# pipeline for scaling and model selection\n",
    "def get_model(model):   \n",
    "    \n",
    "    pipe = Pipeline([('scale', StandardScaler()),\n",
    "                     ('clf', model)])                  \n",
    "    return pipe"
   ]
  },
  {
   "cell_type": "code",
   "execution_count": 33,
   "metadata": {
    "scrolled": true
   },
   "outputs": [],
   "source": [
    "# Apply machine learning pipeline\n",
    "    \n",
    "def get_scores(clf, X_train, y_train):    \n",
    "    \n",
    "    start = time()\n",
    "    \n",
    "    # performs scaling and \n",
    "    pipeline = get_model(clf)\n",
    "    scores = []\n",
    "\n",
    "    for train_index, test_index in skf.split(X_train, y_train):\n",
    "       # print('train_index length:',len(train_index), 'test_index length', len(test_index))\n",
    "        \n",
    "        # data split using StratifiedKFold\n",
    "        try:\n",
    "            X_tr, X_tst = X_train.iloc[train_index], X_train.iloc[test_index]\n",
    "            y_tr, y_tst = y_train.iloc[train_index], y_train.iloc[test_index]\n",
    "            \n",
    "            # training on training data\n",
    "            pipeline.fit(X_tr, y_tr)\n",
    "\n",
    "            # Predictions on test data\n",
    "            y_pred = pipeline.predict(X_tst)\n",
    "\n",
    "            # gets roc score\n",
    "            score = roc_auc_score(y_tst, y_pred)\n",
    "            print(score)\n",
    "            scores.append(score)\n",
    "            \n",
    "        except:\n",
    "            print('index out of bound')\n",
    "        \n",
    "    end = time()\n",
    "    print(\"Finishes in {} seconds.\".format(end - start))\n",
    "    \n",
    "    return scores"
   ]
  },
  {
   "cell_type": "code",
   "execution_count": 98,
   "metadata": {},
   "outputs": [
    {
     "name": "stdout",
     "output_type": "stream",
     "text": [
      "RandomForestClassifier 0.5\n",
      "RandomForestClassifier 0.5\n",
      "RandomForestClassifier 0.5\n",
      "RandomForestClassifier 0.5\n",
      "RandomForestClassifier 0.5\n",
      "Finishes in 5.821556806564331 seconds.\n",
      "XGBRegressor 0.776404342049\n",
      "XGBRegressor 0.738833503557\n",
      "XGBRegressor 0.773405399543\n",
      "XGBRegressor 0.703370420918\n",
      "XGBRegressor 0.734898176138\n",
      "Finishes in 292.11337661743164 seconds.\n",
      "GradientBoostingRegressor 0.768575276349\n",
      "GradientBoostingRegressor 0.768795813411\n",
      "GradientBoostingRegressor 0.80737353013\n",
      "GradientBoostingRegressor 0.73151058849\n",
      "GradientBoostingRegressor 0.774441704393\n",
      "Finishes in 213.82963228225708 seconds.\n",
      "AdaBoostRegressor 0.773654859498\n",
      "AdaBoostRegressor 0.758180207703\n",
      "AdaBoostRegressor 0.79426874791\n",
      "AdaBoostRegressor 0.733833458365\n",
      "AdaBoostRegressor 0.760018766543\n",
      "Finishes in 60.884737968444824 seconds.\n"
     ]
    }
   ],
   "source": [
    "roc_scores = {}\n",
    "for model, clf in clfs.items():\n",
    "    \n",
    "    roc_scores[model] = get_scores(clf, X_tr, y_tr)"
   ]
  },
  {
   "cell_type": "code",
   "execution_count": 99,
   "metadata": {},
   "outputs": [
    {
     "data": {
      "text/html": [
       "<div>\n",
       "<style scoped>\n",
       "    .dataframe tbody tr th:only-of-type {\n",
       "        vertical-align: middle;\n",
       "    }\n",
       "\n",
       "    .dataframe tbody tr th {\n",
       "        vertical-align: top;\n",
       "    }\n",
       "\n",
       "    .dataframe thead th {\n",
       "        text-align: right;\n",
       "    }\n",
       "</style>\n",
       "<table border=\"1\" class=\"dataframe\">\n",
       "  <thead>\n",
       "    <tr style=\"text-align: right;\">\n",
       "      <th></th>\n",
       "      <th>RandomForestClassifier</th>\n",
       "      <th>XGBRegressor</th>\n",
       "      <th>GradientBoostingRegressor</th>\n",
       "      <th>AdaBoostRegressor</th>\n",
       "    </tr>\n",
       "  </thead>\n",
       "  <tbody>\n",
       "    <tr>\n",
       "      <th>0</th>\n",
       "      <td>0.5</td>\n",
       "      <td>0.776404</td>\n",
       "      <td>0.768575</td>\n",
       "      <td>0.773655</td>\n",
       "    </tr>\n",
       "    <tr>\n",
       "      <th>1</th>\n",
       "      <td>0.5</td>\n",
       "      <td>0.738834</td>\n",
       "      <td>0.768796</td>\n",
       "      <td>0.758180</td>\n",
       "    </tr>\n",
       "    <tr>\n",
       "      <th>2</th>\n",
       "      <td>0.5</td>\n",
       "      <td>0.773405</td>\n",
       "      <td>0.807374</td>\n",
       "      <td>0.794269</td>\n",
       "    </tr>\n",
       "    <tr>\n",
       "      <th>3</th>\n",
       "      <td>0.5</td>\n",
       "      <td>0.703370</td>\n",
       "      <td>0.731511</td>\n",
       "      <td>0.733833</td>\n",
       "    </tr>\n",
       "    <tr>\n",
       "      <th>4</th>\n",
       "      <td>0.5</td>\n",
       "      <td>0.734898</td>\n",
       "      <td>0.774442</td>\n",
       "      <td>0.760019</td>\n",
       "    </tr>\n",
       "  </tbody>\n",
       "</table>\n",
       "</div>"
      ],
      "text/plain": [
       "   RandomForestClassifier  XGBRegressor  GradientBoostingRegressor  \\\n",
       "0                     0.5      0.776404                   0.768575   \n",
       "1                     0.5      0.738834                   0.768796   \n",
       "2                     0.5      0.773405                   0.807374   \n",
       "3                     0.5      0.703370                   0.731511   \n",
       "4                     0.5      0.734898                   0.774442   \n",
       "\n",
       "   AdaBoostRegressor  \n",
       "0           0.773655  \n",
       "1           0.758180  \n",
       "2           0.794269  \n",
       "3           0.733833  \n",
       "4           0.760019  "
      ]
     },
     "execution_count": 99,
     "metadata": {},
     "output_type": "execute_result"
    }
   ],
   "source": [
    "roc_scores_df = pd.DataFrame(roc_scores)\n",
    "roc_scores_df.columns = list(roc_scores.keys())\n",
    "roc_scores_df"
   ]
  },
  {
   "cell_type": "markdown",
   "metadata": {},
   "source": [
    "### Benchmark model - RandomForestClassifier - GridSearchCV"
   ]
  },
  {
   "cell_type": "code",
   "execution_count": 34,
   "metadata": {},
   "outputs": [],
   "source": [
    "def get_grid_best(clf, p , X, y):\n",
    "    \n",
    "    start = time()\n",
    "    \n",
    "    grid = GridSearchCV(estimator = get_model(clf),\n",
    "                        param_grid = p,\n",
    "                        scoring='roc_auc',\n",
    "                        n_jobs=-1, iid=False, cv=5)\n",
    "    grid.fit(X, y)\n",
    "    \n",
    "    print('best score: ',grid.best_score_, \n",
    "          'best parameter',grid.best_params_ ,\n",
    "          'best estimator', grid.best_estimator_)\n",
    "    \n",
    "    end = time()\n",
    "    print(\"GridSearch finished in {} seconds.\".format(end - start))\n",
    "    \n",
    "    return grid.best_estimator_"
   ]
  },
  {
   "cell_type": "code",
   "execution_count": 91,
   "metadata": {},
   "outputs": [
    {
     "name": "stderr",
     "output_type": "stream",
     "text": [
      "/opt/conda/lib/python3.6/site-packages/sklearn/model_selection/_search.py:761: DeprecationWarning: The grid_scores_ attribute was deprecated in version 0.18 in favor of the more elaborate cv_results_ attribute. The grid_scores_ attribute will not be available from 0.20\n",
      "  DeprecationWarning)\n"
     ]
    },
    {
     "data": {
      "text/plain": [
       "([mean: 0.74495, std: 0.02897, params: {'clf__max_depth': 5, 'clf__n_estimators': 400, 'clf__random_state': 0},\n",
       "  mean: 0.74718, std: 0.02659, params: {'clf__max_depth': 5, 'clf__n_estimators': 600, 'clf__random_state': 0},\n",
       "  mean: 0.72962, std: 0.02931, params: {'clf__max_depth': 7, 'clf__n_estimators': 400, 'clf__random_state': 0},\n",
       "  mean: 0.73554, std: 0.03020, params: {'clf__max_depth': 7, 'clf__n_estimators': 600, 'clf__random_state': 0},\n",
       "  mean: 0.69844, std: 0.02971, params: {'clf__max_depth': 9, 'clf__n_estimators': 400, 'clf__random_state': 0},\n",
       "  mean: 0.70432, std: 0.02930, params: {'clf__max_depth': 9, 'clf__n_estimators': 600, 'clf__random_state': 0}],\n",
       " {'clf__max_depth': 5, 'clf__n_estimators': 600, 'clf__random_state': 0},\n",
       " 0.74717633027053676)"
      ]
     },
     "execution_count": 91,
     "metadata": {},
     "output_type": "execute_result"
    }
   ],
   "source": [
    "pipeline = Pipeline([('scaler', StandardScaler()),\n",
    "                     ('clf', RandomForestClassifier(max_depth=2, random_state=0))])\n",
    "\n",
    "parameters = {'clf__n_estimators' : [400,600],\n",
    "              'clf__max_depth'    : [5, 7, 9],\n",
    "              'clf__random_state' : [0],\n",
    "}\n",
    "grid = GridSearchCV(estimator=pipeline,\n",
    "                    param_grid=parameters,\n",
    "                    scoring='roc_auc',n_jobs=-1,\n",
    "                    iid=False, cv=5)\n",
    "\n",
    "grid.fit(X_tr, y_tr)\n",
    "grid.grid_scores_, grid.best_params_, grid.best_score_"
   ]
  },
  {
   "cell_type": "markdown",
   "metadata": {},
   "source": [
    "### GridSearchCV - GradientBoostingRegressor  "
   ]
  },
  {
   "cell_type": "code",
   "execution_count": 46,
   "metadata": {},
   "outputs": [
    {
     "name": "stdout",
     "output_type": "stream",
     "text": [
      "best score:  0.784504681096 best parameter {'clf__max_depth': 4.0, 'clf__min_samples_split': 0.5} best estimator Pipeline(memory=None,\n",
      "     steps=[('scale', StandardScaler(copy=True, with_mean=True, with_std=True)), ('clf', GradientBoostingRegressor(alpha=0.9, criterion='friedman_mse', init=None,\n",
      "             learning_rate=0.2, loss='ls', max_depth=4.0,\n",
      "             max_features=None, max_leaf_nodes=None,\n",
      "             min_impurity_decre...tors=16, presort='auto',\n",
      "             random_state=28, subsample=1.0, verbose=0, warm_start=False))])\n",
      "GridSearch finished in 14894.864715099335 seconds.\n"
     ]
    }
   ],
   "source": [
    "max_depth = np.linspace(1, 32, 32, endpoint=True)\n",
    "min_samples = np.linspace(0.1, 1.0, 10, endpoint=True)\n",
    "\n",
    "grid_parameters = {'clf__max_depth': max_depth,\n",
    "                   'clf__min_samples_split': min_samples}\n",
    "\n",
    "clf = GradientBoostingRegressor(random_state = 28,\n",
    "                               learning_rate = 0.2,\n",
    "                               n_estimators = 16)\n",
    "\n",
    "best_estimator = get_grid_best(clf, grid_parameters, X_tr, y_tr)"
   ]
  },
  {
   "cell_type": "markdown",
   "metadata": {},
   "source": [
    "### GridSearchCV - XGBoostRegressor  \n",
    "- XGBoost model with the option for binary classification : logistic regression\n",
    "- Also, as there is the issue of high class imbalance therefore: scale_pos_weight = 1"
   ]
  },
  {
   "cell_type": "code",
   "execution_count": 38,
   "metadata": {},
   "outputs": [
    {
     "name": "stdout",
     "output_type": "stream",
     "text": [
      "best score:  0.762647089883 best parameter {'clf__max_depth': 3, 'clf__min_child_weight': 1} best estimator Pipeline(memory=None,\n",
      "     steps=[('scale', StandardScaler(copy=True, with_mean=True, with_std=True)), ('clf', XGBRegressor(base_score=0.5, booster=None, colsample_bylevel=1,\n",
      "       colsample_bynode=1, colsample_bytree=1, gamma=0, gpu_id=-1,\n",
      "       importance_type='gain', interaction_constraints=None,\n",
      "       learning_rate=0.3...ale_pos_weight=1, subsample=1, tree_method=None,\n",
      "       validate_parameters=False, verbosity=None))])\n",
      "GridSearch finished in 10472.45208120346 seconds.\n"
     ]
    }
   ],
   "source": [
    "grid_parameters = {'clf__max_depth':range(3,10,1),\n",
    "                   'clf__min_child_weight':range(1,6,1)}\n",
    "\n",
    "clf = XGBRegressor(objective = 'binary:logistic',\n",
    "                   scale_pos_weight = 1,\n",
    "                   random_state = 28)\n",
    "\n",
    "best_estimator = get_grid_best(clf, grid_parameters, X_tr, y_tr)"
   ]
  },
  {
   "cell_type": "markdown",
   "metadata": {},
   "source": [
    "##### Tuning it again with the additional parameters of 'learning rate' and n_estimators. Athough, the best score came with max_depth: 3 and min_child_weight: 1 but out of curiousity changing it now as there may be an impact from the 'learning rate' and n_estimators."
   ]
  },
  {
   "cell_type": "code",
   "execution_count": 85,
   "metadata": {},
   "outputs": [
    {
     "name": "stdout",
     "output_type": "stream",
     "text": [
      "best score:  0.78050089319 best parameter {'clf__learning_rate': 0.05, 'clf__max_depth': 7, 'clf__min_child_weight': 4, 'clf__n_estimators': 100} best estimator Pipeline(memory=None,\n",
      "     steps=[('scale', StandardScaler(copy=True, with_mean=True, with_std=True)), ('clf', XGBRegressor(base_score=0.5, booster=None, colsample_bylevel=1,\n",
      "       colsample_bynode=1, colsample_bytree=1, gamma=0, gpu_id=-1,\n",
      "       importance_type='gain', interaction_constraints=None,\n",
      "       learning_rate=0.0...ale_pos_weight=1, subsample=1, tree_method=None,\n",
      "       validate_parameters=False, verbosity=None))])\n",
      "GridSearch finished in 1856.384468793869 seconds.\n"
     ]
    }
   ],
   "source": [
    "grid_parameters = {'clf__learning_rate': [.05, .08, .12], \n",
    "                  'clf__max_depth': [5, 7],\n",
    "                  'clf__min_child_weight': [4],\n",
    "                  'clf__n_estimators': [100]}\n",
    "\n",
    "clf = XGBRegressor(objective = 'binary:logistic',\n",
    "                   scale_pos_weight = 1,\n",
    "                   random_state = 28)\n",
    "\n",
    "best_estimator = get_grid_best(clf, grid_parameters, X_tr, y_tr)"
   ]
  },
  {
   "cell_type": "markdown",
   "metadata": {},
   "source": [
    "##### It appears to be performing better than the previous one therefore verifying it further by increasing the n_components and reducing the learning rate. Other best parameters will be retained."
   ]
  },
  {
   "cell_type": "code",
   "execution_count": 35,
   "metadata": {},
   "outputs": [
    {
     "name": "stdout",
     "output_type": "stream",
     "text": [
      "0.746050118832\n",
      "0.70261243918\n",
      "0.775843898274\n",
      "0.720013318273\n",
      "0.740991266414\n",
      "Finishes in 5150.251109361649 seconds.\n"
     ]
    }
   ],
   "source": [
    "clf_xgb = XGBRegressor(objective = 'binary:logistic',\n",
    "                   scale_pos_weight = 1,\n",
    "                   random_state = 28,\n",
    "                   learning_rate = .01, \n",
    "                   max_depth = 7,\n",
    "                   min_child_weight = 1,\n",
    "                   n_estimators = 1250)\n",
    "\n",
    "clf_score = get_scores(clf_xgb, X_tr, y_tr)"
   ]
  },
  {
   "cell_type": "markdown",
   "metadata": {},
   "source": [
    "\n",
    "##### clf_xgb is selected as the final model here as it performs better than the RandomForest and GradientBoosting algorithms. "
   ]
  },
  {
   "cell_type": "code",
   "execution_count": 36,
   "metadata": {},
   "outputs": [
    {
     "data": {
      "text/plain": [
       "Text(0.5,0,'Feature Importance')"
      ]
     },
     "execution_count": 36,
     "metadata": {},
     "output_type": "execute_result"
    },
    {
     "data": {
      "image/png": "[encoded data removed]",
      "text/plain": [
       "<matplotlib.figure.Figure at 0x7f9584f47128>"
      ]
     },
     "metadata": {
      "needs_background": "light"
     },
     "output_type": "display_data"
    }
   ],
   "source": [
    "imp_features = clf_xgb.feature_importances_\n",
    "\n",
    "pd.Series(imp_features, index=X_tr.columns).sort_values()[-20:].plot(kind='barh', figsize=(7,9))\n",
    "plt.xlabel('Feature Importance')"
   ]
  },
  {
   "cell_type": "markdown",
   "metadata": {},
   "source": [
    "## Part 3: Kaggle Competition\n",
    "\n",
    "Now that you've created a model to predict which individuals are most likely to respond to a mailout campaign, it's time to test that model in competition through Kaggle. If you click on the link [here](http://www.kaggle.com/t/21e6d45d4c574c7fa2d868f0e8c83140), you'll be taken to the competition page where, if you have a Kaggle account, you can enter. If you're one of the top performers, you may have the chance to be contacted by a hiring manager from Arvato or Bertelsmann for an interview!\n",
    "\n",
    "Your entry to the competition should be a CSV file with two columns. The first column should be a copy of \"LNR\", which acts as an ID number for each individual in the \"TEST\" partition. The second column, \"RESPONSE\", should be some measure of how likely each individual became a customer – this might not be a straightforward probability. As you should have found in Part 2, there is a large output class imbalance, where most individuals did not respond to the mailout. Thus, predicting individual classes and using accuracy does not seem to be an appropriate performance evaluation method. Instead, the competition will be using AUC to evaluate performance. The exact values of the \"RESPONSE\" column do not matter as much: only that the higher values try to capture as many of the actual customers as possible, early in the ROC curve sweep."
   ]
  },
  {
   "cell_type": "code",
   "execution_count": 37,
   "metadata": {},
   "outputs": [],
   "source": [
    "mailout_test = pd.read_csv('../../data/Term2/capstone/arvato_data/Udacity_MAILOUT_052018_TEST.csv', sep=';', dtype={18:'str',19:'str'})"
   ]
  },
  {
   "cell_type": "code",
   "execution_count": 38,
   "metadata": {},
   "outputs": [
    {
     "name": "stdout",
     "output_type": "stream",
     "text": [
      "Before replacement:\n",
      "sum is: 2186757 percenatge is: 13.9489316687\n",
      "After replacement:\n",
      "sum is: 3379057 percenatge is: 21.5544000534\n",
      "column indices to drop:  [1, 3, 4, 5, 6, 7, 28, 29, 31, 32, 33, 36, 37, 38, 39, 43, 44, 45, 46, 47, 48, 49, 53, 54, 55, 56, 59, 62, 65, 66, 67, 68, 74, 78, 79, 80, 100, 111, 129, 300, 349] 41\n",
      "['AGER_TYP', 'ALTER_HH', 'ALTER_KIND1', 'ALTER_KIND2', 'ALTER_KIND3', 'ALTER_KIND4', 'D19_BANKEN_ANZ_12', 'D19_BANKEN_ANZ_24', 'D19_BANKEN_DIREKT', 'D19_BANKEN_GROSS', 'D19_BANKEN_LOKAL', 'D19_BANKEN_ONLINE_QUOTE_12', 'D19_BANKEN_REST', 'D19_BEKLEIDUNG_GEH', 'D19_BEKLEIDUNG_REST', 'D19_DIGIT_SERV', 'D19_DROGERIEARTIKEL', 'D19_ENERGIE', 'D19_FREIZEIT', 'D19_GARTEN', 'D19_GESAMT_ANZ_12', 'D19_GESAMT_ANZ_24', 'D19_GESAMT_ONLINE_QUOTE_12', 'D19_HANDWERK', 'D19_HAUS_DEKO', 'D19_KINDERARTIKEL', 'D19_KOSMETIK', 'D19_LOTTO', 'D19_REISEN', 'D19_SAMMELARTIKEL', 'D19_SCHUHE', 'D19_SONSTIGE', 'D19_TELKO_MOBILE', 'D19_TELKO_REST', 'D19_TIERARTIKEL', 'D19_VERSAND_ANZ_12', 'EXTSEL992', 'GEBURTSJAHR', 'KBA05_BAUMAX', 'KK_KUNDENTYP', 'TITEL_KZ']\n",
      "(42833, 325)\n",
      "key probably already removed from azdias: AGER_TYP\n",
      "key probably already removed from azdias: TITEL_KZ\n",
      "key probably already removed from azdias: KK_KUNDENTYP\n",
      "non-numeric binary - needs re-encoding:\n",
      " W    26773\n",
      "O     8433\n",
      "Name: OST_WEST_KZ, dtype: int64\n",
      "Binary:       ['ANREDE_KZ', 'GREEN_AVANTGARDE', 'SOHO_KZ', 'VERS_TYP'] 4\n",
      "Multi_level:  ['CJT_GESAMTTYP', 'FINANZTYP', 'GFK_URLAUBERTYP', 'LP_FAMILIE_FEIN', 'LP_FAMILIE_GROB', 'LP_STATUS_FEIN', 'LP_STATUS_GROB', 'NATIONALITAET_KZ', 'SHOPPER_TYP', 'ZABEOTYP', 'GEBAEUDETYP', 'CAMEO_DEUG_2015', 'CAMEO_DEU_2015'] 13\n",
      "Reencoded:    ['OST_WEST_KZ'] 1\n",
      "OST_WEST_KZ fixed\n",
      "PRAEGENDE_JUGENDJAHRE can be deleted\n",
      "CAMEO_INTL_2015 can be deleted\n",
      "WOHNLAGE can be deleted\n",
      "PLZ8_BAUMAX can be deleted\n",
      "EINGEFUEGT_AM is fixed\n",
      "For get_dummies:     ['CJT_GESAMTTYP', 'FINANZTYP', 'LP_FAMILIE_GROB', 'LP_STATUS_GROB', 'NATIONALITAET_KZ', 'SHOPPER_TYP', 'ZABEOTYP', 'GEBAEUDETYP', 'CAMEO_DEUG_2015'] 9\n",
      "To delete:           ['GFK_URLAUBERTYP', 'LP_FAMILIE_FEIN', 'LP_STATUS_FEIN', 'CAMEO_DEU_2015'] 4\n",
      "Columns to delete:  ['VERDICHTUNGSRAUM', 'CAMEO_DEU_2015', 'ANZ_TITEL', 'ANZ_KINDER', 'ANZ_HH_TITEL', 'EINGEFUEGT_AM', 'LP_LEBENSPHASE_FEIN', 'LP_LEBENSPHASE_GROB', 'PRAEGENDE_JUGENDJAHRE', 'WOHNLAGE', 'CAMEO_INTL_2015', 'KBA05_BAUMAX', 'PLZ8_BAUMAX', 'GFK_URLAUBERTYP', 'LP_FAMILIE_FEIN', 'LP_STATUS_FEIN', 'CAMEO_DEU_2015']\n",
      "KBA05_BAUMAX already deleted in the previous steps\n",
      "CAMEO_DEU_2015 already deleted in the previous steps\n",
      "D19_LETZTER_KAUF_BRANCHE object\n",
      "Performing get_dummies on the following: ['AKT_DAT_KL', 'GEBAEUDETYP', 'D19_KONSUMTYP', 'D19_LETZTER_KAUF_BRANCHE', 'KBA05_MAXHERST', 'KBA05_MAXSEG', 'ARBEIT', 'CJT_KATALOGNUTZER', 'CJT_GESAMTTYP', 'FINANZTYP', 'LP_FAMILIE_GROB', 'LP_STATUS_GROB', 'NATIONALITAET_KZ', 'SHOPPER_TYP', 'ZABEOTYP', 'GEBAEUDETYP', 'CAMEO_DEUG_2015']\n",
      "***get_dummies finished!\n"
     ]
    }
   ],
   "source": [
    "# Data cleaning\n",
    "# The cleaning function can be modified - rows should not be deleted\n",
    "X_test_LNR = supervised_ready(mailout_test, feat_info_pickle, feat_info)"
   ]
  },
  {
   "cell_type": "code",
   "execution_count": 39,
   "metadata": {},
   "outputs": [
    {
     "name": "stdout",
     "output_type": "stream",
     "text": [
      "(42833, 429) 42833\n"
     ]
    }
   ],
   "source": [
    "X_test = X_test_LNR.drop('LNR', axis=1)\n",
    "LNR = X_test_LNR['LNR'].tolist()\n",
    "\n",
    "print(X_test.shape, len(LNR))"
   ]
  },
  {
   "cell_type": "code",
   "execution_count": 41,
   "metadata": {},
   "outputs": [],
   "source": [
    "model = get_model(clf_xgb)\n",
    "model.fit(X_tr, y_tr)\n",
    "results = model.predict(X_test)"
   ]
  },
  {
   "cell_type": "code",
   "execution_count": 42,
   "metadata": {},
   "outputs": [
    {
     "name": "stdout",
     "output_type": "stream",
     "text": [
      "    LNR  RESPONSE\n",
      "0  1754  0.022407\n",
      "1  1770  0.016826\n",
      "2  1465  0.001442\n",
      "3  1470  0.001189\n",
      "4  1478  0.001695\n"
     ]
    }
   ],
   "source": [
    "results = pd.DataFrame({'RESPONSE':results})\n",
    "results['LNR'] = LNR\n",
    "result = results[['LNR', 'RESPONSE']]\n",
    "print(result.head())"
   ]
  },
  {
   "cell_type": "code",
   "execution_count": 137,
   "metadata": {},
   "outputs": [
    {
     "data": {
      "text/html": [
       "<div>\n",
       "<style scoped>\n",
       "    .dataframe tbody tr th:only-of-type {\n",
       "        vertical-align: middle;\n",
       "    }\n",
       "\n",
       "    .dataframe tbody tr th {\n",
       "        vertical-align: top;\n",
       "    }\n",
       "\n",
       "    .dataframe thead th {\n",
       "        text-align: right;\n",
       "    }\n",
       "</style>\n",
       "<table border=\"1\" class=\"dataframe\">\n",
       "  <thead>\n",
       "    <tr style=\"text-align: right;\">\n",
       "      <th></th>\n",
       "      <th>RESPONSE</th>\n",
       "      <th>LNR</th>\n",
       "    </tr>\n",
       "  </thead>\n",
       "  <tbody>\n",
       "    <tr>\n",
       "      <th>0</th>\n",
       "      <td>0.032386</td>\n",
       "      <td>1754</td>\n",
       "    </tr>\n",
       "    <tr>\n",
       "      <th>1</th>\n",
       "      <td>0.032386</td>\n",
       "      <td>1770</td>\n",
       "    </tr>\n",
       "    <tr>\n",
       "      <th>2</th>\n",
       "      <td>0.002609</td>\n",
       "      <td>1465</td>\n",
       "    </tr>\n",
       "    <tr>\n",
       "      <th>3</th>\n",
       "      <td>0.002609</td>\n",
       "      <td>1470</td>\n",
       "    </tr>\n",
       "    <tr>\n",
       "      <th>4</th>\n",
       "      <td>0.002609</td>\n",
       "      <td>1478</td>\n",
       "    </tr>\n",
       "  </tbody>\n",
       "</table>\n",
       "</div>"
      ],
      "text/plain": [
       "   RESPONSE   LNR\n",
       "0  0.032386  1754\n",
       "1  0.032386  1770\n",
       "2  0.002609  1465\n",
       "3  0.002609  1470\n",
       "4  0.002609  1478"
      ]
     },
     "execution_count": 137,
     "metadata": {},
     "output_type": "execute_result"
    }
   ],
   "source": [
    "# previous result\n",
    "#results.head()"
   ]
  },
  {
   "cell_type": "code",
   "execution_count": 43,
   "metadata": {},
   "outputs": [
    {
     "data": {
      "text/html": [
       "<div>\n",
       "<style scoped>\n",
       "    .dataframe tbody tr th:only-of-type {\n",
       "        vertical-align: middle;\n",
       "    }\n",
       "\n",
       "    .dataframe tbody tr th {\n",
       "        vertical-align: top;\n",
       "    }\n",
       "\n",
       "    .dataframe thead th {\n",
       "        text-align: right;\n",
       "    }\n",
       "</style>\n",
       "<table border=\"1\" class=\"dataframe\">\n",
       "  <thead>\n",
       "    <tr style=\"text-align: right;\">\n",
       "      <th></th>\n",
       "      <th>RESPONSE</th>\n",
       "    </tr>\n",
       "    <tr>\n",
       "      <th>LNR</th>\n",
       "      <th></th>\n",
       "    </tr>\n",
       "  </thead>\n",
       "  <tbody>\n",
       "    <tr>\n",
       "      <th>1754</th>\n",
       "      <td>0.022407</td>\n",
       "    </tr>\n",
       "    <tr>\n",
       "      <th>1770</th>\n",
       "      <td>0.016826</td>\n",
       "    </tr>\n",
       "    <tr>\n",
       "      <th>1465</th>\n",
       "      <td>0.001442</td>\n",
       "    </tr>\n",
       "    <tr>\n",
       "      <th>1470</th>\n",
       "      <td>0.001189</td>\n",
       "    </tr>\n",
       "    <tr>\n",
       "      <th>1478</th>\n",
       "      <td>0.001695</td>\n",
       "    </tr>\n",
       "  </tbody>\n",
       "</table>\n",
       "</div>"
      ],
      "text/plain": [
       "      RESPONSE\n",
       "LNR           \n",
       "1754  0.022407\n",
       "1770  0.016826\n",
       "1465  0.001442\n",
       "1470  0.001189\n",
       "1478  0.001695"
      ]
     },
     "execution_count": 43,
     "metadata": {},
     "output_type": "execute_result"
    }
   ],
   "source": [
    "results = results.set_index('LNR')\n",
    "results.head()"
   ]
  },
  {
   "cell_type": "code",
   "execution_count": 44,
   "metadata": {},
   "outputs": [],
   "source": [
    "results.to_csv('submit.csv')"
   ]
  },
  {
   "cell_type": "code",
   "execution_count": 45,
   "metadata": {},
   "outputs": [
    {
     "data": {
      "text/plain": [
       "(42833, 1)"
      ]
     },
     "execution_count": 45,
     "metadata": {},
     "output_type": "execute_result"
    }
   ],
   "source": [
    "results.shape"
   ]
  },
  {
   "cell_type": "markdown",
   "metadata": {},
   "source": [
    "### Kaggle score: 0.76141"
   ]
  }
 ],
 "metadata": {
  "kernelspec": {
   "display_name": "Python 3",
   "language": "python",
   "name": "python3"
  },
  "language_info": {
   "codemirror_mode": {
    "name": "ipython",
    "version": 3
   },
   "file_extension": ".py",
   "mimetype": "text/x-python",
   "name": "python",
   "nbconvert_exporter": "python",
   "pygments_lexer": "ipython3",
   "version": "3.6.3"
  }
 },
 "nbformat": 4,
 "nbformat_minor": 2
}
